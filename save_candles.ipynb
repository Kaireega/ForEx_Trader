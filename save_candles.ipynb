{
 "cells": [
  {
   "cell_type": "code",
   "execution_count": 14,
   "metadata": {},
   "outputs": [],
   "source": [
    "import requests\n",
    "import defs\n",
    "import pandas as pd"
   ]
  },
  {
   "cell_type": "code",
   "execution_count": 15,
   "metadata": {},
   "outputs": [],
   "source": [
    "session = requests.Session()"
   ]
  },
  {
   "cell_type": "code",
   "execution_count": 16,
   "metadata": {},
   "outputs": [],
   "source": [
    "ins_df = pd.read_pickle(\"instruments.pkl\")"
   ]
  },
  {
   "cell_type": "code",
   "execution_count": 17,
   "metadata": {},
   "outputs": [],
   "source": [
    "our_curr = ['EUR','USD','GBP','JPY','CHF','NZD','CAD']"
   ]
  },
  {
   "cell_type": "code",
   "execution_count": 18,
   "metadata": {},
   "outputs": [],
   "source": [
    "def fetch_candles(pair_name, count, granularity):\n",
    "    url = f\"{defs.OANDA_URL}/instruments/{pair_name}/candles\"\n",
    "    \n",
    "    params = dict(\n",
    "    count = count,\n",
    "    granularity = granularity,\n",
    "    price = \"MBA\"\n",
    "    )\n",
    "    response = session.get(url, params=params, headers=defs.SECURE_HEADER)\n",
    "    return response.status_code, response.json()"
   ]
  },
  {
   "cell_type": "code",
   "execution_count": 19,
   "metadata": {},
   "outputs": [],
   "source": [
    "code, res = fetch_candles(\"EUR_USD\",9,\"H1\")"
   ]
  },
  {
   "cell_type": "code",
   "execution_count": 20,
   "metadata": {},
   "outputs": [
    {
     "data": {
      "text/plain": [
       "{'instrument': 'EUR_USD',\n",
       " 'granularity': 'H1',\n",
       " 'candles': [{'complete': True,\n",
       "   'volume': 3605,\n",
       "   'time': '2024-09-18T16:00:00.000000000Z',\n",
       "   'bid': {'o': '1.11151', 'h': '1.11254', 'l': '1.11148', 'c': '1.11235'},\n",
       "   'mid': {'o': '1.11158', 'h': '1.11262', 'l': '1.11155', 'c': '1.11242'},\n",
       "   'ask': {'o': '1.11166', 'h': '1.11271', 'l': '1.11162', 'c': '1.11250'}},\n",
       "  {'complete': True,\n",
       "   'volume': 4340,\n",
       "   'time': '2024-09-18T17:00:00.000000000Z',\n",
       "   'bid': {'o': '1.11237', 'h': '1.11298', 'l': '1.11164', 'c': '1.11233'},\n",
       "   'mid': {'o': '1.11244', 'h': '1.11306', 'l': '1.11171', 'c': '1.11270'},\n",
       "   'ask': {'o': '1.11251', 'h': '1.11314', 'l': '1.11178', 'c': '1.11308'}},\n",
       "  {'complete': True,\n",
       "   'volume': 26382,\n",
       "   'time': '2024-09-18T18:00:00.000000000Z',\n",
       "   'bid': {'o': '1.11234', 'h': '1.11884', 'l': '1.11230', 'c': '1.11481'},\n",
       "   'mid': {'o': '1.11271', 'h': '1.11892', 'l': '1.11268', 'c': '1.11489'},\n",
       "   'ask': {'o': '1.11308', 'h': '1.11900', 'l': '1.11307', 'c': '1.11497'}},\n",
       "  {'complete': True,\n",
       "   'volume': 19376,\n",
       "   'time': '2024-09-18T19:00:00.000000000Z',\n",
       "   'bid': {'o': '1.11485', 'h': '1.11485', 'l': '1.10959', 'c': '1.11049'},\n",
       "   'mid': {'o': '1.11492', 'h': '1.11492', 'l': '1.10966', 'c': '1.11057'},\n",
       "   'ask': {'o': '1.11500', 'h': '1.11500', 'l': '1.10974', 'c': '1.11065'}},\n",
       "  {'complete': True,\n",
       "   'volume': 3573,\n",
       "   'time': '2024-09-18T20:00:00.000000000Z',\n",
       "   'bid': {'o': '1.11048', 'h': '1.11198', 'l': '1.11038', 'c': '1.11169'},\n",
       "   'mid': {'o': '1.11056', 'h': '1.11205', 'l': '1.11046', 'c': '1.11177'},\n",
       "   'ask': {'o': '1.11063', 'h': '1.11213', 'l': '1.11053', 'c': '1.11185'}},\n",
       "  {'complete': True,\n",
       "   'volume': 416,\n",
       "   'time': '2024-09-18T21:00:00.000000000Z',\n",
       "   'bid': {'o': '1.11122', 'h': '1.11169', 'l': '1.11110', 'c': '1.11154'},\n",
       "   'mid': {'o': '1.11164', 'h': '1.11184', 'l': '1.11146', 'c': '1.11168'},\n",
       "   'ask': {'o': '1.11207', 'h': '1.11209', 'l': '1.11161', 'c': '1.11183'}},\n",
       "  {'complete': True,\n",
       "   'volume': 1427,\n",
       "   'time': '2024-09-18T22:00:00.000000000Z',\n",
       "   'bid': {'o': '1.11156', 'h': '1.11232', 'l': '1.11141', 'c': '1.11211'},\n",
       "   'mid': {'o': '1.11177', 'h': '1.11241', 'l': '1.11150', 'c': '1.11218'},\n",
       "   'ask': {'o': '1.11198', 'h': '1.11250', 'l': '1.11160', 'c': '1.11225'}},\n",
       "  {'complete': True,\n",
       "   'volume': 1733,\n",
       "   'time': '2024-09-18T23:00:00.000000000Z',\n",
       "   'bid': {'o': '1.11213', 'h': '1.11213', 'l': '1.11103', 'c': '1.11132'},\n",
       "   'mid': {'o': '1.11220', 'h': '1.11220', 'l': '1.11112', 'c': '1.11140'},\n",
       "   'ask': {'o': '1.11227', 'h': '1.11227', 'l': '1.11119', 'c': '1.11147'}},\n",
       "  {'complete': False,\n",
       "   'volume': 669,\n",
       "   'time': '2024-09-19T00:00:00.000000000Z',\n",
       "   'bid': {'o': '1.11133', 'h': '1.11159', 'l': '1.11099', 'c': '1.11130'},\n",
       "   'mid': {'o': '1.11142', 'h': '1.11168', 'l': '1.11108', 'c': '1.11138'},\n",
       "   'ask': {'o': '1.11150', 'h': '1.11176', 'l': '1.11116', 'c': '1.11146'}}]}"
      ]
     },
     "execution_count": 20,
     "metadata": {},
     "output_type": "execute_result"
    }
   ],
   "source": [
    "res"
   ]
  },
  {
   "cell_type": "code",
   "execution_count": 21,
   "metadata": {},
   "outputs": [
    {
     "data": {
      "text/plain": [
       "200"
      ]
     },
     "execution_count": 21,
     "metadata": {},
     "output_type": "execute_result"
    }
   ],
   "source": [
    "code"
   ]
  },
  {
   "cell_type": "code",
   "execution_count": 22,
   "metadata": {},
   "outputs": [],
   "source": [
    "def get_candles_df(json_response):\n",
    "    \n",
    "    prices = ['mid','bid','ask']\n",
    "    ohlc = ['o','h','l','c']\n",
    "    our_data = []\n",
    "    for candle in json_response['candles']:\n",
    "        if candle['complete'] == False:\n",
    "            continue\n",
    "        new_dict = {}\n",
    "        new_dict['time'] = candle['time']\n",
    "        new_dict['volume'] = candle['volume']\n",
    "        for price in prices:\n",
    "            for oh in ohlc:\n",
    "                new_dict[f\"{price}_{oh}\"] = candle[price][oh]\n",
    "        our_data.append(new_dict)\n",
    "    return pd.DataFrame.from_dict(our_data)\n"
   ]
  },
  {
   "cell_type": "code",
   "execution_count": 23,
   "metadata": {},
   "outputs": [
    {
     "data": {
      "text/html": [
       "<div>\n",
       "<style scoped>\n",
       "    .dataframe tbody tr th:only-of-type {\n",
       "        vertical-align: middle;\n",
       "    }\n",
       "\n",
       "    .dataframe tbody tr th {\n",
       "        vertical-align: top;\n",
       "    }\n",
       "\n",
       "    .dataframe thead th {\n",
       "        text-align: right;\n",
       "    }\n",
       "</style>\n",
       "<table border=\"1\" class=\"dataframe\">\n",
       "  <thead>\n",
       "    <tr style=\"text-align: right;\">\n",
       "      <th></th>\n",
       "      <th>time</th>\n",
       "      <th>volume</th>\n",
       "      <th>mid_o</th>\n",
       "      <th>mid_h</th>\n",
       "      <th>mid_l</th>\n",
       "      <th>mid_c</th>\n",
       "      <th>bid_o</th>\n",
       "      <th>bid_h</th>\n",
       "      <th>bid_l</th>\n",
       "      <th>bid_c</th>\n",
       "      <th>ask_o</th>\n",
       "      <th>ask_h</th>\n",
       "      <th>ask_l</th>\n",
       "      <th>ask_c</th>\n",
       "    </tr>\n",
       "  </thead>\n",
       "  <tbody>\n",
       "    <tr>\n",
       "      <th>0</th>\n",
       "      <td>2024-09-18T16:00:00.000000000Z</td>\n",
       "      <td>3605</td>\n",
       "      <td>1.11158</td>\n",
       "      <td>1.11262</td>\n",
       "      <td>1.11155</td>\n",
       "      <td>1.11242</td>\n",
       "      <td>1.11151</td>\n",
       "      <td>1.11254</td>\n",
       "      <td>1.11148</td>\n",
       "      <td>1.11235</td>\n",
       "      <td>1.11166</td>\n",
       "      <td>1.11271</td>\n",
       "      <td>1.11162</td>\n",
       "      <td>1.11250</td>\n",
       "    </tr>\n",
       "    <tr>\n",
       "      <th>1</th>\n",
       "      <td>2024-09-18T17:00:00.000000000Z</td>\n",
       "      <td>4340</td>\n",
       "      <td>1.11244</td>\n",
       "      <td>1.11306</td>\n",
       "      <td>1.11171</td>\n",
       "      <td>1.11270</td>\n",
       "      <td>1.11237</td>\n",
       "      <td>1.11298</td>\n",
       "      <td>1.11164</td>\n",
       "      <td>1.11233</td>\n",
       "      <td>1.11251</td>\n",
       "      <td>1.11314</td>\n",
       "      <td>1.11178</td>\n",
       "      <td>1.11308</td>\n",
       "    </tr>\n",
       "    <tr>\n",
       "      <th>2</th>\n",
       "      <td>2024-09-18T18:00:00.000000000Z</td>\n",
       "      <td>26382</td>\n",
       "      <td>1.11271</td>\n",
       "      <td>1.11892</td>\n",
       "      <td>1.11268</td>\n",
       "      <td>1.11489</td>\n",
       "      <td>1.11234</td>\n",
       "      <td>1.11884</td>\n",
       "      <td>1.11230</td>\n",
       "      <td>1.11481</td>\n",
       "      <td>1.11308</td>\n",
       "      <td>1.11900</td>\n",
       "      <td>1.11307</td>\n",
       "      <td>1.11497</td>\n",
       "    </tr>\n",
       "    <tr>\n",
       "      <th>3</th>\n",
       "      <td>2024-09-18T19:00:00.000000000Z</td>\n",
       "      <td>19376</td>\n",
       "      <td>1.11492</td>\n",
       "      <td>1.11492</td>\n",
       "      <td>1.10966</td>\n",
       "      <td>1.11057</td>\n",
       "      <td>1.11485</td>\n",
       "      <td>1.11485</td>\n",
       "      <td>1.10959</td>\n",
       "      <td>1.11049</td>\n",
       "      <td>1.11500</td>\n",
       "      <td>1.11500</td>\n",
       "      <td>1.10974</td>\n",
       "      <td>1.11065</td>\n",
       "    </tr>\n",
       "    <tr>\n",
       "      <th>4</th>\n",
       "      <td>2024-09-18T20:00:00.000000000Z</td>\n",
       "      <td>3573</td>\n",
       "      <td>1.11056</td>\n",
       "      <td>1.11205</td>\n",
       "      <td>1.11046</td>\n",
       "      <td>1.11177</td>\n",
       "      <td>1.11048</td>\n",
       "      <td>1.11198</td>\n",
       "      <td>1.11038</td>\n",
       "      <td>1.11169</td>\n",
       "      <td>1.11063</td>\n",
       "      <td>1.11213</td>\n",
       "      <td>1.11053</td>\n",
       "      <td>1.11185</td>\n",
       "    </tr>\n",
       "    <tr>\n",
       "      <th>5</th>\n",
       "      <td>2024-09-18T21:00:00.000000000Z</td>\n",
       "      <td>416</td>\n",
       "      <td>1.11164</td>\n",
       "      <td>1.11184</td>\n",
       "      <td>1.11146</td>\n",
       "      <td>1.11168</td>\n",
       "      <td>1.11122</td>\n",
       "      <td>1.11169</td>\n",
       "      <td>1.11110</td>\n",
       "      <td>1.11154</td>\n",
       "      <td>1.11207</td>\n",
       "      <td>1.11209</td>\n",
       "      <td>1.11161</td>\n",
       "      <td>1.11183</td>\n",
       "    </tr>\n",
       "    <tr>\n",
       "      <th>6</th>\n",
       "      <td>2024-09-18T22:00:00.000000000Z</td>\n",
       "      <td>1427</td>\n",
       "      <td>1.11177</td>\n",
       "      <td>1.11241</td>\n",
       "      <td>1.11150</td>\n",
       "      <td>1.11218</td>\n",
       "      <td>1.11156</td>\n",
       "      <td>1.11232</td>\n",
       "      <td>1.11141</td>\n",
       "      <td>1.11211</td>\n",
       "      <td>1.11198</td>\n",
       "      <td>1.11250</td>\n",
       "      <td>1.11160</td>\n",
       "      <td>1.11225</td>\n",
       "    </tr>\n",
       "    <tr>\n",
       "      <th>7</th>\n",
       "      <td>2024-09-18T23:00:00.000000000Z</td>\n",
       "      <td>1733</td>\n",
       "      <td>1.11220</td>\n",
       "      <td>1.11220</td>\n",
       "      <td>1.11112</td>\n",
       "      <td>1.11140</td>\n",
       "      <td>1.11213</td>\n",
       "      <td>1.11213</td>\n",
       "      <td>1.11103</td>\n",
       "      <td>1.11132</td>\n",
       "      <td>1.11227</td>\n",
       "      <td>1.11227</td>\n",
       "      <td>1.11119</td>\n",
       "      <td>1.11147</td>\n",
       "    </tr>\n",
       "  </tbody>\n",
       "</table>\n",
       "</div>"
      ],
      "text/plain": [
       "                             time  volume    mid_o    mid_h    mid_l    mid_c  \\\n",
       "0  2024-09-18T16:00:00.000000000Z    3605  1.11158  1.11262  1.11155  1.11242   \n",
       "1  2024-09-18T17:00:00.000000000Z    4340  1.11244  1.11306  1.11171  1.11270   \n",
       "2  2024-09-18T18:00:00.000000000Z   26382  1.11271  1.11892  1.11268  1.11489   \n",
       "3  2024-09-18T19:00:00.000000000Z   19376  1.11492  1.11492  1.10966  1.11057   \n",
       "4  2024-09-18T20:00:00.000000000Z    3573  1.11056  1.11205  1.11046  1.11177   \n",
       "5  2024-09-18T21:00:00.000000000Z     416  1.11164  1.11184  1.11146  1.11168   \n",
       "6  2024-09-18T22:00:00.000000000Z    1427  1.11177  1.11241  1.11150  1.11218   \n",
       "7  2024-09-18T23:00:00.000000000Z    1733  1.11220  1.11220  1.11112  1.11140   \n",
       "\n",
       "     bid_o    bid_h    bid_l    bid_c    ask_o    ask_h    ask_l    ask_c  \n",
       "0  1.11151  1.11254  1.11148  1.11235  1.11166  1.11271  1.11162  1.11250  \n",
       "1  1.11237  1.11298  1.11164  1.11233  1.11251  1.11314  1.11178  1.11308  \n",
       "2  1.11234  1.11884  1.11230  1.11481  1.11308  1.11900  1.11307  1.11497  \n",
       "3  1.11485  1.11485  1.10959  1.11049  1.11500  1.11500  1.10974  1.11065  \n",
       "4  1.11048  1.11198  1.11038  1.11169  1.11063  1.11213  1.11053  1.11185  \n",
       "5  1.11122  1.11169  1.11110  1.11154  1.11207  1.11209  1.11161  1.11183  \n",
       "6  1.11156  1.11232  1.11141  1.11211  1.11198  1.11250  1.11160  1.11225  \n",
       "7  1.11213  1.11213  1.11103  1.11132  1.11227  1.11227  1.11119  1.11147  "
      ]
     },
     "execution_count": 23,
     "metadata": {},
     "output_type": "execute_result"
    }
   ],
   "source": [
    "get_candles_df(res)"
   ]
  },
  {
   "cell_type": "code",
   "execution_count": 24,
   "metadata": {},
   "outputs": [],
   "source": [
    "def save_file(candles_df,pair,granularity):\n",
    "    candles_df.to_pickle(f'his_data/{pair}_{granularity}.pkl')"
   ]
  },
  {
   "cell_type": "code",
   "execution_count": 25,
   "metadata": {},
   "outputs": [],
   "source": [
    "def create_data(pair,granularity):\n",
    "    code ,json_data = fetch_candles(pair,4000,granularity)\n",
    "    if code != 200:\n",
    "        print(pair,\"Error\")\n",
    "        return\n",
    "    df = get_candles_df(json_data)\n",
    "    print(f\"{pair} loaded {df.shape[0]} candles from {df.time.min()} to {df.time.max()}\")\n",
    "    save_file(df,pair, granularity)"
   ]
  },
  {
   "cell_type": "code",
   "execution_count": null,
   "metadata": {},
   "outputs": [],
   "source": []
  },
  {
   "cell_type": "code",
   "execution_count": null,
   "metadata": {},
   "outputs": [],
   "source": []
  },
  {
   "cell_type": "code",
   "execution_count": 26,
   "metadata": {},
   "outputs": [
    {
     "name": "stdout",
     "output_type": "stream",
     "text": [
      "EUR_USD loaded 3999 candles from 2024-01-30T08:00:00.000000000Z to 2024-09-18T23:00:00.000000000Z\n",
      "EUR_GBP loaded 3999 candles from 2024-01-30T08:00:00.000000000Z to 2024-09-18T23:00:00.000000000Z\n",
      "EUR_JPY loaded 3999 candles from 2024-01-30T08:00:00.000000000Z to 2024-09-18T23:00:00.000000000Z\n",
      "EUR_CHF loaded 3999 candles from 2024-01-30T08:00:00.000000000Z to 2024-09-18T23:00:00.000000000Z\n",
      "EUR_NZD loaded 3999 candles from 2024-01-30T08:00:00.000000000Z to 2024-09-18T23:00:00.000000000Z\n",
      "EUR_CAD loaded 3999 candles from 2024-01-30T08:00:00.000000000Z to 2024-09-18T23:00:00.000000000Z\n",
      "USD_JPY loaded 3999 candles from 2024-01-30T08:00:00.000000000Z to 2024-09-18T23:00:00.000000000Z\n",
      "USD_CHF loaded 3999 candles from 2024-01-30T08:00:00.000000000Z to 2024-09-18T23:00:00.000000000Z\n",
      "USD_CAD loaded 3999 candles from 2024-01-30T08:00:00.000000000Z to 2024-09-18T23:00:00.000000000Z\n",
      "GBP_USD loaded 3999 candles from 2024-01-30T08:00:00.000000000Z to 2024-09-18T23:00:00.000000000Z\n",
      "GBP_JPY loaded 3999 candles from 2024-01-30T08:00:00.000000000Z to 2024-09-18T23:00:00.000000000Z\n",
      "GBP_CHF loaded 3999 candles from 2024-01-30T08:00:00.000000000Z to 2024-09-18T23:00:00.000000000Z\n",
      "GBP_NZD loaded 3999 candles from 2024-01-30T08:00:00.000000000Z to 2024-09-18T23:00:00.000000000Z\n",
      "GBP_CAD loaded 3999 candles from 2024-01-30T08:00:00.000000000Z to 2024-09-18T23:00:00.000000000Z\n",
      "CHF_JPY loaded 3999 candles from 2024-01-30T08:00:00.000000000Z to 2024-09-18T23:00:00.000000000Z\n",
      "NZD_USD loaded 3999 candles from 2024-01-30T07:00:00.000000000Z to 2024-09-18T23:00:00.000000000Z\n",
      "NZD_JPY loaded 3999 candles from 2024-01-30T08:00:00.000000000Z to 2024-09-18T23:00:00.000000000Z\n",
      "NZD_CHF loaded 3999 candles from 2024-01-30T07:00:00.000000000Z to 2024-09-18T23:00:00.000000000Z\n",
      "NZD_CAD loaded 3999 candles from 2024-01-30T08:00:00.000000000Z to 2024-09-18T23:00:00.000000000Z\n",
      "CAD_JPY loaded 3999 candles from 2024-01-30T08:00:00.000000000Z to 2024-09-18T23:00:00.000000000Z\n",
      "CAD_CHF loaded 3999 candles from 2024-01-30T08:00:00.000000000Z to 2024-09-18T23:00:00.000000000Z\n"
     ]
    }
   ],
   "source": [
    "for p1 in our_curr:\n",
    "    for p2 in our_curr:\n",
    "        pair =  f\"{p1}_{p2}\"\n",
    "        if pair in ins_df.name.unique():\n",
    "          create_data(pair,\"H1\")"
   ]
  },
  {
   "cell_type": "code",
   "execution_count": null,
   "metadata": {},
   "outputs": [],
   "source": []
  },
  {
   "cell_type": "code",
   "execution_count": null,
   "metadata": {},
   "outputs": [],
   "source": []
  },
  {
   "cell_type": "code",
   "execution_count": null,
   "metadata": {},
   "outputs": [],
   "source": []
  },
  {
   "cell_type": "code",
   "execution_count": null,
   "metadata": {},
   "outputs": [],
   "source": []
  },
  {
   "cell_type": "code",
   "execution_count": 27,
   "metadata": {},
   "outputs": [
    {
     "data": {
      "text/plain": [
       "68"
      ]
     },
     "execution_count": 27,
     "metadata": {},
     "output_type": "execute_result"
    }
   ],
   "source": [
    "ins_df.shape[0]"
   ]
  },
  {
   "cell_type": "code",
   "execution_count": 28,
   "metadata": {},
   "outputs": [
    {
     "data": {
      "text/html": [
       "<div>\n",
       "<style scoped>\n",
       "    .dataframe tbody tr th:only-of-type {\n",
       "        vertical-align: middle;\n",
       "    }\n",
       "\n",
       "    .dataframe tbody tr th {\n",
       "        vertical-align: top;\n",
       "    }\n",
       "\n",
       "    .dataframe thead th {\n",
       "        text-align: right;\n",
       "    }\n",
       "</style>\n",
       "<table border=\"1\" class=\"dataframe\">\n",
       "  <thead>\n",
       "    <tr style=\"text-align: right;\">\n",
       "      <th></th>\n",
       "      <th>name</th>\n",
       "      <th>type</th>\n",
       "      <th>displayName</th>\n",
       "      <th>pipLocation</th>\n",
       "      <th>marginRate</th>\n",
       "    </tr>\n",
       "  </thead>\n",
       "  <tbody>\n",
       "    <tr>\n",
       "      <th>0</th>\n",
       "      <td>USD_CNH</td>\n",
       "      <td>CURRENCY</td>\n",
       "      <td>USD/CNH</td>\n",
       "      <td>-4</td>\n",
       "      <td>0.05</td>\n",
       "    </tr>\n",
       "    <tr>\n",
       "      <th>1</th>\n",
       "      <td>NZD_CAD</td>\n",
       "      <td>CURRENCY</td>\n",
       "      <td>NZD/CAD</td>\n",
       "      <td>-4</td>\n",
       "      <td>0.03</td>\n",
       "    </tr>\n",
       "    <tr>\n",
       "      <th>2</th>\n",
       "      <td>EUR_CHF</td>\n",
       "      <td>CURRENCY</td>\n",
       "      <td>EUR/CHF</td>\n",
       "      <td>-4</td>\n",
       "      <td>0.04</td>\n",
       "    </tr>\n",
       "    <tr>\n",
       "      <th>3</th>\n",
       "      <td>SGD_CHF</td>\n",
       "      <td>CURRENCY</td>\n",
       "      <td>SGD/CHF</td>\n",
       "      <td>-4</td>\n",
       "      <td>0.05</td>\n",
       "    </tr>\n",
       "    <tr>\n",
       "      <th>4</th>\n",
       "      <td>EUR_CZK</td>\n",
       "      <td>CURRENCY</td>\n",
       "      <td>EUR/CZK</td>\n",
       "      <td>-4</td>\n",
       "      <td>0.05</td>\n",
       "    </tr>\n",
       "    <tr>\n",
       "      <th>...</th>\n",
       "      <td>...</td>\n",
       "      <td>...</td>\n",
       "      <td>...</td>\n",
       "      <td>...</td>\n",
       "      <td>...</td>\n",
       "    </tr>\n",
       "    <tr>\n",
       "      <th>63</th>\n",
       "      <td>USD_SEK</td>\n",
       "      <td>CURRENCY</td>\n",
       "      <td>USD/SEK</td>\n",
       "      <td>-4</td>\n",
       "      <td>0.03</td>\n",
       "    </tr>\n",
       "    <tr>\n",
       "      <th>64</th>\n",
       "      <td>GBP_SGD</td>\n",
       "      <td>CURRENCY</td>\n",
       "      <td>GBP/SGD</td>\n",
       "      <td>-4</td>\n",
       "      <td>0.05</td>\n",
       "    </tr>\n",
       "    <tr>\n",
       "      <th>65</th>\n",
       "      <td>EUR_PLN</td>\n",
       "      <td>CURRENCY</td>\n",
       "      <td>EUR/PLN</td>\n",
       "      <td>-4</td>\n",
       "      <td>0.05</td>\n",
       "    </tr>\n",
       "    <tr>\n",
       "      <th>66</th>\n",
       "      <td>HKD_JPY</td>\n",
       "      <td>CURRENCY</td>\n",
       "      <td>HKD/JPY</td>\n",
       "      <td>-4</td>\n",
       "      <td>0.1</td>\n",
       "    </tr>\n",
       "    <tr>\n",
       "      <th>67</th>\n",
       "      <td>EUR_HUF</td>\n",
       "      <td>CURRENCY</td>\n",
       "      <td>EUR/HUF</td>\n",
       "      <td>-2</td>\n",
       "      <td>0.05</td>\n",
       "    </tr>\n",
       "  </tbody>\n",
       "</table>\n",
       "<p>68 rows × 5 columns</p>\n",
       "</div>"
      ],
      "text/plain": [
       "       name      type displayName  pipLocation marginRate\n",
       "0   USD_CNH  CURRENCY     USD/CNH           -4       0.05\n",
       "1   NZD_CAD  CURRENCY     NZD/CAD           -4       0.03\n",
       "2   EUR_CHF  CURRENCY     EUR/CHF           -4       0.04\n",
       "3   SGD_CHF  CURRENCY     SGD/CHF           -4       0.05\n",
       "4   EUR_CZK  CURRENCY     EUR/CZK           -4       0.05\n",
       "..      ...       ...         ...          ...        ...\n",
       "63  USD_SEK  CURRENCY     USD/SEK           -4       0.03\n",
       "64  GBP_SGD  CURRENCY     GBP/SGD           -4       0.05\n",
       "65  EUR_PLN  CURRENCY     EUR/PLN           -4       0.05\n",
       "66  HKD_JPY  CURRENCY     HKD/JPY           -4        0.1\n",
       "67  EUR_HUF  CURRENCY     EUR/HUF           -2       0.05\n",
       "\n",
       "[68 rows x 5 columns]"
      ]
     },
     "execution_count": 28,
     "metadata": {},
     "output_type": "execute_result"
    }
   ],
   "source": [
    "ins_df"
   ]
  },
  {
   "cell_type": "code",
   "execution_count": 29,
   "metadata": {},
   "outputs": [
    {
     "name": "stdout",
     "output_type": "stream",
     "text": [
      "<class 'pandas.core.frame.DataFrame'>\n",
      "RangeIndex: 68 entries, 0 to 67\n",
      "Data columns (total 5 columns):\n",
      " #   Column       Non-Null Count  Dtype \n",
      "---  ------       --------------  ----- \n",
      " 0   name         68 non-null     object\n",
      " 1   type         68 non-null     object\n",
      " 2   displayName  68 non-null     object\n",
      " 3   pipLocation  68 non-null     int64 \n",
      " 4   marginRate   68 non-null     object\n",
      "dtypes: int64(1), object(4)\n",
      "memory usage: 2.8+ KB\n"
     ]
    }
   ],
   "source": [
    "ins_df.info()\n"
   ]
  },
  {
   "cell_type": "code",
   "execution_count": 30,
   "metadata": {},
   "outputs": [
    {
     "data": {
      "text/plain": [
       "Index(['name', 'type', 'displayName', 'pipLocation', 'marginRate'], dtype='object')"
      ]
     },
     "execution_count": 30,
     "metadata": {},
     "output_type": "execute_result"
    }
   ],
   "source": [
    "ins_df.columns\n"
   ]
  },
  {
   "cell_type": "code",
   "execution_count": 31,
   "metadata": {},
   "outputs": [
    {
     "data": {
      "text/plain": [
       "0     USD_CNH\n",
       "1     NZD_CAD\n",
       "2     EUR_CHF\n",
       "3     SGD_CHF\n",
       "4     EUR_CZK\n",
       "       ...   \n",
       "63    USD_SEK\n",
       "64    GBP_SGD\n",
       "65    EUR_PLN\n",
       "66    HKD_JPY\n",
       "67    EUR_HUF\n",
       "Name: name, Length: 68, dtype: object"
      ]
     },
     "execution_count": 31,
     "metadata": {},
     "output_type": "execute_result"
    }
   ],
   "source": [
    "ins_df.name"
   ]
  },
  {
   "cell_type": "code",
   "execution_count": 32,
   "metadata": {},
   "outputs": [
    {
     "data": {
      "text/plain": [
       "<bound method Series.unique of 0     USD_CNH\n",
       "1     NZD_CAD\n",
       "2     EUR_CHF\n",
       "3     SGD_CHF\n",
       "4     EUR_CZK\n",
       "       ...   \n",
       "63    USD_SEK\n",
       "64    GBP_SGD\n",
       "65    EUR_PLN\n",
       "66    HKD_JPY\n",
       "67    EUR_HUF\n",
       "Name: name, Length: 68, dtype: object>"
      ]
     },
     "execution_count": 32,
     "metadata": {},
     "output_type": "execute_result"
    }
   ],
   "source": [
    "ins_df.name.unique"
   ]
  },
  {
   "cell_type": "code",
   "execution_count": null,
   "metadata": {},
   "outputs": [],
   "source": []
  },
  {
   "cell_type": "code",
   "execution_count": null,
   "metadata": {},
   "outputs": [],
   "source": []
  },
  {
   "cell_type": "code",
   "execution_count": null,
   "metadata": {},
   "outputs": [],
   "source": []
  },
  {
   "cell_type": "code",
   "execution_count": null,
   "metadata": {},
   "outputs": [],
   "source": []
  },
  {
   "cell_type": "code",
   "execution_count": null,
   "metadata": {},
   "outputs": [],
   "source": []
  }
 ],
 "metadata": {
  "kernelspec": {
   "display_name": ".venv",
   "language": "python",
   "name": "python3"
  },
  "language_info": {
   "codemirror_mode": {
    "name": "ipython",
    "version": 3
   },
   "file_extension": ".py",
   "mimetype": "text/x-python",
   "name": "python",
   "nbconvert_exporter": "python",
   "pygments_lexer": "ipython3",
   "version": "3.12.6"
  }
 },
 "nbformat": 4,
 "nbformat_minor": 2
}
