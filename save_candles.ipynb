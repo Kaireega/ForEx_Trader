{
 "cells": [
  {
   "cell_type": "code",
   "execution_count": 1,
   "metadata": {},
   "outputs": [],
   "source": [
    "import requests\n",
    "import defs\n",
    "import pandas as pd"
   ]
  },
  {
   "cell_type": "code",
   "execution_count": 2,
   "metadata": {},
   "outputs": [],
   "source": [
    "session = requests.Session()"
   ]
  },
  {
   "cell_type": "code",
   "execution_count": 3,
   "metadata": {},
   "outputs": [],
   "source": [
    "ins_df = pd.read_pickle(\"instruments.pkl\")"
   ]
  },
  {
   "cell_type": "code",
   "execution_count": 4,
   "metadata": {},
   "outputs": [],
   "source": [
    "our_curr = ['EUR','USD','GBP','JPY','CHF','NZD','CAD']"
   ]
  },
  {
   "cell_type": "code",
   "execution_count": 5,
   "metadata": {},
   "outputs": [],
   "source": [
    "def fetch_candles(pair_name, count, granularity):\n",
    "    url = f\"{defs.OANDA_URL}/instruments/{pair_name}/candles\"\n",
    "    \n",
    "    params = dict(\n",
    "    count = count,\n",
    "    granularity = granularity,\n",
    "    price = \"MBA\"\n",
    "    )\n",
    "    response = session.get(url, params=params, headers=defs.SECURE_HEADER)\n",
    "    return response.status_code, response.json()"
   ]
  },
  {
   "cell_type": "code",
   "execution_count": 6,
   "metadata": {},
   "outputs": [],
   "source": [
    "code, res = fetch_candles(\"EUR_USD\",9,\"H1\")"
   ]
  },
  {
   "cell_type": "code",
   "execution_count": 7,
   "metadata": {},
   "outputs": [
    {
     "data": {
      "text/plain": [
       "{'instrument': 'EUR_USD',\n",
       " 'granularity': 'H1',\n",
       " 'candles': [{'complete': True,\n",
       "   'volume': 3943,\n",
       "   'time': '2024-09-24T11:00:00.000000000Z',\n",
       "   'bid': {'o': '1.11274', 'h': '1.11291', 'l': '1.11214', 'c': '1.11285'},\n",
       "   'mid': {'o': '1.11282', 'h': '1.11299', 'l': '1.11221', 'c': '1.11292'},\n",
       "   'ask': {'o': '1.11290', 'h': '1.11307', 'l': '1.11228', 'c': '1.11299'}},\n",
       "  {'complete': True,\n",
       "   'volume': 6076,\n",
       "   'time': '2024-09-24T12:00:00.000000000Z',\n",
       "   'bid': {'o': '1.11285', 'h': '1.11471', 'l': '1.11285', 'c': '1.11402'},\n",
       "   'mid': {'o': '1.11292', 'h': '1.11478', 'l': '1.11292', 'c': '1.11410'},\n",
       "   'ask': {'o': '1.11300', 'h': '1.11486', 'l': '1.11300', 'c': '1.11417'}},\n",
       "  {'complete': True,\n",
       "   'volume': 6434,\n",
       "   'time': '2024-09-24T13:00:00.000000000Z',\n",
       "   'bid': {'o': '1.11399', 'h': '1.11436', 'l': '1.11317', 'c': '1.11386'},\n",
       "   'mid': {'o': '1.11407', 'h': '1.11444', 'l': '1.11324', 'c': '1.11396'},\n",
       "   'ask': {'o': '1.11415', 'h': '1.11452', 'l': '1.11332', 'c': '1.11407'}},\n",
       "  {'complete': True,\n",
       "   'volume': 9938,\n",
       "   'time': '2024-09-24T14:00:00.000000000Z',\n",
       "   'bid': {'o': '1.11387', 'h': '1.11627', 'l': '1.11381', 'c': '1.11500'},\n",
       "   'mid': {'o': '1.11396', 'h': '1.11635', 'l': '1.11389', 'c': '1.11508'},\n",
       "   'ask': {'o': '1.11406', 'h': '1.11643', 'l': '1.11397', 'c': '1.11515'}},\n",
       "  {'complete': True,\n",
       "   'volume': 5920,\n",
       "   'time': '2024-09-24T15:00:00.000000000Z',\n",
       "   'bid': {'o': '1.11501', 'h': '1.11556', 'l': '1.11459', 'c': '1.11490'},\n",
       "   'mid': {'o': '1.11509', 'h': '1.11564', 'l': '1.11468', 'c': '1.11498'},\n",
       "   'ask': {'o': '1.11517', 'h': '1.11572', 'l': '1.11476', 'c': '1.11506'}},\n",
       "  {'complete': True,\n",
       "   'volume': 4250,\n",
       "   'time': '2024-09-24T16:00:00.000000000Z',\n",
       "   'bid': {'o': '1.11490', 'h': '1.11613', 'l': '1.11485', 'c': '1.11578'},\n",
       "   'mid': {'o': '1.11498', 'h': '1.11620', 'l': '1.11493', 'c': '1.11586'},\n",
       "   'ask': {'o': '1.11507', 'h': '1.11628', 'l': '1.11501', 'c': '1.11593'}},\n",
       "  {'complete': True,\n",
       "   'volume': 3116,\n",
       "   'time': '2024-09-24T17:00:00.000000000Z',\n",
       "   'bid': {'o': '1.11577', 'h': '1.11630', 'l': '1.11540', 'c': '1.11619'},\n",
       "   'mid': {'o': '1.11585', 'h': '1.11638', 'l': '1.11548', 'c': '1.11626'},\n",
       "   'ask': {'o': '1.11593', 'h': '1.11647', 'l': '1.11555', 'c': '1.11634'}},\n",
       "  {'complete': True,\n",
       "   'volume': 3226,\n",
       "   'time': '2024-09-24T18:00:00.000000000Z',\n",
       "   'bid': {'o': '1.11620', 'h': '1.11663', 'l': '1.11591', 'c': '1.11655'},\n",
       "   'mid': {'o': '1.11628', 'h': '1.11670', 'l': '1.11598', 'c': '1.11662'},\n",
       "   'ask': {'o': '1.11636', 'h': '1.11678', 'l': '1.11606', 'c': '1.11670'}},\n",
       "  {'complete': False,\n",
       "   'volume': 2340,\n",
       "   'time': '2024-09-24T19:00:00.000000000Z',\n",
       "   'bid': {'o': '1.11656', 'h': '1.11746', 'l': '1.11643', 'c': '1.11730'},\n",
       "   'mid': {'o': '1.11663', 'h': '1.11754', 'l': '1.11650', 'c': '1.11738'},\n",
       "   'ask': {'o': '1.11670', 'h': '1.11761', 'l': '1.11658', 'c': '1.11746'}}]}"
      ]
     },
     "execution_count": 7,
     "metadata": {},
     "output_type": "execute_result"
    }
   ],
   "source": [
    "res"
   ]
  },
  {
   "cell_type": "code",
   "execution_count": 8,
   "metadata": {},
   "outputs": [
    {
     "data": {
      "text/plain": [
       "200"
      ]
     },
     "execution_count": 8,
     "metadata": {},
     "output_type": "execute_result"
    }
   ],
   "source": [
    "code"
   ]
  },
  {
   "cell_type": "code",
   "execution_count": 9,
   "metadata": {},
   "outputs": [],
   "source": [
    "def get_candles_df(json_response):\n",
    "    \n",
    "    prices = ['mid','bid','ask']\n",
    "    ohlc = ['o','h','l','c']\n",
    "    our_data = []\n",
    "    for candle in json_response['candles']:\n",
    "        if candle['complete'] == False:\n",
    "            continue\n",
    "        new_dict = {}\n",
    "        new_dict['time'] = candle['time']\n",
    "        new_dict['volume'] = candle['volume']\n",
    "        for price in prices:\n",
    "            for oh in ohlc:\n",
    "                new_dict[f\"{price}_{oh}\"] = candle[price][oh]\n",
    "        our_data.append(new_dict)\n",
    "    return pd.DataFrame.from_dict(our_data)\n"
   ]
  },
  {
   "cell_type": "code",
   "execution_count": 10,
   "metadata": {},
   "outputs": [
    {
     "data": {
      "text/html": [
       "<div>\n",
       "<style scoped>\n",
       "    .dataframe tbody tr th:only-of-type {\n",
       "        vertical-align: middle;\n",
       "    }\n",
       "\n",
       "    .dataframe tbody tr th {\n",
       "        vertical-align: top;\n",
       "    }\n",
       "\n",
       "    .dataframe thead th {\n",
       "        text-align: right;\n",
       "    }\n",
       "</style>\n",
       "<table border=\"1\" class=\"dataframe\">\n",
       "  <thead>\n",
       "    <tr style=\"text-align: right;\">\n",
       "      <th></th>\n",
       "      <th>time</th>\n",
       "      <th>volume</th>\n",
       "      <th>mid_o</th>\n",
       "      <th>mid_h</th>\n",
       "      <th>mid_l</th>\n",
       "      <th>mid_c</th>\n",
       "      <th>bid_o</th>\n",
       "      <th>bid_h</th>\n",
       "      <th>bid_l</th>\n",
       "      <th>bid_c</th>\n",
       "      <th>ask_o</th>\n",
       "      <th>ask_h</th>\n",
       "      <th>ask_l</th>\n",
       "      <th>ask_c</th>\n",
       "    </tr>\n",
       "  </thead>\n",
       "  <tbody>\n",
       "    <tr>\n",
       "      <th>0</th>\n",
       "      <td>2024-09-24T11:00:00.000000000Z</td>\n",
       "      <td>3943</td>\n",
       "      <td>1.11282</td>\n",
       "      <td>1.11299</td>\n",
       "      <td>1.11221</td>\n",
       "      <td>1.11292</td>\n",
       "      <td>1.11274</td>\n",
       "      <td>1.11291</td>\n",
       "      <td>1.11214</td>\n",
       "      <td>1.11285</td>\n",
       "      <td>1.11290</td>\n",
       "      <td>1.11307</td>\n",
       "      <td>1.11228</td>\n",
       "      <td>1.11299</td>\n",
       "    </tr>\n",
       "    <tr>\n",
       "      <th>1</th>\n",
       "      <td>2024-09-24T12:00:00.000000000Z</td>\n",
       "      <td>6076</td>\n",
       "      <td>1.11292</td>\n",
       "      <td>1.11478</td>\n",
       "      <td>1.11292</td>\n",
       "      <td>1.11410</td>\n",
       "      <td>1.11285</td>\n",
       "      <td>1.11471</td>\n",
       "      <td>1.11285</td>\n",
       "      <td>1.11402</td>\n",
       "      <td>1.11300</td>\n",
       "      <td>1.11486</td>\n",
       "      <td>1.11300</td>\n",
       "      <td>1.11417</td>\n",
       "    </tr>\n",
       "    <tr>\n",
       "      <th>2</th>\n",
       "      <td>2024-09-24T13:00:00.000000000Z</td>\n",
       "      <td>6434</td>\n",
       "      <td>1.11407</td>\n",
       "      <td>1.11444</td>\n",
       "      <td>1.11324</td>\n",
       "      <td>1.11396</td>\n",
       "      <td>1.11399</td>\n",
       "      <td>1.11436</td>\n",
       "      <td>1.11317</td>\n",
       "      <td>1.11386</td>\n",
       "      <td>1.11415</td>\n",
       "      <td>1.11452</td>\n",
       "      <td>1.11332</td>\n",
       "      <td>1.11407</td>\n",
       "    </tr>\n",
       "    <tr>\n",
       "      <th>3</th>\n",
       "      <td>2024-09-24T14:00:00.000000000Z</td>\n",
       "      <td>9938</td>\n",
       "      <td>1.11396</td>\n",
       "      <td>1.11635</td>\n",
       "      <td>1.11389</td>\n",
       "      <td>1.11508</td>\n",
       "      <td>1.11387</td>\n",
       "      <td>1.11627</td>\n",
       "      <td>1.11381</td>\n",
       "      <td>1.11500</td>\n",
       "      <td>1.11406</td>\n",
       "      <td>1.11643</td>\n",
       "      <td>1.11397</td>\n",
       "      <td>1.11515</td>\n",
       "    </tr>\n",
       "    <tr>\n",
       "      <th>4</th>\n",
       "      <td>2024-09-24T15:00:00.000000000Z</td>\n",
       "      <td>5920</td>\n",
       "      <td>1.11509</td>\n",
       "      <td>1.11564</td>\n",
       "      <td>1.11468</td>\n",
       "      <td>1.11498</td>\n",
       "      <td>1.11501</td>\n",
       "      <td>1.11556</td>\n",
       "      <td>1.11459</td>\n",
       "      <td>1.11490</td>\n",
       "      <td>1.11517</td>\n",
       "      <td>1.11572</td>\n",
       "      <td>1.11476</td>\n",
       "      <td>1.11506</td>\n",
       "    </tr>\n",
       "    <tr>\n",
       "      <th>5</th>\n",
       "      <td>2024-09-24T16:00:00.000000000Z</td>\n",
       "      <td>4250</td>\n",
       "      <td>1.11498</td>\n",
       "      <td>1.11620</td>\n",
       "      <td>1.11493</td>\n",
       "      <td>1.11586</td>\n",
       "      <td>1.11490</td>\n",
       "      <td>1.11613</td>\n",
       "      <td>1.11485</td>\n",
       "      <td>1.11578</td>\n",
       "      <td>1.11507</td>\n",
       "      <td>1.11628</td>\n",
       "      <td>1.11501</td>\n",
       "      <td>1.11593</td>\n",
       "    </tr>\n",
       "    <tr>\n",
       "      <th>6</th>\n",
       "      <td>2024-09-24T17:00:00.000000000Z</td>\n",
       "      <td>3116</td>\n",
       "      <td>1.11585</td>\n",
       "      <td>1.11638</td>\n",
       "      <td>1.11548</td>\n",
       "      <td>1.11626</td>\n",
       "      <td>1.11577</td>\n",
       "      <td>1.11630</td>\n",
       "      <td>1.11540</td>\n",
       "      <td>1.11619</td>\n",
       "      <td>1.11593</td>\n",
       "      <td>1.11647</td>\n",
       "      <td>1.11555</td>\n",
       "      <td>1.11634</td>\n",
       "    </tr>\n",
       "    <tr>\n",
       "      <th>7</th>\n",
       "      <td>2024-09-24T18:00:00.000000000Z</td>\n",
       "      <td>3226</td>\n",
       "      <td>1.11628</td>\n",
       "      <td>1.11670</td>\n",
       "      <td>1.11598</td>\n",
       "      <td>1.11662</td>\n",
       "      <td>1.11620</td>\n",
       "      <td>1.11663</td>\n",
       "      <td>1.11591</td>\n",
       "      <td>1.11655</td>\n",
       "      <td>1.11636</td>\n",
       "      <td>1.11678</td>\n",
       "      <td>1.11606</td>\n",
       "      <td>1.11670</td>\n",
       "    </tr>\n",
       "  </tbody>\n",
       "</table>\n",
       "</div>"
      ],
      "text/plain": [
       "                             time  volume    mid_o    mid_h    mid_l    mid_c  \\\n",
       "0  2024-09-24T11:00:00.000000000Z    3943  1.11282  1.11299  1.11221  1.11292   \n",
       "1  2024-09-24T12:00:00.000000000Z    6076  1.11292  1.11478  1.11292  1.11410   \n",
       "2  2024-09-24T13:00:00.000000000Z    6434  1.11407  1.11444  1.11324  1.11396   \n",
       "3  2024-09-24T14:00:00.000000000Z    9938  1.11396  1.11635  1.11389  1.11508   \n",
       "4  2024-09-24T15:00:00.000000000Z    5920  1.11509  1.11564  1.11468  1.11498   \n",
       "5  2024-09-24T16:00:00.000000000Z    4250  1.11498  1.11620  1.11493  1.11586   \n",
       "6  2024-09-24T17:00:00.000000000Z    3116  1.11585  1.11638  1.11548  1.11626   \n",
       "7  2024-09-24T18:00:00.000000000Z    3226  1.11628  1.11670  1.11598  1.11662   \n",
       "\n",
       "     bid_o    bid_h    bid_l    bid_c    ask_o    ask_h    ask_l    ask_c  \n",
       "0  1.11274  1.11291  1.11214  1.11285  1.11290  1.11307  1.11228  1.11299  \n",
       "1  1.11285  1.11471  1.11285  1.11402  1.11300  1.11486  1.11300  1.11417  \n",
       "2  1.11399  1.11436  1.11317  1.11386  1.11415  1.11452  1.11332  1.11407  \n",
       "3  1.11387  1.11627  1.11381  1.11500  1.11406  1.11643  1.11397  1.11515  \n",
       "4  1.11501  1.11556  1.11459  1.11490  1.11517  1.11572  1.11476  1.11506  \n",
       "5  1.11490  1.11613  1.11485  1.11578  1.11507  1.11628  1.11501  1.11593  \n",
       "6  1.11577  1.11630  1.11540  1.11619  1.11593  1.11647  1.11555  1.11634  \n",
       "7  1.11620  1.11663  1.11591  1.11655  1.11636  1.11678  1.11606  1.11670  "
      ]
     },
     "execution_count": 10,
     "metadata": {},
     "output_type": "execute_result"
    }
   ],
   "source": [
    "get_candles_df(res)"
   ]
  },
  {
   "cell_type": "code",
   "execution_count": 11,
   "metadata": {},
   "outputs": [],
   "source": [
    "def save_file(candles_df,pair,granularity):\n",
    "    candles_df.to_pickle(f'his_data/{pair}_{granularity}.pkl')"
   ]
  },
  {
   "cell_type": "code",
   "execution_count": 12,
   "metadata": {},
   "outputs": [],
   "source": [
    "def create_data(pair,granularity):\n",
    "    code ,json_data = fetch_candles(pair,4000,granularity)\n",
    "    if code != 200:\n",
    "        print(pair,\"Error\")\n",
    "        return\n",
    "    df = get_candles_df(json_data)\n",
    "    print(f\"{pair} loaded {df.shape[0]} candles from {df.time.min()} to {df.time.max()}\")\n",
    "    save_file(df,pair, granularity)"
   ]
  },
  {
   "cell_type": "code",
   "execution_count": null,
   "metadata": {},
   "outputs": [],
   "source": []
  },
  {
   "cell_type": "code",
   "execution_count": null,
   "metadata": {},
   "outputs": [],
   "source": []
  },
  {
   "cell_type": "code",
   "execution_count": 13,
   "metadata": {},
   "outputs": [
    {
     "name": "stdout",
     "output_type": "stream",
     "text": [
      "EUR_USD loaded 3999 candles from 2024-02-05T03:00:00.000000000Z to 2024-09-24T18:00:00.000000000Z\n",
      "EUR_GBP loaded 3999 candles from 2024-02-05T03:00:00.000000000Z to 2024-09-24T18:00:00.000000000Z\n",
      "EUR_JPY loaded 3999 candles from 2024-02-05T03:00:00.000000000Z to 2024-09-24T18:00:00.000000000Z\n",
      "EUR_CHF loaded 3999 candles from 2024-02-05T03:00:00.000000000Z to 2024-09-24T18:00:00.000000000Z\n",
      "EUR_NZD loaded 3999 candles from 2024-02-05T03:00:00.000000000Z to 2024-09-24T18:00:00.000000000Z\n",
      "EUR_CAD loaded 3999 candles from 2024-02-05T03:00:00.000000000Z to 2024-09-24T18:00:00.000000000Z\n",
      "USD_JPY loaded 3999 candles from 2024-02-05T03:00:00.000000000Z to 2024-09-24T18:00:00.000000000Z\n",
      "USD_CHF loaded 3999 candles from 2024-02-05T03:00:00.000000000Z to 2024-09-24T18:00:00.000000000Z\n",
      "USD_CAD loaded 3999 candles from 2024-02-05T03:00:00.000000000Z to 2024-09-24T18:00:00.000000000Z\n",
      "GBP_USD loaded 3999 candles from 2024-02-05T03:00:00.000000000Z to 2024-09-24T18:00:00.000000000Z\n",
      "GBP_JPY loaded 3999 candles from 2024-02-05T03:00:00.000000000Z to 2024-09-24T18:00:00.000000000Z\n",
      "GBP_CHF loaded 3999 candles from 2024-02-05T03:00:00.000000000Z to 2024-09-24T18:00:00.000000000Z\n",
      "GBP_NZD loaded 3999 candles from 2024-02-05T03:00:00.000000000Z to 2024-09-24T18:00:00.000000000Z\n",
      "GBP_CAD loaded 3999 candles from 2024-02-05T03:00:00.000000000Z to 2024-09-24T18:00:00.000000000Z\n",
      "CHF_JPY loaded 3999 candles from 2024-02-05T03:00:00.000000000Z to 2024-09-24T18:00:00.000000000Z\n",
      "NZD_USD loaded 3999 candles from 2024-02-05T02:00:00.000000000Z to 2024-09-24T18:00:00.000000000Z\n",
      "NZD_JPY loaded 3999 candles from 2024-02-05T03:00:00.000000000Z to 2024-09-24T18:00:00.000000000Z\n",
      "NZD_CHF loaded 3999 candles from 2024-02-05T02:00:00.000000000Z to 2024-09-24T18:00:00.000000000Z\n",
      "NZD_CAD loaded 3999 candles from 2024-02-05T03:00:00.000000000Z to 2024-09-24T18:00:00.000000000Z\n",
      "CAD_JPY loaded 3999 candles from 2024-02-05T03:00:00.000000000Z to 2024-09-24T18:00:00.000000000Z\n",
      "CAD_CHF loaded 3999 candles from 2024-02-05T03:00:00.000000000Z to 2024-09-24T18:00:00.000000000Z\n"
     ]
    }
   ],
   "source": [
    "for p1 in our_curr:\n",
    "    for p2 in our_curr:\n",
    "        pair =  f\"{p1}_{p2}\"\n",
    "        if pair in ins_df.name.unique():\n",
    "          create_data(pair,\"H1\")"
   ]
  },
  {
   "cell_type": "code",
   "execution_count": null,
   "metadata": {},
   "outputs": [],
   "source": []
  },
  {
   "cell_type": "code",
   "execution_count": null,
   "metadata": {},
   "outputs": [],
   "source": []
  },
  {
   "cell_type": "code",
   "execution_count": null,
   "metadata": {},
   "outputs": [],
   "source": []
  },
  {
   "cell_type": "code",
   "execution_count": null,
   "metadata": {},
   "outputs": [],
   "source": []
  },
  {
   "cell_type": "code",
   "execution_count": 14,
   "metadata": {},
   "outputs": [
    {
     "data": {
      "text/plain": [
       "68"
      ]
     },
     "execution_count": 14,
     "metadata": {},
     "output_type": "execute_result"
    }
   ],
   "source": [
    "ins_df.shape[0]"
   ]
  },
  {
   "cell_type": "code",
   "execution_count": 15,
   "metadata": {},
   "outputs": [
    {
     "data": {
      "text/html": [
       "<div>\n",
       "<style scoped>\n",
       "    .dataframe tbody tr th:only-of-type {\n",
       "        vertical-align: middle;\n",
       "    }\n",
       "\n",
       "    .dataframe tbody tr th {\n",
       "        vertical-align: top;\n",
       "    }\n",
       "\n",
       "    .dataframe thead th {\n",
       "        text-align: right;\n",
       "    }\n",
       "</style>\n",
       "<table border=\"1\" class=\"dataframe\">\n",
       "  <thead>\n",
       "    <tr style=\"text-align: right;\">\n",
       "      <th></th>\n",
       "      <th>name</th>\n",
       "      <th>type</th>\n",
       "      <th>displayName</th>\n",
       "      <th>pipLocation</th>\n",
       "      <th>marginRate</th>\n",
       "    </tr>\n",
       "  </thead>\n",
       "  <tbody>\n",
       "    <tr>\n",
       "      <th>0</th>\n",
       "      <td>USD_CNH</td>\n",
       "      <td>CURRENCY</td>\n",
       "      <td>USD/CNH</td>\n",
       "      <td>-4</td>\n",
       "      <td>0.05</td>\n",
       "    </tr>\n",
       "    <tr>\n",
       "      <th>1</th>\n",
       "      <td>NZD_CAD</td>\n",
       "      <td>CURRENCY</td>\n",
       "      <td>NZD/CAD</td>\n",
       "      <td>-4</td>\n",
       "      <td>0.03</td>\n",
       "    </tr>\n",
       "    <tr>\n",
       "      <th>2</th>\n",
       "      <td>EUR_CHF</td>\n",
       "      <td>CURRENCY</td>\n",
       "      <td>EUR/CHF</td>\n",
       "      <td>-4</td>\n",
       "      <td>0.04</td>\n",
       "    </tr>\n",
       "    <tr>\n",
       "      <th>3</th>\n",
       "      <td>SGD_CHF</td>\n",
       "      <td>CURRENCY</td>\n",
       "      <td>SGD/CHF</td>\n",
       "      <td>-4</td>\n",
       "      <td>0.05</td>\n",
       "    </tr>\n",
       "    <tr>\n",
       "      <th>4</th>\n",
       "      <td>EUR_CZK</td>\n",
       "      <td>CURRENCY</td>\n",
       "      <td>EUR/CZK</td>\n",
       "      <td>-4</td>\n",
       "      <td>0.05</td>\n",
       "    </tr>\n",
       "    <tr>\n",
       "      <th>...</th>\n",
       "      <td>...</td>\n",
       "      <td>...</td>\n",
       "      <td>...</td>\n",
       "      <td>...</td>\n",
       "      <td>...</td>\n",
       "    </tr>\n",
       "    <tr>\n",
       "      <th>63</th>\n",
       "      <td>USD_SEK</td>\n",
       "      <td>CURRENCY</td>\n",
       "      <td>USD/SEK</td>\n",
       "      <td>-4</td>\n",
       "      <td>0.03</td>\n",
       "    </tr>\n",
       "    <tr>\n",
       "      <th>64</th>\n",
       "      <td>GBP_SGD</td>\n",
       "      <td>CURRENCY</td>\n",
       "      <td>GBP/SGD</td>\n",
       "      <td>-4</td>\n",
       "      <td>0.05</td>\n",
       "    </tr>\n",
       "    <tr>\n",
       "      <th>65</th>\n",
       "      <td>EUR_PLN</td>\n",
       "      <td>CURRENCY</td>\n",
       "      <td>EUR/PLN</td>\n",
       "      <td>-4</td>\n",
       "      <td>0.05</td>\n",
       "    </tr>\n",
       "    <tr>\n",
       "      <th>66</th>\n",
       "      <td>HKD_JPY</td>\n",
       "      <td>CURRENCY</td>\n",
       "      <td>HKD/JPY</td>\n",
       "      <td>-4</td>\n",
       "      <td>0.1</td>\n",
       "    </tr>\n",
       "    <tr>\n",
       "      <th>67</th>\n",
       "      <td>EUR_HUF</td>\n",
       "      <td>CURRENCY</td>\n",
       "      <td>EUR/HUF</td>\n",
       "      <td>-2</td>\n",
       "      <td>0.05</td>\n",
       "    </tr>\n",
       "  </tbody>\n",
       "</table>\n",
       "<p>68 rows × 5 columns</p>\n",
       "</div>"
      ],
      "text/plain": [
       "       name      type displayName  pipLocation marginRate\n",
       "0   USD_CNH  CURRENCY     USD/CNH           -4       0.05\n",
       "1   NZD_CAD  CURRENCY     NZD/CAD           -4       0.03\n",
       "2   EUR_CHF  CURRENCY     EUR/CHF           -4       0.04\n",
       "3   SGD_CHF  CURRENCY     SGD/CHF           -4       0.05\n",
       "4   EUR_CZK  CURRENCY     EUR/CZK           -4       0.05\n",
       "..      ...       ...         ...          ...        ...\n",
       "63  USD_SEK  CURRENCY     USD/SEK           -4       0.03\n",
       "64  GBP_SGD  CURRENCY     GBP/SGD           -4       0.05\n",
       "65  EUR_PLN  CURRENCY     EUR/PLN           -4       0.05\n",
       "66  HKD_JPY  CURRENCY     HKD/JPY           -4        0.1\n",
       "67  EUR_HUF  CURRENCY     EUR/HUF           -2       0.05\n",
       "\n",
       "[68 rows x 5 columns]"
      ]
     },
     "execution_count": 15,
     "metadata": {},
     "output_type": "execute_result"
    }
   ],
   "source": [
    "ins_df"
   ]
  },
  {
   "cell_type": "code",
   "execution_count": 16,
   "metadata": {},
   "outputs": [
    {
     "name": "stdout",
     "output_type": "stream",
     "text": [
      "<class 'pandas.core.frame.DataFrame'>\n",
      "RangeIndex: 68 entries, 0 to 67\n",
      "Data columns (total 5 columns):\n",
      " #   Column       Non-Null Count  Dtype \n",
      "---  ------       --------------  ----- \n",
      " 0   name         68 non-null     object\n",
      " 1   type         68 non-null     object\n",
      " 2   displayName  68 non-null     object\n",
      " 3   pipLocation  68 non-null     int64 \n",
      " 4   marginRate   68 non-null     object\n",
      "dtypes: int64(1), object(4)\n",
      "memory usage: 2.8+ KB\n"
     ]
    }
   ],
   "source": [
    "ins_df.info()\n"
   ]
  },
  {
   "cell_type": "code",
   "execution_count": 17,
   "metadata": {},
   "outputs": [
    {
     "data": {
      "text/plain": [
       "Index(['name', 'type', 'displayName', 'pipLocation', 'marginRate'], dtype='object')"
      ]
     },
     "execution_count": 17,
     "metadata": {},
     "output_type": "execute_result"
    }
   ],
   "source": [
    "ins_df.columns\n"
   ]
  },
  {
   "cell_type": "code",
   "execution_count": 18,
   "metadata": {},
   "outputs": [
    {
     "data": {
      "text/plain": [
       "0     USD_CNH\n",
       "1     NZD_CAD\n",
       "2     EUR_CHF\n",
       "3     SGD_CHF\n",
       "4     EUR_CZK\n",
       "       ...   \n",
       "63    USD_SEK\n",
       "64    GBP_SGD\n",
       "65    EUR_PLN\n",
       "66    HKD_JPY\n",
       "67    EUR_HUF\n",
       "Name: name, Length: 68, dtype: object"
      ]
     },
     "execution_count": 18,
     "metadata": {},
     "output_type": "execute_result"
    }
   ],
   "source": [
    "ins_df.name"
   ]
  },
  {
   "cell_type": "code",
   "execution_count": 19,
   "metadata": {},
   "outputs": [
    {
     "data": {
      "text/plain": [
       "<bound method Series.unique of 0     USD_CNH\n",
       "1     NZD_CAD\n",
       "2     EUR_CHF\n",
       "3     SGD_CHF\n",
       "4     EUR_CZK\n",
       "       ...   \n",
       "63    USD_SEK\n",
       "64    GBP_SGD\n",
       "65    EUR_PLN\n",
       "66    HKD_JPY\n",
       "67    EUR_HUF\n",
       "Name: name, Length: 68, dtype: object>"
      ]
     },
     "execution_count": 19,
     "metadata": {},
     "output_type": "execute_result"
    }
   ],
   "source": [
    "ins_df.name.unique"
   ]
  },
  {
   "cell_type": "code",
   "execution_count": null,
   "metadata": {},
   "outputs": [],
   "source": []
  },
  {
   "cell_type": "code",
   "execution_count": null,
   "metadata": {},
   "outputs": [],
   "source": []
  },
  {
   "cell_type": "code",
   "execution_count": null,
   "metadata": {},
   "outputs": [],
   "source": []
  },
  {
   "cell_type": "code",
   "execution_count": null,
   "metadata": {},
   "outputs": [],
   "source": []
  },
  {
   "cell_type": "code",
   "execution_count": null,
   "metadata": {},
   "outputs": [],
   "source": []
  }
 ],
 "metadata": {
  "kernelspec": {
   "display_name": ".venv",
   "language": "python",
   "name": "python3"
  },
  "language_info": {
   "codemirror_mode": {
    "name": "ipython",
    "version": 3
   },
   "file_extension": ".py",
   "mimetype": "text/x-python",
   "name": "python",
   "nbconvert_exporter": "python",
   "pygments_lexer": "ipython3",
   "version": "3.12.6"
  }
 },
 "nbformat": 4,
 "nbformat_minor": 2
}
