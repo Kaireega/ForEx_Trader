{
 "cells": [
  {
   "cell_type": "code",
   "execution_count": 40,
   "metadata": {},
   "outputs": [],
   "source": [
    "import requests\n",
    "import defs\n",
    "import pandas as pd"
   ]
  },
  {
   "cell_type": "code",
   "execution_count": 41,
   "metadata": {},
   "outputs": [],
   "source": [
    "session = requests.Session()"
   ]
  },
  {
   "cell_type": "code",
   "execution_count": 42,
   "metadata": {},
   "outputs": [],
   "source": [
    "ins_df = pd.read_pickle(\"instruments.pkl\")"
   ]
  },
  {
   "cell_type": "code",
   "execution_count": 43,
   "metadata": {},
   "outputs": [],
   "source": [
    "our_curr = ['EUR','USD','GBP','JPY','CHF','NZD','CAD']"
   ]
  },
  {
   "cell_type": "code",
   "execution_count": 44,
   "metadata": {},
   "outputs": [],
   "source": [
    "def fetch_candles(pair_name, count, granularity):\n",
    "    url = f\"{defs.OANDA_URL}/instruments/{pair_name}/candles\"\n",
    "    \n",
    "    params = dict(\n",
    "    count = count,\n",
    "    granularity = granularity,\n",
    "    price = \"MBA\"\n",
    "    )\n",
    "    response = session.get(url, params=params, headers=defs.SECURE_HEADER)\n",
    "    return response.status_code, response.json()"
   ]
  },
  {
   "cell_type": "code",
   "execution_count": 45,
   "metadata": {},
   "outputs": [],
   "source": [
    "code, res = fetch_candles(\"EUR_USD\",9,\"H1\")"
   ]
  },
  {
   "cell_type": "code",
   "execution_count": 46,
   "metadata": {},
   "outputs": [
    {
     "data": {
      "text/plain": [
       "{'instrument': 'EUR_USD',\n",
       " 'granularity': 'H1',\n",
       " 'candles': [{'complete': True,\n",
       "   'volume': 9820,\n",
       "   'time': '2024-09-27T12:00:00.000000000Z',\n",
       "   'bid': {'o': '1.11617', 'h': '1.12010', 'l': '1.11534', 'c': '1.11990'},\n",
       "   'mid': {'o': '1.11625', 'h': '1.12018', 'l': '1.11541', 'c': '1.11998'},\n",
       "   'ask': {'o': '1.11633', 'h': '1.12026', 'l': '1.11548', 'c': '1.12006'}},\n",
       "  {'complete': True,\n",
       "   'volume': 9038,\n",
       "   'time': '2024-09-27T13:00:00.000000000Z',\n",
       "   'bid': {'o': '1.11988', 'h': '1.12023', 'l': '1.11788', 'c': '1.11840'},\n",
       "   'mid': {'o': '1.11995', 'h': '1.12031', 'l': '1.11796', 'c': '1.11852'},\n",
       "   'ask': {'o': '1.12002', 'h': '1.12039', 'l': '1.11803', 'c': '1.11863'}},\n",
       "  {'complete': True,\n",
       "   'volume': 9370,\n",
       "   'time': '2024-09-27T14:00:00.000000000Z',\n",
       "   'bid': {'o': '1.11840', 'h': '1.11914', 'l': '1.11684', 'c': '1.11777'},\n",
       "   'mid': {'o': '1.11852', 'h': '1.11922', 'l': '1.11692', 'c': '1.11785'},\n",
       "   'ask': {'o': '1.11865', 'h': '1.11929', 'l': '1.11700', 'c': '1.11793'}},\n",
       "  {'complete': True,\n",
       "   'volume': 6883,\n",
       "   'time': '2024-09-27T15:00:00.000000000Z',\n",
       "   'bid': {'o': '1.11777', 'h': '1.11777', 'l': '1.11532', 'c': '1.11577'},\n",
       "   'mid': {'o': '1.11784', 'h': '1.11784', 'l': '1.11540', 'c': '1.11584'},\n",
       "   'ask': {'o': '1.11792', 'h': '1.11792', 'l': '1.11548', 'c': '1.11592'}},\n",
       "  {'complete': True,\n",
       "   'volume': 6241,\n",
       "   'time': '2024-09-27T16:00:00.000000000Z',\n",
       "   'bid': {'o': '1.11577', 'h': '1.11593', 'l': '1.11454', 'c': '1.11509'},\n",
       "   'mid': {'o': '1.11585', 'h': '1.11600', 'l': '1.11462', 'c': '1.11517'},\n",
       "   'ask': {'o': '1.11593', 'h': '1.11608', 'l': '1.11470', 'c': '1.11525'}},\n",
       "  {'complete': True,\n",
       "   'volume': 5493,\n",
       "   'time': '2024-09-27T17:00:00.000000000Z',\n",
       "   'bid': {'o': '1.11510', 'h': '1.11650', 'l': '1.11497', 'c': '1.11630'},\n",
       "   'mid': {'o': '1.11518', 'h': '1.11658', 'l': '1.11504', 'c': '1.11638'},\n",
       "   'ask': {'o': '1.11525', 'h': '1.11666', 'l': '1.11512', 'c': '1.11646'}},\n",
       "  {'complete': True,\n",
       "   'volume': 4132,\n",
       "   'time': '2024-09-27T18:00:00.000000000Z',\n",
       "   'bid': {'o': '1.11630', 'h': '1.11671', 'l': '1.11588', 'c': '1.11671'},\n",
       "   'mid': {'o': '1.11638', 'h': '1.11678', 'l': '1.11596', 'c': '1.11678'},\n",
       "   'ask': {'o': '1.11645', 'h': '1.11685', 'l': '1.11604', 'c': '1.11685'}},\n",
       "  {'complete': True,\n",
       "   'volume': 2602,\n",
       "   'time': '2024-09-27T19:00:00.000000000Z',\n",
       "   'bid': {'o': '1.11670', 'h': '1.11671', 'l': '1.11620', 'c': '1.11631'},\n",
       "   'mid': {'o': '1.11678', 'h': '1.11679', 'l': '1.11628', 'c': '1.11638'},\n",
       "   'ask': {'o': '1.11685', 'h': '1.11687', 'l': '1.11635', 'c': '1.11646'}},\n",
       "  {'complete': True,\n",
       "   'volume': 2066,\n",
       "   'time': '2024-09-27T20:00:00.000000000Z',\n",
       "   'bid': {'o': '1.11631', 'h': '1.11671', 'l': '1.11580', 'c': '1.11625'},\n",
       "   'mid': {'o': '1.11639', 'h': '1.11680', 'l': '1.11591', 'c': '1.11640'},\n",
       "   'ask': {'o': '1.11647', 'h': '1.11688', 'l': '1.11599', 'c': '1.11654'}}]}"
      ]
     },
     "execution_count": 46,
     "metadata": {},
     "output_type": "execute_result"
    }
   ],
   "source": [
    "res"
   ]
  },
  {
   "cell_type": "code",
   "execution_count": 47,
   "metadata": {},
   "outputs": [
    {
     "data": {
      "text/plain": [
       "200"
      ]
     },
     "execution_count": 47,
     "metadata": {},
     "output_type": "execute_result"
    }
   ],
   "source": [
    "code"
   ]
  },
  {
   "cell_type": "code",
   "execution_count": 48,
   "metadata": {},
   "outputs": [],
   "source": [
    "def get_candles_df(json_response):\n",
    "    \n",
    "    prices = ['mid','bid','ask']\n",
    "    ohlc = ['o','h','l','c']\n",
    "    our_data = []\n",
    "    for candle in json_response['candles']:\n",
    "        if candle['complete'] == False:\n",
    "            continue\n",
    "        new_dict = {}\n",
    "        new_dict['time'] = candle['time']\n",
    "        new_dict['volume'] = candle['volume']\n",
    "        for price in prices:\n",
    "            for oh in ohlc:\n",
    "                new_dict[f\"{price}_{oh}\"] = candle[price][oh]\n",
    "        our_data.append(new_dict)\n",
    "    return pd.DataFrame.from_dict(our_data)\n"
   ]
  },
  {
   "cell_type": "code",
   "execution_count": 49,
   "metadata": {},
   "outputs": [
    {
     "data": {
      "text/html": [
       "<div>\n",
       "<style scoped>\n",
       "    .dataframe tbody tr th:only-of-type {\n",
       "        vertical-align: middle;\n",
       "    }\n",
       "\n",
       "    .dataframe tbody tr th {\n",
       "        vertical-align: top;\n",
       "    }\n",
       "\n",
       "    .dataframe thead th {\n",
       "        text-align: right;\n",
       "    }\n",
       "</style>\n",
       "<table border=\"1\" class=\"dataframe\">\n",
       "  <thead>\n",
       "    <tr style=\"text-align: right;\">\n",
       "      <th></th>\n",
       "      <th>time</th>\n",
       "      <th>volume</th>\n",
       "      <th>mid_o</th>\n",
       "      <th>mid_h</th>\n",
       "      <th>mid_l</th>\n",
       "      <th>mid_c</th>\n",
       "      <th>bid_o</th>\n",
       "      <th>bid_h</th>\n",
       "      <th>bid_l</th>\n",
       "      <th>bid_c</th>\n",
       "      <th>ask_o</th>\n",
       "      <th>ask_h</th>\n",
       "      <th>ask_l</th>\n",
       "      <th>ask_c</th>\n",
       "    </tr>\n",
       "  </thead>\n",
       "  <tbody>\n",
       "    <tr>\n",
       "      <th>0</th>\n",
       "      <td>2024-09-27T12:00:00.000000000Z</td>\n",
       "      <td>9820</td>\n",
       "      <td>1.11625</td>\n",
       "      <td>1.12018</td>\n",
       "      <td>1.11541</td>\n",
       "      <td>1.11998</td>\n",
       "      <td>1.11617</td>\n",
       "      <td>1.12010</td>\n",
       "      <td>1.11534</td>\n",
       "      <td>1.11990</td>\n",
       "      <td>1.11633</td>\n",
       "      <td>1.12026</td>\n",
       "      <td>1.11548</td>\n",
       "      <td>1.12006</td>\n",
       "    </tr>\n",
       "    <tr>\n",
       "      <th>1</th>\n",
       "      <td>2024-09-27T13:00:00.000000000Z</td>\n",
       "      <td>9038</td>\n",
       "      <td>1.11995</td>\n",
       "      <td>1.12031</td>\n",
       "      <td>1.11796</td>\n",
       "      <td>1.11852</td>\n",
       "      <td>1.11988</td>\n",
       "      <td>1.12023</td>\n",
       "      <td>1.11788</td>\n",
       "      <td>1.11840</td>\n",
       "      <td>1.12002</td>\n",
       "      <td>1.12039</td>\n",
       "      <td>1.11803</td>\n",
       "      <td>1.11863</td>\n",
       "    </tr>\n",
       "    <tr>\n",
       "      <th>2</th>\n",
       "      <td>2024-09-27T14:00:00.000000000Z</td>\n",
       "      <td>9370</td>\n",
       "      <td>1.11852</td>\n",
       "      <td>1.11922</td>\n",
       "      <td>1.11692</td>\n",
       "      <td>1.11785</td>\n",
       "      <td>1.11840</td>\n",
       "      <td>1.11914</td>\n",
       "      <td>1.11684</td>\n",
       "      <td>1.11777</td>\n",
       "      <td>1.11865</td>\n",
       "      <td>1.11929</td>\n",
       "      <td>1.11700</td>\n",
       "      <td>1.11793</td>\n",
       "    </tr>\n",
       "    <tr>\n",
       "      <th>3</th>\n",
       "      <td>2024-09-27T15:00:00.000000000Z</td>\n",
       "      <td>6883</td>\n",
       "      <td>1.11784</td>\n",
       "      <td>1.11784</td>\n",
       "      <td>1.11540</td>\n",
       "      <td>1.11584</td>\n",
       "      <td>1.11777</td>\n",
       "      <td>1.11777</td>\n",
       "      <td>1.11532</td>\n",
       "      <td>1.11577</td>\n",
       "      <td>1.11792</td>\n",
       "      <td>1.11792</td>\n",
       "      <td>1.11548</td>\n",
       "      <td>1.11592</td>\n",
       "    </tr>\n",
       "    <tr>\n",
       "      <th>4</th>\n",
       "      <td>2024-09-27T16:00:00.000000000Z</td>\n",
       "      <td>6241</td>\n",
       "      <td>1.11585</td>\n",
       "      <td>1.11600</td>\n",
       "      <td>1.11462</td>\n",
       "      <td>1.11517</td>\n",
       "      <td>1.11577</td>\n",
       "      <td>1.11593</td>\n",
       "      <td>1.11454</td>\n",
       "      <td>1.11509</td>\n",
       "      <td>1.11593</td>\n",
       "      <td>1.11608</td>\n",
       "      <td>1.11470</td>\n",
       "      <td>1.11525</td>\n",
       "    </tr>\n",
       "    <tr>\n",
       "      <th>5</th>\n",
       "      <td>2024-09-27T17:00:00.000000000Z</td>\n",
       "      <td>5493</td>\n",
       "      <td>1.11518</td>\n",
       "      <td>1.11658</td>\n",
       "      <td>1.11504</td>\n",
       "      <td>1.11638</td>\n",
       "      <td>1.11510</td>\n",
       "      <td>1.11650</td>\n",
       "      <td>1.11497</td>\n",
       "      <td>1.11630</td>\n",
       "      <td>1.11525</td>\n",
       "      <td>1.11666</td>\n",
       "      <td>1.11512</td>\n",
       "      <td>1.11646</td>\n",
       "    </tr>\n",
       "    <tr>\n",
       "      <th>6</th>\n",
       "      <td>2024-09-27T18:00:00.000000000Z</td>\n",
       "      <td>4132</td>\n",
       "      <td>1.11638</td>\n",
       "      <td>1.11678</td>\n",
       "      <td>1.11596</td>\n",
       "      <td>1.11678</td>\n",
       "      <td>1.11630</td>\n",
       "      <td>1.11671</td>\n",
       "      <td>1.11588</td>\n",
       "      <td>1.11671</td>\n",
       "      <td>1.11645</td>\n",
       "      <td>1.11685</td>\n",
       "      <td>1.11604</td>\n",
       "      <td>1.11685</td>\n",
       "    </tr>\n",
       "    <tr>\n",
       "      <th>7</th>\n",
       "      <td>2024-09-27T19:00:00.000000000Z</td>\n",
       "      <td>2602</td>\n",
       "      <td>1.11678</td>\n",
       "      <td>1.11679</td>\n",
       "      <td>1.11628</td>\n",
       "      <td>1.11638</td>\n",
       "      <td>1.11670</td>\n",
       "      <td>1.11671</td>\n",
       "      <td>1.11620</td>\n",
       "      <td>1.11631</td>\n",
       "      <td>1.11685</td>\n",
       "      <td>1.11687</td>\n",
       "      <td>1.11635</td>\n",
       "      <td>1.11646</td>\n",
       "    </tr>\n",
       "    <tr>\n",
       "      <th>8</th>\n",
       "      <td>2024-09-27T20:00:00.000000000Z</td>\n",
       "      <td>2066</td>\n",
       "      <td>1.11639</td>\n",
       "      <td>1.11680</td>\n",
       "      <td>1.11591</td>\n",
       "      <td>1.11640</td>\n",
       "      <td>1.11631</td>\n",
       "      <td>1.11671</td>\n",
       "      <td>1.11580</td>\n",
       "      <td>1.11625</td>\n",
       "      <td>1.11647</td>\n",
       "      <td>1.11688</td>\n",
       "      <td>1.11599</td>\n",
       "      <td>1.11654</td>\n",
       "    </tr>\n",
       "  </tbody>\n",
       "</table>\n",
       "</div>"
      ],
      "text/plain": [
       "                             time  volume    mid_o    mid_h    mid_l    mid_c  \\\n",
       "0  2024-09-27T12:00:00.000000000Z    9820  1.11625  1.12018  1.11541  1.11998   \n",
       "1  2024-09-27T13:00:00.000000000Z    9038  1.11995  1.12031  1.11796  1.11852   \n",
       "2  2024-09-27T14:00:00.000000000Z    9370  1.11852  1.11922  1.11692  1.11785   \n",
       "3  2024-09-27T15:00:00.000000000Z    6883  1.11784  1.11784  1.11540  1.11584   \n",
       "4  2024-09-27T16:00:00.000000000Z    6241  1.11585  1.11600  1.11462  1.11517   \n",
       "5  2024-09-27T17:00:00.000000000Z    5493  1.11518  1.11658  1.11504  1.11638   \n",
       "6  2024-09-27T18:00:00.000000000Z    4132  1.11638  1.11678  1.11596  1.11678   \n",
       "7  2024-09-27T19:00:00.000000000Z    2602  1.11678  1.11679  1.11628  1.11638   \n",
       "8  2024-09-27T20:00:00.000000000Z    2066  1.11639  1.11680  1.11591  1.11640   \n",
       "\n",
       "     bid_o    bid_h    bid_l    bid_c    ask_o    ask_h    ask_l    ask_c  \n",
       "0  1.11617  1.12010  1.11534  1.11990  1.11633  1.12026  1.11548  1.12006  \n",
       "1  1.11988  1.12023  1.11788  1.11840  1.12002  1.12039  1.11803  1.11863  \n",
       "2  1.11840  1.11914  1.11684  1.11777  1.11865  1.11929  1.11700  1.11793  \n",
       "3  1.11777  1.11777  1.11532  1.11577  1.11792  1.11792  1.11548  1.11592  \n",
       "4  1.11577  1.11593  1.11454  1.11509  1.11593  1.11608  1.11470  1.11525  \n",
       "5  1.11510  1.11650  1.11497  1.11630  1.11525  1.11666  1.11512  1.11646  \n",
       "6  1.11630  1.11671  1.11588  1.11671  1.11645  1.11685  1.11604  1.11685  \n",
       "7  1.11670  1.11671  1.11620  1.11631  1.11685  1.11687  1.11635  1.11646  \n",
       "8  1.11631  1.11671  1.11580  1.11625  1.11647  1.11688  1.11599  1.11654  "
      ]
     },
     "execution_count": 49,
     "metadata": {},
     "output_type": "execute_result"
    }
   ],
   "source": [
    "get_candles_df(res)"
   ]
  },
  {
   "cell_type": "code",
   "execution_count": 50,
   "metadata": {},
   "outputs": [],
   "source": [
    "def save_file(candles_df,pair,granularity):\n",
    "    candles_df.to_pickle(f'his_data/{pair}_{granularity}.pkl')"
   ]
  },
  {
   "cell_type": "code",
   "execution_count": 51,
   "metadata": {},
   "outputs": [],
   "source": [
    "def create_data(pair,granularity):\n",
    "    code ,json_data = fetch_candles(pair,4000,granularity)\n",
    "    if code != 200:\n",
    "        print(pair,\"Error\")\n",
    "        return\n",
    "    df = get_candles_df(json_data)\n",
    "    print(f\"{pair} loaded {df.shape[0]} candles from {df.time.min()} to {df.time.max()}\")\n",
    "    save_file(df,pair, granularity)"
   ]
  },
  {
   "cell_type": "code",
   "execution_count": null,
   "metadata": {},
   "outputs": [],
   "source": []
  },
  {
   "cell_type": "code",
   "execution_count": null,
   "metadata": {},
   "outputs": [],
   "source": []
  },
  {
   "cell_type": "code",
   "execution_count": 52,
   "metadata": {},
   "outputs": [
    {
     "name": "stdout",
     "output_type": "stream",
     "text": [
      "EUR_USD loaded 4000 candles from 2024-02-08T04:00:00.000000000Z to 2024-09-27T20:00:00.000000000Z\n",
      "EUR_GBP loaded 4000 candles from 2024-02-08T04:00:00.000000000Z to 2024-09-27T20:00:00.000000000Z\n",
      "EUR_JPY loaded 4000 candles from 2024-02-08T04:00:00.000000000Z to 2024-09-27T20:00:00.000000000Z\n",
      "EUR_CHF loaded 4000 candles from 2024-02-08T04:00:00.000000000Z to 2024-09-27T20:00:00.000000000Z\n",
      "EUR_NZD loaded 4000 candles from 2024-02-08T04:00:00.000000000Z to 2024-09-27T20:00:00.000000000Z\n",
      "EUR_CAD loaded 4000 candles from 2024-02-08T04:00:00.000000000Z to 2024-09-27T20:00:00.000000000Z\n",
      "USD_JPY loaded 4000 candles from 2024-02-08T04:00:00.000000000Z to 2024-09-27T20:00:00.000000000Z\n",
      "USD_CHF loaded 4000 candles from 2024-02-08T04:00:00.000000000Z to 2024-09-27T20:00:00.000000000Z\n",
      "USD_CAD loaded 4000 candles from 2024-02-08T04:00:00.000000000Z to 2024-09-27T20:00:00.000000000Z\n",
      "GBP_USD loaded 4000 candles from 2024-02-08T04:00:00.000000000Z to 2024-09-27T20:00:00.000000000Z\n",
      "GBP_JPY loaded 4000 candles from 2024-02-08T04:00:00.000000000Z to 2024-09-27T20:00:00.000000000Z\n",
      "GBP_CHF loaded 4000 candles from 2024-02-08T04:00:00.000000000Z to 2024-09-27T20:00:00.000000000Z\n",
      "GBP_NZD loaded 4000 candles from 2024-02-08T04:00:00.000000000Z to 2024-09-27T20:00:00.000000000Z\n",
      "GBP_CAD loaded 4000 candles from 2024-02-08T04:00:00.000000000Z to 2024-09-27T20:00:00.000000000Z\n",
      "CHF_JPY loaded 4000 candles from 2024-02-08T04:00:00.000000000Z to 2024-09-27T20:00:00.000000000Z\n",
      "NZD_USD loaded 4000 candles from 2024-02-08T03:00:00.000000000Z to 2024-09-27T20:00:00.000000000Z\n",
      "NZD_JPY loaded 4000 candles from 2024-02-08T04:00:00.000000000Z to 2024-09-27T20:00:00.000000000Z\n",
      "NZD_CHF loaded 4000 candles from 2024-02-08T03:00:00.000000000Z to 2024-09-27T20:00:00.000000000Z\n",
      "NZD_CAD loaded 4000 candles from 2024-02-08T04:00:00.000000000Z to 2024-09-27T20:00:00.000000000Z\n",
      "CAD_JPY loaded 4000 candles from 2024-02-08T04:00:00.000000000Z to 2024-09-27T20:00:00.000000000Z\n",
      "CAD_CHF loaded 4000 candles from 2024-02-08T04:00:00.000000000Z to 2024-09-27T20:00:00.000000000Z\n"
     ]
    }
   ],
   "source": [
    "for p1 in our_curr:\n",
    "    for p2 in our_curr:\n",
    "        pair =  f\"{p1}_{p2}\"\n",
    "        if pair in ins_df.name.unique():\n",
    "          create_data(pair,\"H1\")"
   ]
  },
  {
   "cell_type": "code",
   "execution_count": null,
   "metadata": {},
   "outputs": [],
   "source": []
  },
  {
   "cell_type": "code",
   "execution_count": null,
   "metadata": {},
   "outputs": [],
   "source": []
  },
  {
   "cell_type": "code",
   "execution_count": null,
   "metadata": {},
   "outputs": [],
   "source": []
  },
  {
   "cell_type": "code",
   "execution_count": null,
   "metadata": {},
   "outputs": [],
   "source": []
  },
  {
   "cell_type": "code",
   "execution_count": 53,
   "metadata": {},
   "outputs": [
    {
     "data": {
      "text/plain": [
       "68"
      ]
     },
     "execution_count": 53,
     "metadata": {},
     "output_type": "execute_result"
    }
   ],
   "source": [
    "ins_df.shape[0]"
   ]
  },
  {
   "cell_type": "code",
   "execution_count": 54,
   "metadata": {},
   "outputs": [
    {
     "data": {
      "text/html": [
       "<div>\n",
       "<style scoped>\n",
       "    .dataframe tbody tr th:only-of-type {\n",
       "        vertical-align: middle;\n",
       "    }\n",
       "\n",
       "    .dataframe tbody tr th {\n",
       "        vertical-align: top;\n",
       "    }\n",
       "\n",
       "    .dataframe thead th {\n",
       "        text-align: right;\n",
       "    }\n",
       "</style>\n",
       "<table border=\"1\" class=\"dataframe\">\n",
       "  <thead>\n",
       "    <tr style=\"text-align: right;\">\n",
       "      <th></th>\n",
       "      <th>name</th>\n",
       "      <th>type</th>\n",
       "      <th>displayName</th>\n",
       "      <th>pipLocation</th>\n",
       "      <th>marginRate</th>\n",
       "    </tr>\n",
       "  </thead>\n",
       "  <tbody>\n",
       "    <tr>\n",
       "      <th>0</th>\n",
       "      <td>USD_CNH</td>\n",
       "      <td>CURRENCY</td>\n",
       "      <td>USD/CNH</td>\n",
       "      <td>-4</td>\n",
       "      <td>0.05</td>\n",
       "    </tr>\n",
       "    <tr>\n",
       "      <th>1</th>\n",
       "      <td>NZD_CAD</td>\n",
       "      <td>CURRENCY</td>\n",
       "      <td>NZD/CAD</td>\n",
       "      <td>-4</td>\n",
       "      <td>0.03</td>\n",
       "    </tr>\n",
       "    <tr>\n",
       "      <th>2</th>\n",
       "      <td>EUR_CHF</td>\n",
       "      <td>CURRENCY</td>\n",
       "      <td>EUR/CHF</td>\n",
       "      <td>-4</td>\n",
       "      <td>0.04</td>\n",
       "    </tr>\n",
       "    <tr>\n",
       "      <th>3</th>\n",
       "      <td>SGD_CHF</td>\n",
       "      <td>CURRENCY</td>\n",
       "      <td>SGD/CHF</td>\n",
       "      <td>-4</td>\n",
       "      <td>0.05</td>\n",
       "    </tr>\n",
       "    <tr>\n",
       "      <th>4</th>\n",
       "      <td>EUR_CZK</td>\n",
       "      <td>CURRENCY</td>\n",
       "      <td>EUR/CZK</td>\n",
       "      <td>-4</td>\n",
       "      <td>0.05</td>\n",
       "    </tr>\n",
       "    <tr>\n",
       "      <th>...</th>\n",
       "      <td>...</td>\n",
       "      <td>...</td>\n",
       "      <td>...</td>\n",
       "      <td>...</td>\n",
       "      <td>...</td>\n",
       "    </tr>\n",
       "    <tr>\n",
       "      <th>63</th>\n",
       "      <td>USD_SEK</td>\n",
       "      <td>CURRENCY</td>\n",
       "      <td>USD/SEK</td>\n",
       "      <td>-4</td>\n",
       "      <td>0.03</td>\n",
       "    </tr>\n",
       "    <tr>\n",
       "      <th>64</th>\n",
       "      <td>GBP_SGD</td>\n",
       "      <td>CURRENCY</td>\n",
       "      <td>GBP/SGD</td>\n",
       "      <td>-4</td>\n",
       "      <td>0.05</td>\n",
       "    </tr>\n",
       "    <tr>\n",
       "      <th>65</th>\n",
       "      <td>EUR_PLN</td>\n",
       "      <td>CURRENCY</td>\n",
       "      <td>EUR/PLN</td>\n",
       "      <td>-4</td>\n",
       "      <td>0.05</td>\n",
       "    </tr>\n",
       "    <tr>\n",
       "      <th>66</th>\n",
       "      <td>HKD_JPY</td>\n",
       "      <td>CURRENCY</td>\n",
       "      <td>HKD/JPY</td>\n",
       "      <td>-4</td>\n",
       "      <td>0.1</td>\n",
       "    </tr>\n",
       "    <tr>\n",
       "      <th>67</th>\n",
       "      <td>EUR_HUF</td>\n",
       "      <td>CURRENCY</td>\n",
       "      <td>EUR/HUF</td>\n",
       "      <td>-2</td>\n",
       "      <td>0.05</td>\n",
       "    </tr>\n",
       "  </tbody>\n",
       "</table>\n",
       "<p>68 rows × 5 columns</p>\n",
       "</div>"
      ],
      "text/plain": [
       "       name      type displayName  pipLocation marginRate\n",
       "0   USD_CNH  CURRENCY     USD/CNH           -4       0.05\n",
       "1   NZD_CAD  CURRENCY     NZD/CAD           -4       0.03\n",
       "2   EUR_CHF  CURRENCY     EUR/CHF           -4       0.04\n",
       "3   SGD_CHF  CURRENCY     SGD/CHF           -4       0.05\n",
       "4   EUR_CZK  CURRENCY     EUR/CZK           -4       0.05\n",
       "..      ...       ...         ...          ...        ...\n",
       "63  USD_SEK  CURRENCY     USD/SEK           -4       0.03\n",
       "64  GBP_SGD  CURRENCY     GBP/SGD           -4       0.05\n",
       "65  EUR_PLN  CURRENCY     EUR/PLN           -4       0.05\n",
       "66  HKD_JPY  CURRENCY     HKD/JPY           -4        0.1\n",
       "67  EUR_HUF  CURRENCY     EUR/HUF           -2       0.05\n",
       "\n",
       "[68 rows x 5 columns]"
      ]
     },
     "execution_count": 54,
     "metadata": {},
     "output_type": "execute_result"
    }
   ],
   "source": [
    "ins_df"
   ]
  },
  {
   "cell_type": "code",
   "execution_count": 55,
   "metadata": {},
   "outputs": [
    {
     "name": "stdout",
     "output_type": "stream",
     "text": [
      "<class 'pandas.core.frame.DataFrame'>\n",
      "RangeIndex: 68 entries, 0 to 67\n",
      "Data columns (total 5 columns):\n",
      " #   Column       Non-Null Count  Dtype \n",
      "---  ------       --------------  ----- \n",
      " 0   name         68 non-null     object\n",
      " 1   type         68 non-null     object\n",
      " 2   displayName  68 non-null     object\n",
      " 3   pipLocation  68 non-null     int64 \n",
      " 4   marginRate   68 non-null     object\n",
      "dtypes: int64(1), object(4)\n",
      "memory usage: 2.8+ KB\n"
     ]
    }
   ],
   "source": [
    "ins_df.info()\n"
   ]
  },
  {
   "cell_type": "code",
   "execution_count": 56,
   "metadata": {},
   "outputs": [
    {
     "data": {
      "text/plain": [
       "Index(['name', 'type', 'displayName', 'pipLocation', 'marginRate'], dtype='object')"
      ]
     },
     "execution_count": 56,
     "metadata": {},
     "output_type": "execute_result"
    }
   ],
   "source": [
    "ins_df.columns\n"
   ]
  },
  {
   "cell_type": "code",
   "execution_count": 57,
   "metadata": {},
   "outputs": [
    {
     "data": {
      "text/plain": [
       "0     USD_CNH\n",
       "1     NZD_CAD\n",
       "2     EUR_CHF\n",
       "3     SGD_CHF\n",
       "4     EUR_CZK\n",
       "       ...   \n",
       "63    USD_SEK\n",
       "64    GBP_SGD\n",
       "65    EUR_PLN\n",
       "66    HKD_JPY\n",
       "67    EUR_HUF\n",
       "Name: name, Length: 68, dtype: object"
      ]
     },
     "execution_count": 57,
     "metadata": {},
     "output_type": "execute_result"
    }
   ],
   "source": [
    "ins_df.name"
   ]
  },
  {
   "cell_type": "code",
   "execution_count": 58,
   "metadata": {},
   "outputs": [
    {
     "data": {
      "text/plain": [
       "<bound method Series.unique of 0     USD_CNH\n",
       "1     NZD_CAD\n",
       "2     EUR_CHF\n",
       "3     SGD_CHF\n",
       "4     EUR_CZK\n",
       "       ...   \n",
       "63    USD_SEK\n",
       "64    GBP_SGD\n",
       "65    EUR_PLN\n",
       "66    HKD_JPY\n",
       "67    EUR_HUF\n",
       "Name: name, Length: 68, dtype: object>"
      ]
     },
     "execution_count": 58,
     "metadata": {},
     "output_type": "execute_result"
    }
   ],
   "source": [
    "ins_df.name.unique"
   ]
  },
  {
   "cell_type": "code",
   "execution_count": null,
   "metadata": {},
   "outputs": [],
   "source": []
  },
  {
   "cell_type": "code",
   "execution_count": null,
   "metadata": {},
   "outputs": [],
   "source": []
  },
  {
   "cell_type": "code",
   "execution_count": null,
   "metadata": {},
   "outputs": [],
   "source": []
  },
  {
   "cell_type": "code",
   "execution_count": null,
   "metadata": {},
   "outputs": [],
   "source": []
  },
  {
   "cell_type": "code",
   "execution_count": null,
   "metadata": {},
   "outputs": [],
   "source": []
  }
 ],
 "metadata": {
  "kernelspec": {
   "display_name": ".venv",
   "language": "python",
   "name": "python3"
  },
  "language_info": {
   "codemirror_mode": {
    "name": "ipython",
    "version": 3
   },
   "file_extension": ".py",
   "mimetype": "text/x-python",
   "name": "python",
   "nbconvert_exporter": "python",
   "pygments_lexer": "ipython3",
   "version": "3.12.6"
  }
 },
 "nbformat": 4,
 "nbformat_minor": 2
}
