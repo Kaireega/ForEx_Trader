{
 "cells": [
  {
   "cell_type": "code",
   "execution_count": 1,
   "metadata": {},
   "outputs": [],
   "source": [
    "import requests\n",
    "import defs\n",
    "import pandas as pd"
   ]
  },
  {
   "cell_type": "code",
   "execution_count": 2,
   "metadata": {},
   "outputs": [],
   "source": [
    "session = requests.Session()"
   ]
  },
  {
   "cell_type": "code",
   "execution_count": 3,
   "metadata": {},
   "outputs": [],
   "source": [
    "ins_df = pd.read_pickle(\"instruments.pkl\")"
   ]
  },
  {
   "cell_type": "code",
   "execution_count": 4,
   "metadata": {},
   "outputs": [],
   "source": [
    "our_curr = ['EUR','USD','GBP','JPY','CHF','NZD','CAD']"
   ]
  },
  {
   "cell_type": "code",
   "execution_count": 5,
   "metadata": {},
   "outputs": [],
   "source": [
    "def fetch_candles(pair_name, count, granularity):\n",
    "    url = f\"{defs.OANDA_URL}/instruments/{pair_name}/candles\"\n",
    "    \n",
    "    params = dict(\n",
    "    count = count,\n",
    "    granularity = granularity,\n",
    "    price = \"MBA\"\n",
    "    )\n",
    "    response = session.get(url, params=params, headers=defs.SECURE_HEADER)\n",
    "    return response.status_code, response.json()"
   ]
  },
  {
   "cell_type": "code",
   "execution_count": 6,
   "metadata": {},
   "outputs": [],
   "source": [
    "code, res = fetch_candles(\"EUR_USD\",9,\"H1\")"
   ]
  },
  {
   "cell_type": "code",
   "execution_count": 7,
   "metadata": {},
   "outputs": [
    {
     "data": {
      "text/plain": [
       "{'instrument': 'EUR_USD',\n",
       " 'granularity': 'H1',\n",
       " 'candles': [{'complete': True,\n",
       "   'volume': 7541,\n",
       "   'time': '2024-09-20T16:00:00.000000000Z',\n",
       "   'bid': {'o': '1.11584', 'h': '1.11751', 'l': '1.11582', 'c': '1.11731'},\n",
       "   'mid': {'o': '1.11591', 'h': '1.11759', 'l': '1.11590', 'c': '1.11738'},\n",
       "   'ask': {'o': '1.11598', 'h': '1.11767', 'l': '1.11597', 'c': '1.11745'}},\n",
       "  {'complete': True,\n",
       "   'volume': 4886,\n",
       "   'time': '2024-09-20T17:00:00.000000000Z',\n",
       "   'bid': {'o': '1.11729', 'h': '1.11736', 'l': '1.11575', 'c': '1.11585'},\n",
       "   'mid': {'o': '1.11736', 'h': '1.11744', 'l': '1.11582', 'c': '1.11592'},\n",
       "   'ask': {'o': '1.11744', 'h': '1.11751', 'l': '1.11590', 'c': '1.11600'}},\n",
       "  {'complete': True,\n",
       "   'volume': 5106,\n",
       "   'time': '2024-09-20T18:00:00.000000000Z',\n",
       "   'bid': {'o': '1.11587', 'h': '1.11654', 'l': '1.11565', 'c': '1.11643'},\n",
       "   'mid': {'o': '1.11594', 'h': '1.11662', 'l': '1.11572', 'c': '1.11651'},\n",
       "   'ask': {'o': '1.11602', 'h': '1.11669', 'l': '1.11580', 'c': '1.11659'}},\n",
       "  {'complete': True,\n",
       "   'volume': 4100,\n",
       "   'time': '2024-09-20T19:00:00.000000000Z',\n",
       "   'bid': {'o': '1.11643', 'h': '1.11653', 'l': '1.11609', 'c': '1.11613'},\n",
       "   'mid': {'o': '1.11650', 'h': '1.11660', 'l': '1.11617', 'c': '1.11620'},\n",
       "   'ask': {'o': '1.11658', 'h': '1.11668', 'l': '1.11625', 'c': '1.11628'}},\n",
       "  {'complete': True,\n",
       "   'volume': 1921,\n",
       "   'time': '2024-09-20T20:00:00.000000000Z',\n",
       "   'bid': {'o': '1.11613', 'h': '1.11631', 'l': '1.11553', 'c': '1.11625'},\n",
       "   'mid': {'o': '1.11621', 'h': '1.11643', 'l': '1.11561', 'c': '1.11636'},\n",
       "   'ask': {'o': '1.11629', 'h': '1.11661', 'l': '1.11569', 'c': '1.11646'}},\n",
       "  {'complete': True,\n",
       "   'volume': 572,\n",
       "   'time': '2024-09-22T21:00:00.000000000Z',\n",
       "   'bid': {'o': '1.11578', 'h': '1.11638', 'l': '1.11578', 'c': '1.11602'},\n",
       "   'mid': {'o': '1.11628', 'h': '1.11662', 'l': '1.11605', 'c': '1.11624'},\n",
       "   'ask': {'o': '1.11678', 'h': '1.11686', 'l': '1.11621', 'c': '1.11645'}},\n",
       "  {'complete': True,\n",
       "   'volume': 1045,\n",
       "   'time': '2024-09-22T22:00:00.000000000Z',\n",
       "   'bid': {'o': '1.11593', 'h': '1.11640', 'l': '1.11590', 'c': '1.11614'},\n",
       "   'mid': {'o': '1.11619', 'h': '1.11648', 'l': '1.11607', 'c': '1.11622'},\n",
       "   'ask': {'o': '1.11645', 'h': '1.11657', 'l': '1.11618', 'c': '1.11630'}},\n",
       "  {'complete': True,\n",
       "   'volume': 1452,\n",
       "   'time': '2024-09-22T23:00:00.000000000Z',\n",
       "   'bid': {'o': '1.11614', 'h': '1.11631', 'l': '1.11582', 'c': '1.11583'},\n",
       "   'mid': {'o': '1.11622', 'h': '1.11639', 'l': '1.11590', 'c': '1.11591'},\n",
       "   'ask': {'o': '1.11629', 'h': '1.11647', 'l': '1.11598', 'c': '1.11599'}},\n",
       "  {'complete': False,\n",
       "   'volume': 1805,\n",
       "   'time': '2024-09-23T00:00:00.000000000Z',\n",
       "   'bid': {'o': '1.11581', 'h': '1.11600', 'l': '1.11554', 'c': '1.11567'},\n",
       "   'mid': {'o': '1.11590', 'h': '1.11608', 'l': '1.11561', 'c': '1.11576'},\n",
       "   'ask': {'o': '1.11598', 'h': '1.11616', 'l': '1.11568', 'c': '1.11584'}}]}"
      ]
     },
     "execution_count": 7,
     "metadata": {},
     "output_type": "execute_result"
    }
   ],
   "source": [
    "res"
   ]
  },
  {
   "cell_type": "code",
   "execution_count": 8,
   "metadata": {},
   "outputs": [
    {
     "data": {
      "text/plain": [
       "200"
      ]
     },
     "execution_count": 8,
     "metadata": {},
     "output_type": "execute_result"
    }
   ],
   "source": [
    "code"
   ]
  },
  {
   "cell_type": "code",
   "execution_count": 9,
   "metadata": {},
   "outputs": [],
   "source": [
    "def get_candles_df(json_response):\n",
    "    \n",
    "    prices = ['mid','bid','ask']\n",
    "    ohlc = ['o','h','l','c']\n",
    "    our_data = []\n",
    "    for candle in json_response['candles']:\n",
    "        if candle['complete'] == False:\n",
    "            continue\n",
    "        new_dict = {}\n",
    "        new_dict['time'] = candle['time']\n",
    "        new_dict['volume'] = candle['volume']\n",
    "        for price in prices:\n",
    "            for oh in ohlc:\n",
    "                new_dict[f\"{price}_{oh}\"] = candle[price][oh]\n",
    "        our_data.append(new_dict)\n",
    "    return pd.DataFrame.from_dict(our_data)\n"
   ]
  },
  {
   "cell_type": "code",
   "execution_count": 10,
   "metadata": {},
   "outputs": [
    {
     "data": {
      "text/html": [
       "<div>\n",
       "<style scoped>\n",
       "    .dataframe tbody tr th:only-of-type {\n",
       "        vertical-align: middle;\n",
       "    }\n",
       "\n",
       "    .dataframe tbody tr th {\n",
       "        vertical-align: top;\n",
       "    }\n",
       "\n",
       "    .dataframe thead th {\n",
       "        text-align: right;\n",
       "    }\n",
       "</style>\n",
       "<table border=\"1\" class=\"dataframe\">\n",
       "  <thead>\n",
       "    <tr style=\"text-align: right;\">\n",
       "      <th></th>\n",
       "      <th>time</th>\n",
       "      <th>volume</th>\n",
       "      <th>mid_o</th>\n",
       "      <th>mid_h</th>\n",
       "      <th>mid_l</th>\n",
       "      <th>mid_c</th>\n",
       "      <th>bid_o</th>\n",
       "      <th>bid_h</th>\n",
       "      <th>bid_l</th>\n",
       "      <th>bid_c</th>\n",
       "      <th>ask_o</th>\n",
       "      <th>ask_h</th>\n",
       "      <th>ask_l</th>\n",
       "      <th>ask_c</th>\n",
       "    </tr>\n",
       "  </thead>\n",
       "  <tbody>\n",
       "    <tr>\n",
       "      <th>0</th>\n",
       "      <td>2024-09-20T16:00:00.000000000Z</td>\n",
       "      <td>7541</td>\n",
       "      <td>1.11591</td>\n",
       "      <td>1.11759</td>\n",
       "      <td>1.11590</td>\n",
       "      <td>1.11738</td>\n",
       "      <td>1.11584</td>\n",
       "      <td>1.11751</td>\n",
       "      <td>1.11582</td>\n",
       "      <td>1.11731</td>\n",
       "      <td>1.11598</td>\n",
       "      <td>1.11767</td>\n",
       "      <td>1.11597</td>\n",
       "      <td>1.11745</td>\n",
       "    </tr>\n",
       "    <tr>\n",
       "      <th>1</th>\n",
       "      <td>2024-09-20T17:00:00.000000000Z</td>\n",
       "      <td>4886</td>\n",
       "      <td>1.11736</td>\n",
       "      <td>1.11744</td>\n",
       "      <td>1.11582</td>\n",
       "      <td>1.11592</td>\n",
       "      <td>1.11729</td>\n",
       "      <td>1.11736</td>\n",
       "      <td>1.11575</td>\n",
       "      <td>1.11585</td>\n",
       "      <td>1.11744</td>\n",
       "      <td>1.11751</td>\n",
       "      <td>1.11590</td>\n",
       "      <td>1.11600</td>\n",
       "    </tr>\n",
       "    <tr>\n",
       "      <th>2</th>\n",
       "      <td>2024-09-20T18:00:00.000000000Z</td>\n",
       "      <td>5106</td>\n",
       "      <td>1.11594</td>\n",
       "      <td>1.11662</td>\n",
       "      <td>1.11572</td>\n",
       "      <td>1.11651</td>\n",
       "      <td>1.11587</td>\n",
       "      <td>1.11654</td>\n",
       "      <td>1.11565</td>\n",
       "      <td>1.11643</td>\n",
       "      <td>1.11602</td>\n",
       "      <td>1.11669</td>\n",
       "      <td>1.11580</td>\n",
       "      <td>1.11659</td>\n",
       "    </tr>\n",
       "    <tr>\n",
       "      <th>3</th>\n",
       "      <td>2024-09-20T19:00:00.000000000Z</td>\n",
       "      <td>4100</td>\n",
       "      <td>1.11650</td>\n",
       "      <td>1.11660</td>\n",
       "      <td>1.11617</td>\n",
       "      <td>1.11620</td>\n",
       "      <td>1.11643</td>\n",
       "      <td>1.11653</td>\n",
       "      <td>1.11609</td>\n",
       "      <td>1.11613</td>\n",
       "      <td>1.11658</td>\n",
       "      <td>1.11668</td>\n",
       "      <td>1.11625</td>\n",
       "      <td>1.11628</td>\n",
       "    </tr>\n",
       "    <tr>\n",
       "      <th>4</th>\n",
       "      <td>2024-09-20T20:00:00.000000000Z</td>\n",
       "      <td>1921</td>\n",
       "      <td>1.11621</td>\n",
       "      <td>1.11643</td>\n",
       "      <td>1.11561</td>\n",
       "      <td>1.11636</td>\n",
       "      <td>1.11613</td>\n",
       "      <td>1.11631</td>\n",
       "      <td>1.11553</td>\n",
       "      <td>1.11625</td>\n",
       "      <td>1.11629</td>\n",
       "      <td>1.11661</td>\n",
       "      <td>1.11569</td>\n",
       "      <td>1.11646</td>\n",
       "    </tr>\n",
       "    <tr>\n",
       "      <th>5</th>\n",
       "      <td>2024-09-22T21:00:00.000000000Z</td>\n",
       "      <td>572</td>\n",
       "      <td>1.11628</td>\n",
       "      <td>1.11662</td>\n",
       "      <td>1.11605</td>\n",
       "      <td>1.11624</td>\n",
       "      <td>1.11578</td>\n",
       "      <td>1.11638</td>\n",
       "      <td>1.11578</td>\n",
       "      <td>1.11602</td>\n",
       "      <td>1.11678</td>\n",
       "      <td>1.11686</td>\n",
       "      <td>1.11621</td>\n",
       "      <td>1.11645</td>\n",
       "    </tr>\n",
       "    <tr>\n",
       "      <th>6</th>\n",
       "      <td>2024-09-22T22:00:00.000000000Z</td>\n",
       "      <td>1045</td>\n",
       "      <td>1.11619</td>\n",
       "      <td>1.11648</td>\n",
       "      <td>1.11607</td>\n",
       "      <td>1.11622</td>\n",
       "      <td>1.11593</td>\n",
       "      <td>1.11640</td>\n",
       "      <td>1.11590</td>\n",
       "      <td>1.11614</td>\n",
       "      <td>1.11645</td>\n",
       "      <td>1.11657</td>\n",
       "      <td>1.11618</td>\n",
       "      <td>1.11630</td>\n",
       "    </tr>\n",
       "    <tr>\n",
       "      <th>7</th>\n",
       "      <td>2024-09-22T23:00:00.000000000Z</td>\n",
       "      <td>1452</td>\n",
       "      <td>1.11622</td>\n",
       "      <td>1.11639</td>\n",
       "      <td>1.11590</td>\n",
       "      <td>1.11591</td>\n",
       "      <td>1.11614</td>\n",
       "      <td>1.11631</td>\n",
       "      <td>1.11582</td>\n",
       "      <td>1.11583</td>\n",
       "      <td>1.11629</td>\n",
       "      <td>1.11647</td>\n",
       "      <td>1.11598</td>\n",
       "      <td>1.11599</td>\n",
       "    </tr>\n",
       "  </tbody>\n",
       "</table>\n",
       "</div>"
      ],
      "text/plain": [
       "                             time  volume    mid_o    mid_h    mid_l    mid_c  \\\n",
       "0  2024-09-20T16:00:00.000000000Z    7541  1.11591  1.11759  1.11590  1.11738   \n",
       "1  2024-09-20T17:00:00.000000000Z    4886  1.11736  1.11744  1.11582  1.11592   \n",
       "2  2024-09-20T18:00:00.000000000Z    5106  1.11594  1.11662  1.11572  1.11651   \n",
       "3  2024-09-20T19:00:00.000000000Z    4100  1.11650  1.11660  1.11617  1.11620   \n",
       "4  2024-09-20T20:00:00.000000000Z    1921  1.11621  1.11643  1.11561  1.11636   \n",
       "5  2024-09-22T21:00:00.000000000Z     572  1.11628  1.11662  1.11605  1.11624   \n",
       "6  2024-09-22T22:00:00.000000000Z    1045  1.11619  1.11648  1.11607  1.11622   \n",
       "7  2024-09-22T23:00:00.000000000Z    1452  1.11622  1.11639  1.11590  1.11591   \n",
       "\n",
       "     bid_o    bid_h    bid_l    bid_c    ask_o    ask_h    ask_l    ask_c  \n",
       "0  1.11584  1.11751  1.11582  1.11731  1.11598  1.11767  1.11597  1.11745  \n",
       "1  1.11729  1.11736  1.11575  1.11585  1.11744  1.11751  1.11590  1.11600  \n",
       "2  1.11587  1.11654  1.11565  1.11643  1.11602  1.11669  1.11580  1.11659  \n",
       "3  1.11643  1.11653  1.11609  1.11613  1.11658  1.11668  1.11625  1.11628  \n",
       "4  1.11613  1.11631  1.11553  1.11625  1.11629  1.11661  1.11569  1.11646  \n",
       "5  1.11578  1.11638  1.11578  1.11602  1.11678  1.11686  1.11621  1.11645  \n",
       "6  1.11593  1.11640  1.11590  1.11614  1.11645  1.11657  1.11618  1.11630  \n",
       "7  1.11614  1.11631  1.11582  1.11583  1.11629  1.11647  1.11598  1.11599  "
      ]
     },
     "execution_count": 10,
     "metadata": {},
     "output_type": "execute_result"
    }
   ],
   "source": [
    "get_candles_df(res)"
   ]
  },
  {
   "cell_type": "code",
   "execution_count": 11,
   "metadata": {},
   "outputs": [],
   "source": [
    "def save_file(candles_df,pair,granularity):\n",
    "    candles_df.to_pickle(f'his_data/{pair}_{granularity}.pkl')"
   ]
  },
  {
   "cell_type": "code",
   "execution_count": 12,
   "metadata": {},
   "outputs": [],
   "source": [
    "def create_data(pair,granularity):\n",
    "    code ,json_data = fetch_candles(pair,4000,granularity)\n",
    "    if code != 200:\n",
    "        print(pair,\"Error\")\n",
    "        return\n",
    "    df = get_candles_df(json_data)\n",
    "    print(f\"{pair} loaded {df.shape[0]} candles from {df.time.min()} to {df.time.max()}\")\n",
    "    save_file(df,pair, granularity)"
   ]
  },
  {
   "cell_type": "code",
   "execution_count": null,
   "metadata": {},
   "outputs": [],
   "source": []
  },
  {
   "cell_type": "code",
   "execution_count": null,
   "metadata": {},
   "outputs": [],
   "source": []
  },
  {
   "cell_type": "code",
   "execution_count": 13,
   "metadata": {},
   "outputs": [
    {
     "name": "stdout",
     "output_type": "stream",
     "text": [
      "EUR_USD loaded 3999 candles from 2024-02-01T08:00:00.000000000Z to 2024-09-22T23:00:00.000000000Z\n",
      "EUR_GBP loaded 3999 candles from 2024-02-01T08:00:00.000000000Z to 2024-09-22T23:00:00.000000000Z\n",
      "EUR_JPY loaded 3999 candles from 2024-02-01T08:00:00.000000000Z to 2024-09-22T23:00:00.000000000Z\n",
      "EUR_CHF loaded 3999 candles from 2024-02-01T08:00:00.000000000Z to 2024-09-22T23:00:00.000000000Z\n",
      "EUR_NZD loaded 3999 candles from 2024-02-01T08:00:00.000000000Z to 2024-09-22T23:00:00.000000000Z\n",
      "EUR_CAD loaded 3999 candles from 2024-02-01T08:00:00.000000000Z to 2024-09-22T23:00:00.000000000Z\n",
      "USD_JPY loaded 3999 candles from 2024-02-01T08:00:00.000000000Z to 2024-09-22T23:00:00.000000000Z\n",
      "USD_CHF loaded 3999 candles from 2024-02-01T08:00:00.000000000Z to 2024-09-22T23:00:00.000000000Z\n",
      "USD_CAD loaded 3999 candles from 2024-02-01T08:00:00.000000000Z to 2024-09-22T23:00:00.000000000Z\n",
      "GBP_USD loaded 3999 candles from 2024-02-01T08:00:00.000000000Z to 2024-09-22T23:00:00.000000000Z\n",
      "GBP_JPY loaded 3999 candles from 2024-02-01T08:00:00.000000000Z to 2024-09-22T23:00:00.000000000Z\n",
      "GBP_CHF loaded 3999 candles from 2024-02-01T08:00:00.000000000Z to 2024-09-22T23:00:00.000000000Z\n",
      "GBP_NZD loaded 3999 candles from 2024-02-01T08:00:00.000000000Z to 2024-09-22T23:00:00.000000000Z\n",
      "GBP_CAD loaded 3999 candles from 2024-02-01T08:00:00.000000000Z to 2024-09-22T23:00:00.000000000Z\n",
      "CHF_JPY loaded 3999 candles from 2024-02-01T08:00:00.000000000Z to 2024-09-22T23:00:00.000000000Z\n",
      "NZD_USD loaded 3999 candles from 2024-02-01T07:00:00.000000000Z to 2024-09-22T23:00:00.000000000Z\n",
      "NZD_JPY loaded 3999 candles from 2024-02-01T08:00:00.000000000Z to 2024-09-22T23:00:00.000000000Z\n",
      "NZD_CHF loaded 3999 candles from 2024-02-01T07:00:00.000000000Z to 2024-09-22T23:00:00.000000000Z\n",
      "NZD_CAD loaded 3999 candles from 2024-02-01T08:00:00.000000000Z to 2024-09-22T23:00:00.000000000Z\n",
      "CAD_JPY loaded 3999 candles from 2024-02-01T08:00:00.000000000Z to 2024-09-22T23:00:00.000000000Z\n",
      "CAD_CHF loaded 3999 candles from 2024-02-01T08:00:00.000000000Z to 2024-09-22T23:00:00.000000000Z\n"
     ]
    }
   ],
   "source": [
    "for p1 in our_curr:\n",
    "    for p2 in our_curr:\n",
    "        pair =  f\"{p1}_{p2}\"\n",
    "        if pair in ins_df.name.unique():\n",
    "          create_data(pair,\"H1\")"
   ]
  },
  {
   "cell_type": "code",
   "execution_count": null,
   "metadata": {},
   "outputs": [],
   "source": []
  },
  {
   "cell_type": "code",
   "execution_count": null,
   "metadata": {},
   "outputs": [],
   "source": []
  },
  {
   "cell_type": "code",
   "execution_count": null,
   "metadata": {},
   "outputs": [],
   "source": []
  },
  {
   "cell_type": "code",
   "execution_count": null,
   "metadata": {},
   "outputs": [],
   "source": []
  },
  {
   "cell_type": "code",
   "execution_count": 14,
   "metadata": {},
   "outputs": [
    {
     "data": {
      "text/plain": [
       "68"
      ]
     },
     "execution_count": 14,
     "metadata": {},
     "output_type": "execute_result"
    }
   ],
   "source": [
    "ins_df.shape[0]"
   ]
  },
  {
   "cell_type": "code",
   "execution_count": 15,
   "metadata": {},
   "outputs": [
    {
     "data": {
      "text/html": [
       "<div>\n",
       "<style scoped>\n",
       "    .dataframe tbody tr th:only-of-type {\n",
       "        vertical-align: middle;\n",
       "    }\n",
       "\n",
       "    .dataframe tbody tr th {\n",
       "        vertical-align: top;\n",
       "    }\n",
       "\n",
       "    .dataframe thead th {\n",
       "        text-align: right;\n",
       "    }\n",
       "</style>\n",
       "<table border=\"1\" class=\"dataframe\">\n",
       "  <thead>\n",
       "    <tr style=\"text-align: right;\">\n",
       "      <th></th>\n",
       "      <th>name</th>\n",
       "      <th>type</th>\n",
       "      <th>displayName</th>\n",
       "      <th>pipLocation</th>\n",
       "      <th>marginRate</th>\n",
       "    </tr>\n",
       "  </thead>\n",
       "  <tbody>\n",
       "    <tr>\n",
       "      <th>0</th>\n",
       "      <td>USD_CNH</td>\n",
       "      <td>CURRENCY</td>\n",
       "      <td>USD/CNH</td>\n",
       "      <td>-4</td>\n",
       "      <td>0.05</td>\n",
       "    </tr>\n",
       "    <tr>\n",
       "      <th>1</th>\n",
       "      <td>NZD_CAD</td>\n",
       "      <td>CURRENCY</td>\n",
       "      <td>NZD/CAD</td>\n",
       "      <td>-4</td>\n",
       "      <td>0.03</td>\n",
       "    </tr>\n",
       "    <tr>\n",
       "      <th>2</th>\n",
       "      <td>EUR_CHF</td>\n",
       "      <td>CURRENCY</td>\n",
       "      <td>EUR/CHF</td>\n",
       "      <td>-4</td>\n",
       "      <td>0.04</td>\n",
       "    </tr>\n",
       "    <tr>\n",
       "      <th>3</th>\n",
       "      <td>SGD_CHF</td>\n",
       "      <td>CURRENCY</td>\n",
       "      <td>SGD/CHF</td>\n",
       "      <td>-4</td>\n",
       "      <td>0.05</td>\n",
       "    </tr>\n",
       "    <tr>\n",
       "      <th>4</th>\n",
       "      <td>EUR_CZK</td>\n",
       "      <td>CURRENCY</td>\n",
       "      <td>EUR/CZK</td>\n",
       "      <td>-4</td>\n",
       "      <td>0.05</td>\n",
       "    </tr>\n",
       "    <tr>\n",
       "      <th>...</th>\n",
       "      <td>...</td>\n",
       "      <td>...</td>\n",
       "      <td>...</td>\n",
       "      <td>...</td>\n",
       "      <td>...</td>\n",
       "    </tr>\n",
       "    <tr>\n",
       "      <th>63</th>\n",
       "      <td>USD_SEK</td>\n",
       "      <td>CURRENCY</td>\n",
       "      <td>USD/SEK</td>\n",
       "      <td>-4</td>\n",
       "      <td>0.03</td>\n",
       "    </tr>\n",
       "    <tr>\n",
       "      <th>64</th>\n",
       "      <td>GBP_SGD</td>\n",
       "      <td>CURRENCY</td>\n",
       "      <td>GBP/SGD</td>\n",
       "      <td>-4</td>\n",
       "      <td>0.05</td>\n",
       "    </tr>\n",
       "    <tr>\n",
       "      <th>65</th>\n",
       "      <td>EUR_PLN</td>\n",
       "      <td>CURRENCY</td>\n",
       "      <td>EUR/PLN</td>\n",
       "      <td>-4</td>\n",
       "      <td>0.05</td>\n",
       "    </tr>\n",
       "    <tr>\n",
       "      <th>66</th>\n",
       "      <td>HKD_JPY</td>\n",
       "      <td>CURRENCY</td>\n",
       "      <td>HKD/JPY</td>\n",
       "      <td>-4</td>\n",
       "      <td>0.1</td>\n",
       "    </tr>\n",
       "    <tr>\n",
       "      <th>67</th>\n",
       "      <td>EUR_HUF</td>\n",
       "      <td>CURRENCY</td>\n",
       "      <td>EUR/HUF</td>\n",
       "      <td>-2</td>\n",
       "      <td>0.05</td>\n",
       "    </tr>\n",
       "  </tbody>\n",
       "</table>\n",
       "<p>68 rows × 5 columns</p>\n",
       "</div>"
      ],
      "text/plain": [
       "       name      type displayName  pipLocation marginRate\n",
       "0   USD_CNH  CURRENCY     USD/CNH           -4       0.05\n",
       "1   NZD_CAD  CURRENCY     NZD/CAD           -4       0.03\n",
       "2   EUR_CHF  CURRENCY     EUR/CHF           -4       0.04\n",
       "3   SGD_CHF  CURRENCY     SGD/CHF           -4       0.05\n",
       "4   EUR_CZK  CURRENCY     EUR/CZK           -4       0.05\n",
       "..      ...       ...         ...          ...        ...\n",
       "63  USD_SEK  CURRENCY     USD/SEK           -4       0.03\n",
       "64  GBP_SGD  CURRENCY     GBP/SGD           -4       0.05\n",
       "65  EUR_PLN  CURRENCY     EUR/PLN           -4       0.05\n",
       "66  HKD_JPY  CURRENCY     HKD/JPY           -4        0.1\n",
       "67  EUR_HUF  CURRENCY     EUR/HUF           -2       0.05\n",
       "\n",
       "[68 rows x 5 columns]"
      ]
     },
     "execution_count": 15,
     "metadata": {},
     "output_type": "execute_result"
    }
   ],
   "source": [
    "ins_df"
   ]
  },
  {
   "cell_type": "code",
   "execution_count": 16,
   "metadata": {},
   "outputs": [
    {
     "name": "stdout",
     "output_type": "stream",
     "text": [
      "<class 'pandas.core.frame.DataFrame'>\n",
      "RangeIndex: 68 entries, 0 to 67\n",
      "Data columns (total 5 columns):\n",
      " #   Column       Non-Null Count  Dtype \n",
      "---  ------       --------------  ----- \n",
      " 0   name         68 non-null     object\n",
      " 1   type         68 non-null     object\n",
      " 2   displayName  68 non-null     object\n",
      " 3   pipLocation  68 non-null     int64 \n",
      " 4   marginRate   68 non-null     object\n",
      "dtypes: int64(1), object(4)\n",
      "memory usage: 2.8+ KB\n"
     ]
    }
   ],
   "source": [
    "ins_df.info()\n"
   ]
  },
  {
   "cell_type": "code",
   "execution_count": 17,
   "metadata": {},
   "outputs": [
    {
     "data": {
      "text/plain": [
       "Index(['name', 'type', 'displayName', 'pipLocation', 'marginRate'], dtype='object')"
      ]
     },
     "execution_count": 17,
     "metadata": {},
     "output_type": "execute_result"
    }
   ],
   "source": [
    "ins_df.columns\n"
   ]
  },
  {
   "cell_type": "code",
   "execution_count": 18,
   "metadata": {},
   "outputs": [
    {
     "data": {
      "text/plain": [
       "0     USD_CNH\n",
       "1     NZD_CAD\n",
       "2     EUR_CHF\n",
       "3     SGD_CHF\n",
       "4     EUR_CZK\n",
       "       ...   \n",
       "63    USD_SEK\n",
       "64    GBP_SGD\n",
       "65    EUR_PLN\n",
       "66    HKD_JPY\n",
       "67    EUR_HUF\n",
       "Name: name, Length: 68, dtype: object"
      ]
     },
     "execution_count": 18,
     "metadata": {},
     "output_type": "execute_result"
    }
   ],
   "source": [
    "ins_df.name"
   ]
  },
  {
   "cell_type": "code",
   "execution_count": 19,
   "metadata": {},
   "outputs": [
    {
     "data": {
      "text/plain": [
       "<bound method Series.unique of 0     USD_CNH\n",
       "1     NZD_CAD\n",
       "2     EUR_CHF\n",
       "3     SGD_CHF\n",
       "4     EUR_CZK\n",
       "       ...   \n",
       "63    USD_SEK\n",
       "64    GBP_SGD\n",
       "65    EUR_PLN\n",
       "66    HKD_JPY\n",
       "67    EUR_HUF\n",
       "Name: name, Length: 68, dtype: object>"
      ]
     },
     "execution_count": 19,
     "metadata": {},
     "output_type": "execute_result"
    }
   ],
   "source": [
    "ins_df.name.unique"
   ]
  },
  {
   "cell_type": "code",
   "execution_count": null,
   "metadata": {},
   "outputs": [],
   "source": []
  },
  {
   "cell_type": "code",
   "execution_count": null,
   "metadata": {},
   "outputs": [],
   "source": []
  },
  {
   "cell_type": "code",
   "execution_count": null,
   "metadata": {},
   "outputs": [],
   "source": []
  },
  {
   "cell_type": "code",
   "execution_count": null,
   "metadata": {},
   "outputs": [],
   "source": []
  },
  {
   "cell_type": "code",
   "execution_count": null,
   "metadata": {},
   "outputs": [],
   "source": []
  }
 ],
 "metadata": {
  "kernelspec": {
   "display_name": ".venv",
   "language": "python",
   "name": "python3"
  },
  "language_info": {
   "codemirror_mode": {
    "name": "ipython",
    "version": 3
   },
   "file_extension": ".py",
   "mimetype": "text/x-python",
   "name": "python",
   "nbconvert_exporter": "python",
   "pygments_lexer": "ipython3",
   "version": "3.12.6"
  }
 },
 "nbformat": 4,
 "nbformat_minor": 2
}
