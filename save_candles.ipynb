{
 "cells": [
  {
   "cell_type": "code",
   "execution_count": 1,
   "metadata": {},
   "outputs": [],
   "source": [
    "import requests\n",
    "import defs\n",
    "import pandas as pd"
   ]
  },
  {
   "cell_type": "code",
   "execution_count": 2,
   "metadata": {},
   "outputs": [],
   "source": [
    "session = requests.Session()"
   ]
  },
  {
   "cell_type": "code",
   "execution_count": 3,
   "metadata": {},
   "outputs": [],
   "source": [
    "ins_df = pd.read_pickle(\"instruments.pkl\")"
   ]
  },
  {
   "cell_type": "code",
   "execution_count": 4,
   "metadata": {},
   "outputs": [],
   "source": [
    "our_curr = ['EUR','USD','GBP','JPY','CHF','NZD','CAD']"
   ]
  },
  {
   "cell_type": "code",
   "execution_count": 5,
   "metadata": {},
   "outputs": [],
   "source": [
    "def fetch_candles(pair_name, count, granularity):\n",
    "    url = f\"{defs.OANDA_URL}/instruments/{pair_name}/candles\"\n",
    "    \n",
    "    params = dict(\n",
    "    count = count,\n",
    "    granularity = granularity,\n",
    "    price = \"MBA\"\n",
    "    )\n",
    "    response = session.get(url, params=params, headers=defs.SECURE_HEADER)\n",
    "    return response.status_code, response.json()"
   ]
  },
  {
   "cell_type": "code",
   "execution_count": 6,
   "metadata": {},
   "outputs": [],
   "source": [
    "code, res = fetch_candles(\"EUR_USD\",9,\"H1\")"
   ]
  },
  {
   "cell_type": "code",
   "execution_count": 7,
   "metadata": {},
   "outputs": [
    {
     "data": {
      "text/plain": [
       "{'instrument': 'EUR_USD',\n",
       " 'granularity': 'H1',\n",
       " 'candles': [{'complete': True,\n",
       "   'volume': 5773,\n",
       "   'time': '2024-09-25T07:00:00.000000000Z',\n",
       "   'bid': {'o': '1.11899', 'h': '1.11958', 'l': '1.11851', 'c': '1.11911'},\n",
       "   'mid': {'o': '1.11906', 'h': '1.11966', 'l': '1.11858', 'c': '1.11918'},\n",
       "   'ask': {'o': '1.11913', 'h': '1.11973', 'l': '1.11866', 'c': '1.11926'}},\n",
       "  {'complete': True,\n",
       "   'volume': 5051,\n",
       "   'time': '2024-09-25T08:00:00.000000000Z',\n",
       "   'bid': {'o': '1.11906', 'h': '1.11948', 'l': '1.11814', 'c': '1.11841'},\n",
       "   'mid': {'o': '1.11914', 'h': '1.11956', 'l': '1.11822', 'c': '1.11849'},\n",
       "   'ask': {'o': '1.11923', 'h': '1.11963', 'l': '1.11829', 'c': '1.11857'}},\n",
       "  {'complete': True,\n",
       "   'volume': 4254,\n",
       "   'time': '2024-09-25T09:00:00.000000000Z',\n",
       "   'bid': {'o': '1.11841', 'h': '1.11871', 'l': '1.11774', 'c': '1.11825'},\n",
       "   'mid': {'o': '1.11848', 'h': '1.11878', 'l': '1.11782', 'c': '1.11832'},\n",
       "   'ask': {'o': '1.11856', 'h': '1.11886', 'l': '1.11790', 'c': '1.11840'}},\n",
       "  {'complete': True,\n",
       "   'volume': 4390,\n",
       "   'time': '2024-09-25T10:00:00.000000000Z',\n",
       "   'bid': {'o': '1.11826', 'h': '1.11883', 'l': '1.11802', 'c': '1.11864'},\n",
       "   'mid': {'o': '1.11833', 'h': '1.11890', 'l': '1.11810', 'c': '1.11872'},\n",
       "   'ask': {'o': '1.11840', 'h': '1.11897', 'l': '1.11817', 'c': '1.11879'}},\n",
       "  {'complete': True,\n",
       "   'volume': 3942,\n",
       "   'time': '2024-09-25T11:00:00.000000000Z',\n",
       "   'bid': {'o': '1.11866', 'h': '1.11966', 'l': '1.11825', 'c': '1.11951'},\n",
       "   'mid': {'o': '1.11873', 'h': '1.11974', 'l': '1.11833', 'c': '1.11959'},\n",
       "   'ask': {'o': '1.11880', 'h': '1.11982', 'l': '1.11841', 'c': '1.11967'}},\n",
       "  {'complete': True,\n",
       "   'volume': 6316,\n",
       "   'time': '2024-09-25T12:00:00.000000000Z',\n",
       "   'bid': {'o': '1.11952', 'h': '1.12071', 'l': '1.11910', 'c': '1.11969'},\n",
       "   'mid': {'o': '1.11960', 'h': '1.12079', 'l': '1.11918', 'c': '1.11978'},\n",
       "   'ask': {'o': '1.11967', 'h': '1.12087', 'l': '1.11926', 'c': '1.11986'}},\n",
       "  {'complete': True,\n",
       "   'volume': 8310,\n",
       "   'time': '2024-09-25T13:00:00.000000000Z',\n",
       "   'bid': {'o': '1.11971', 'h': '1.12133', 'l': '1.11945', 'c': '1.11945'},\n",
       "   'mid': {'o': '1.11979', 'h': '1.12142', 'l': '1.11952', 'c': '1.11952'},\n",
       "   'ask': {'o': '1.11987', 'h': '1.12150', 'l': '1.11960', 'c': '1.11960'}},\n",
       "  {'complete': True,\n",
       "   'volume': 7100,\n",
       "   'time': '2024-09-25T14:00:00.000000000Z',\n",
       "   'bid': {'o': '1.11945', 'h': '1.11948', 'l': '1.11645', 'c': '1.11718'},\n",
       "   'mid': {'o': '1.11953', 'h': '1.11956', 'l': '1.11654', 'c': '1.11726'},\n",
       "   'ask': {'o': '1.11961', 'h': '1.11964', 'l': '1.11661', 'c': '1.11734'}},\n",
       "  {'complete': False,\n",
       "   'volume': 5523,\n",
       "   'time': '2024-09-25T15:00:00.000000000Z',\n",
       "   'bid': {'o': '1.11720', 'h': '1.11745', 'l': '1.11523', 'c': '1.11557'},\n",
       "   'mid': {'o': '1.11728', 'h': '1.11754', 'l': '1.11530', 'c': '1.11565'},\n",
       "   'ask': {'o': '1.11735', 'h': '1.11762', 'l': '1.11538', 'c': '1.11573'}}]}"
      ]
     },
     "execution_count": 7,
     "metadata": {},
     "output_type": "execute_result"
    }
   ],
   "source": [
    "res"
   ]
  },
  {
   "cell_type": "code",
   "execution_count": 8,
   "metadata": {},
   "outputs": [
    {
     "data": {
      "text/plain": [
       "200"
      ]
     },
     "execution_count": 8,
     "metadata": {},
     "output_type": "execute_result"
    }
   ],
   "source": [
    "code"
   ]
  },
  {
   "cell_type": "code",
   "execution_count": 9,
   "metadata": {},
   "outputs": [],
   "source": [
    "def get_candles_df(json_response):\n",
    "    \n",
    "    prices = ['mid','bid','ask']\n",
    "    ohlc = ['o','h','l','c']\n",
    "    our_data = []\n",
    "    for candle in json_response['candles']:\n",
    "        if candle['complete'] == False:\n",
    "            continue\n",
    "        new_dict = {}\n",
    "        new_dict['time'] = candle['time']\n",
    "        new_dict['volume'] = candle['volume']\n",
    "        for price in prices:\n",
    "            for oh in ohlc:\n",
    "                new_dict[f\"{price}_{oh}\"] = candle[price][oh]\n",
    "        our_data.append(new_dict)\n",
    "    return pd.DataFrame.from_dict(our_data)\n"
   ]
  },
  {
   "cell_type": "code",
   "execution_count": 10,
   "metadata": {},
   "outputs": [
    {
     "data": {
      "text/html": [
       "<div>\n",
       "<style scoped>\n",
       "    .dataframe tbody tr th:only-of-type {\n",
       "        vertical-align: middle;\n",
       "    }\n",
       "\n",
       "    .dataframe tbody tr th {\n",
       "        vertical-align: top;\n",
       "    }\n",
       "\n",
       "    .dataframe thead th {\n",
       "        text-align: right;\n",
       "    }\n",
       "</style>\n",
       "<table border=\"1\" class=\"dataframe\">\n",
       "  <thead>\n",
       "    <tr style=\"text-align: right;\">\n",
       "      <th></th>\n",
       "      <th>time</th>\n",
       "      <th>volume</th>\n",
       "      <th>mid_o</th>\n",
       "      <th>mid_h</th>\n",
       "      <th>mid_l</th>\n",
       "      <th>mid_c</th>\n",
       "      <th>bid_o</th>\n",
       "      <th>bid_h</th>\n",
       "      <th>bid_l</th>\n",
       "      <th>bid_c</th>\n",
       "      <th>ask_o</th>\n",
       "      <th>ask_h</th>\n",
       "      <th>ask_l</th>\n",
       "      <th>ask_c</th>\n",
       "    </tr>\n",
       "  </thead>\n",
       "  <tbody>\n",
       "    <tr>\n",
       "      <th>0</th>\n",
       "      <td>2024-09-25T07:00:00.000000000Z</td>\n",
       "      <td>5773</td>\n",
       "      <td>1.11906</td>\n",
       "      <td>1.11966</td>\n",
       "      <td>1.11858</td>\n",
       "      <td>1.11918</td>\n",
       "      <td>1.11899</td>\n",
       "      <td>1.11958</td>\n",
       "      <td>1.11851</td>\n",
       "      <td>1.11911</td>\n",
       "      <td>1.11913</td>\n",
       "      <td>1.11973</td>\n",
       "      <td>1.11866</td>\n",
       "      <td>1.11926</td>\n",
       "    </tr>\n",
       "    <tr>\n",
       "      <th>1</th>\n",
       "      <td>2024-09-25T08:00:00.000000000Z</td>\n",
       "      <td>5051</td>\n",
       "      <td>1.11914</td>\n",
       "      <td>1.11956</td>\n",
       "      <td>1.11822</td>\n",
       "      <td>1.11849</td>\n",
       "      <td>1.11906</td>\n",
       "      <td>1.11948</td>\n",
       "      <td>1.11814</td>\n",
       "      <td>1.11841</td>\n",
       "      <td>1.11923</td>\n",
       "      <td>1.11963</td>\n",
       "      <td>1.11829</td>\n",
       "      <td>1.11857</td>\n",
       "    </tr>\n",
       "    <tr>\n",
       "      <th>2</th>\n",
       "      <td>2024-09-25T09:00:00.000000000Z</td>\n",
       "      <td>4254</td>\n",
       "      <td>1.11848</td>\n",
       "      <td>1.11878</td>\n",
       "      <td>1.11782</td>\n",
       "      <td>1.11832</td>\n",
       "      <td>1.11841</td>\n",
       "      <td>1.11871</td>\n",
       "      <td>1.11774</td>\n",
       "      <td>1.11825</td>\n",
       "      <td>1.11856</td>\n",
       "      <td>1.11886</td>\n",
       "      <td>1.11790</td>\n",
       "      <td>1.11840</td>\n",
       "    </tr>\n",
       "    <tr>\n",
       "      <th>3</th>\n",
       "      <td>2024-09-25T10:00:00.000000000Z</td>\n",
       "      <td>4390</td>\n",
       "      <td>1.11833</td>\n",
       "      <td>1.11890</td>\n",
       "      <td>1.11810</td>\n",
       "      <td>1.11872</td>\n",
       "      <td>1.11826</td>\n",
       "      <td>1.11883</td>\n",
       "      <td>1.11802</td>\n",
       "      <td>1.11864</td>\n",
       "      <td>1.11840</td>\n",
       "      <td>1.11897</td>\n",
       "      <td>1.11817</td>\n",
       "      <td>1.11879</td>\n",
       "    </tr>\n",
       "    <tr>\n",
       "      <th>4</th>\n",
       "      <td>2024-09-25T11:00:00.000000000Z</td>\n",
       "      <td>3942</td>\n",
       "      <td>1.11873</td>\n",
       "      <td>1.11974</td>\n",
       "      <td>1.11833</td>\n",
       "      <td>1.11959</td>\n",
       "      <td>1.11866</td>\n",
       "      <td>1.11966</td>\n",
       "      <td>1.11825</td>\n",
       "      <td>1.11951</td>\n",
       "      <td>1.11880</td>\n",
       "      <td>1.11982</td>\n",
       "      <td>1.11841</td>\n",
       "      <td>1.11967</td>\n",
       "    </tr>\n",
       "    <tr>\n",
       "      <th>5</th>\n",
       "      <td>2024-09-25T12:00:00.000000000Z</td>\n",
       "      <td>6316</td>\n",
       "      <td>1.11960</td>\n",
       "      <td>1.12079</td>\n",
       "      <td>1.11918</td>\n",
       "      <td>1.11978</td>\n",
       "      <td>1.11952</td>\n",
       "      <td>1.12071</td>\n",
       "      <td>1.11910</td>\n",
       "      <td>1.11969</td>\n",
       "      <td>1.11967</td>\n",
       "      <td>1.12087</td>\n",
       "      <td>1.11926</td>\n",
       "      <td>1.11986</td>\n",
       "    </tr>\n",
       "    <tr>\n",
       "      <th>6</th>\n",
       "      <td>2024-09-25T13:00:00.000000000Z</td>\n",
       "      <td>8310</td>\n",
       "      <td>1.11979</td>\n",
       "      <td>1.12142</td>\n",
       "      <td>1.11952</td>\n",
       "      <td>1.11952</td>\n",
       "      <td>1.11971</td>\n",
       "      <td>1.12133</td>\n",
       "      <td>1.11945</td>\n",
       "      <td>1.11945</td>\n",
       "      <td>1.11987</td>\n",
       "      <td>1.12150</td>\n",
       "      <td>1.11960</td>\n",
       "      <td>1.11960</td>\n",
       "    </tr>\n",
       "    <tr>\n",
       "      <th>7</th>\n",
       "      <td>2024-09-25T14:00:00.000000000Z</td>\n",
       "      <td>7100</td>\n",
       "      <td>1.11953</td>\n",
       "      <td>1.11956</td>\n",
       "      <td>1.11654</td>\n",
       "      <td>1.11726</td>\n",
       "      <td>1.11945</td>\n",
       "      <td>1.11948</td>\n",
       "      <td>1.11645</td>\n",
       "      <td>1.11718</td>\n",
       "      <td>1.11961</td>\n",
       "      <td>1.11964</td>\n",
       "      <td>1.11661</td>\n",
       "      <td>1.11734</td>\n",
       "    </tr>\n",
       "  </tbody>\n",
       "</table>\n",
       "</div>"
      ],
      "text/plain": [
       "                             time  volume    mid_o    mid_h    mid_l    mid_c  \\\n",
       "0  2024-09-25T07:00:00.000000000Z    5773  1.11906  1.11966  1.11858  1.11918   \n",
       "1  2024-09-25T08:00:00.000000000Z    5051  1.11914  1.11956  1.11822  1.11849   \n",
       "2  2024-09-25T09:00:00.000000000Z    4254  1.11848  1.11878  1.11782  1.11832   \n",
       "3  2024-09-25T10:00:00.000000000Z    4390  1.11833  1.11890  1.11810  1.11872   \n",
       "4  2024-09-25T11:00:00.000000000Z    3942  1.11873  1.11974  1.11833  1.11959   \n",
       "5  2024-09-25T12:00:00.000000000Z    6316  1.11960  1.12079  1.11918  1.11978   \n",
       "6  2024-09-25T13:00:00.000000000Z    8310  1.11979  1.12142  1.11952  1.11952   \n",
       "7  2024-09-25T14:00:00.000000000Z    7100  1.11953  1.11956  1.11654  1.11726   \n",
       "\n",
       "     bid_o    bid_h    bid_l    bid_c    ask_o    ask_h    ask_l    ask_c  \n",
       "0  1.11899  1.11958  1.11851  1.11911  1.11913  1.11973  1.11866  1.11926  \n",
       "1  1.11906  1.11948  1.11814  1.11841  1.11923  1.11963  1.11829  1.11857  \n",
       "2  1.11841  1.11871  1.11774  1.11825  1.11856  1.11886  1.11790  1.11840  \n",
       "3  1.11826  1.11883  1.11802  1.11864  1.11840  1.11897  1.11817  1.11879  \n",
       "4  1.11866  1.11966  1.11825  1.11951  1.11880  1.11982  1.11841  1.11967  \n",
       "5  1.11952  1.12071  1.11910  1.11969  1.11967  1.12087  1.11926  1.11986  \n",
       "6  1.11971  1.12133  1.11945  1.11945  1.11987  1.12150  1.11960  1.11960  \n",
       "7  1.11945  1.11948  1.11645  1.11718  1.11961  1.11964  1.11661  1.11734  "
      ]
     },
     "execution_count": 10,
     "metadata": {},
     "output_type": "execute_result"
    }
   ],
   "source": [
    "get_candles_df(res)"
   ]
  },
  {
   "cell_type": "code",
   "execution_count": 11,
   "metadata": {},
   "outputs": [],
   "source": [
    "def save_file(candles_df,pair,granularity):\n",
    "    candles_df.to_pickle(f'his_data/{pair}_{granularity}.pkl')"
   ]
  },
  {
   "cell_type": "code",
   "execution_count": 12,
   "metadata": {},
   "outputs": [],
   "source": [
    "def create_data(pair,granularity):\n",
    "    code ,json_data = fetch_candles(pair,4000,granularity)\n",
    "    if code != 200:\n",
    "        print(pair,\"Error\")\n",
    "        return\n",
    "    df = get_candles_df(json_data)\n",
    "    print(f\"{pair} loaded {df.shape[0]} candles from {df.time.min()} to {df.time.max()}\")\n",
    "    save_file(df,pair, granularity)"
   ]
  },
  {
   "cell_type": "code",
   "execution_count": null,
   "metadata": {},
   "outputs": [],
   "source": []
  },
  {
   "cell_type": "code",
   "execution_count": null,
   "metadata": {},
   "outputs": [],
   "source": []
  },
  {
   "cell_type": "code",
   "execution_count": 13,
   "metadata": {},
   "outputs": [
    {
     "name": "stdout",
     "output_type": "stream",
     "text": [
      "EUR_USD loaded 3999 candles from 2024-02-05T23:00:00.000000000Z to 2024-09-25T14:00:00.000000000Z\n",
      "EUR_GBP loaded 3999 candles from 2024-02-05T23:00:00.000000000Z to 2024-09-25T14:00:00.000000000Z\n",
      "EUR_JPY loaded 3999 candles from 2024-02-05T23:00:00.000000000Z to 2024-09-25T14:00:00.000000000Z\n",
      "EUR_CHF loaded 3999 candles from 2024-02-05T23:00:00.000000000Z to 2024-09-25T14:00:00.000000000Z\n",
      "EUR_NZD loaded 3999 candles from 2024-02-05T23:00:00.000000000Z to 2024-09-25T14:00:00.000000000Z\n",
      "EUR_CAD loaded 3999 candles from 2024-02-05T23:00:00.000000000Z to 2024-09-25T14:00:00.000000000Z\n",
      "USD_JPY loaded 3999 candles from 2024-02-05T23:00:00.000000000Z to 2024-09-25T14:00:00.000000000Z\n",
      "USD_CHF loaded 3999 candles from 2024-02-05T23:00:00.000000000Z to 2024-09-25T14:00:00.000000000Z\n",
      "USD_CAD loaded 3999 candles from 2024-02-05T23:00:00.000000000Z to 2024-09-25T14:00:00.000000000Z\n",
      "GBP_USD loaded 3999 candles from 2024-02-05T23:00:00.000000000Z to 2024-09-25T14:00:00.000000000Z\n",
      "GBP_JPY loaded 3999 candles from 2024-02-05T23:00:00.000000000Z to 2024-09-25T14:00:00.000000000Z\n",
      "GBP_CHF loaded 3999 candles from 2024-02-05T23:00:00.000000000Z to 2024-09-25T14:00:00.000000000Z\n",
      "GBP_NZD loaded 3999 candles from 2024-02-05T23:00:00.000000000Z to 2024-09-25T14:00:00.000000000Z\n",
      "GBP_CAD loaded 3999 candles from 2024-02-05T23:00:00.000000000Z to 2024-09-25T14:00:00.000000000Z\n",
      "CHF_JPY loaded 3999 candles from 2024-02-05T23:00:00.000000000Z to 2024-09-25T14:00:00.000000000Z\n",
      "NZD_USD loaded 3999 candles from 2024-02-05T22:00:00.000000000Z to 2024-09-25T14:00:00.000000000Z\n",
      "NZD_JPY loaded 3999 candles from 2024-02-05T23:00:00.000000000Z to 2024-09-25T14:00:00.000000000Z\n",
      "NZD_CHF loaded 3999 candles from 2024-02-05T22:00:00.000000000Z to 2024-09-25T14:00:00.000000000Z\n",
      "NZD_CAD loaded 3999 candles from 2024-02-05T23:00:00.000000000Z to 2024-09-25T14:00:00.000000000Z\n",
      "CAD_JPY loaded 3999 candles from 2024-02-05T23:00:00.000000000Z to 2024-09-25T14:00:00.000000000Z\n",
      "CAD_CHF loaded 3999 candles from 2024-02-05T23:00:00.000000000Z to 2024-09-25T14:00:00.000000000Z\n"
     ]
    }
   ],
   "source": [
    "for p1 in our_curr:\n",
    "    for p2 in our_curr:\n",
    "        pair =  f\"{p1}_{p2}\"\n",
    "        if pair in ins_df.name.unique():\n",
    "          create_data(pair,\"H1\")"
   ]
  },
  {
   "cell_type": "code",
   "execution_count": null,
   "metadata": {},
   "outputs": [],
   "source": []
  },
  {
   "cell_type": "code",
   "execution_count": null,
   "metadata": {},
   "outputs": [],
   "source": []
  },
  {
   "cell_type": "code",
   "execution_count": null,
   "metadata": {},
   "outputs": [],
   "source": []
  },
  {
   "cell_type": "code",
   "execution_count": null,
   "metadata": {},
   "outputs": [],
   "source": []
  },
  {
   "cell_type": "code",
   "execution_count": 14,
   "metadata": {},
   "outputs": [
    {
     "data": {
      "text/plain": [
       "68"
      ]
     },
     "execution_count": 14,
     "metadata": {},
     "output_type": "execute_result"
    }
   ],
   "source": [
    "ins_df.shape[0]"
   ]
  },
  {
   "cell_type": "code",
   "execution_count": 15,
   "metadata": {},
   "outputs": [
    {
     "data": {
      "text/html": [
       "<div>\n",
       "<style scoped>\n",
       "    .dataframe tbody tr th:only-of-type {\n",
       "        vertical-align: middle;\n",
       "    }\n",
       "\n",
       "    .dataframe tbody tr th {\n",
       "        vertical-align: top;\n",
       "    }\n",
       "\n",
       "    .dataframe thead th {\n",
       "        text-align: right;\n",
       "    }\n",
       "</style>\n",
       "<table border=\"1\" class=\"dataframe\">\n",
       "  <thead>\n",
       "    <tr style=\"text-align: right;\">\n",
       "      <th></th>\n",
       "      <th>name</th>\n",
       "      <th>type</th>\n",
       "      <th>displayName</th>\n",
       "      <th>pipLocation</th>\n",
       "      <th>marginRate</th>\n",
       "    </tr>\n",
       "  </thead>\n",
       "  <tbody>\n",
       "    <tr>\n",
       "      <th>0</th>\n",
       "      <td>USD_CNH</td>\n",
       "      <td>CURRENCY</td>\n",
       "      <td>USD/CNH</td>\n",
       "      <td>-4</td>\n",
       "      <td>0.05</td>\n",
       "    </tr>\n",
       "    <tr>\n",
       "      <th>1</th>\n",
       "      <td>NZD_CAD</td>\n",
       "      <td>CURRENCY</td>\n",
       "      <td>NZD/CAD</td>\n",
       "      <td>-4</td>\n",
       "      <td>0.03</td>\n",
       "    </tr>\n",
       "    <tr>\n",
       "      <th>2</th>\n",
       "      <td>EUR_CHF</td>\n",
       "      <td>CURRENCY</td>\n",
       "      <td>EUR/CHF</td>\n",
       "      <td>-4</td>\n",
       "      <td>0.04</td>\n",
       "    </tr>\n",
       "    <tr>\n",
       "      <th>3</th>\n",
       "      <td>SGD_CHF</td>\n",
       "      <td>CURRENCY</td>\n",
       "      <td>SGD/CHF</td>\n",
       "      <td>-4</td>\n",
       "      <td>0.05</td>\n",
       "    </tr>\n",
       "    <tr>\n",
       "      <th>4</th>\n",
       "      <td>EUR_CZK</td>\n",
       "      <td>CURRENCY</td>\n",
       "      <td>EUR/CZK</td>\n",
       "      <td>-4</td>\n",
       "      <td>0.05</td>\n",
       "    </tr>\n",
       "    <tr>\n",
       "      <th>...</th>\n",
       "      <td>...</td>\n",
       "      <td>...</td>\n",
       "      <td>...</td>\n",
       "      <td>...</td>\n",
       "      <td>...</td>\n",
       "    </tr>\n",
       "    <tr>\n",
       "      <th>63</th>\n",
       "      <td>USD_SEK</td>\n",
       "      <td>CURRENCY</td>\n",
       "      <td>USD/SEK</td>\n",
       "      <td>-4</td>\n",
       "      <td>0.03</td>\n",
       "    </tr>\n",
       "    <tr>\n",
       "      <th>64</th>\n",
       "      <td>GBP_SGD</td>\n",
       "      <td>CURRENCY</td>\n",
       "      <td>GBP/SGD</td>\n",
       "      <td>-4</td>\n",
       "      <td>0.05</td>\n",
       "    </tr>\n",
       "    <tr>\n",
       "      <th>65</th>\n",
       "      <td>EUR_PLN</td>\n",
       "      <td>CURRENCY</td>\n",
       "      <td>EUR/PLN</td>\n",
       "      <td>-4</td>\n",
       "      <td>0.05</td>\n",
       "    </tr>\n",
       "    <tr>\n",
       "      <th>66</th>\n",
       "      <td>HKD_JPY</td>\n",
       "      <td>CURRENCY</td>\n",
       "      <td>HKD/JPY</td>\n",
       "      <td>-4</td>\n",
       "      <td>0.1</td>\n",
       "    </tr>\n",
       "    <tr>\n",
       "      <th>67</th>\n",
       "      <td>EUR_HUF</td>\n",
       "      <td>CURRENCY</td>\n",
       "      <td>EUR/HUF</td>\n",
       "      <td>-2</td>\n",
       "      <td>0.05</td>\n",
       "    </tr>\n",
       "  </tbody>\n",
       "</table>\n",
       "<p>68 rows × 5 columns</p>\n",
       "</div>"
      ],
      "text/plain": [
       "       name      type displayName  pipLocation marginRate\n",
       "0   USD_CNH  CURRENCY     USD/CNH           -4       0.05\n",
       "1   NZD_CAD  CURRENCY     NZD/CAD           -4       0.03\n",
       "2   EUR_CHF  CURRENCY     EUR/CHF           -4       0.04\n",
       "3   SGD_CHF  CURRENCY     SGD/CHF           -4       0.05\n",
       "4   EUR_CZK  CURRENCY     EUR/CZK           -4       0.05\n",
       "..      ...       ...         ...          ...        ...\n",
       "63  USD_SEK  CURRENCY     USD/SEK           -4       0.03\n",
       "64  GBP_SGD  CURRENCY     GBP/SGD           -4       0.05\n",
       "65  EUR_PLN  CURRENCY     EUR/PLN           -4       0.05\n",
       "66  HKD_JPY  CURRENCY     HKD/JPY           -4        0.1\n",
       "67  EUR_HUF  CURRENCY     EUR/HUF           -2       0.05\n",
       "\n",
       "[68 rows x 5 columns]"
      ]
     },
     "execution_count": 15,
     "metadata": {},
     "output_type": "execute_result"
    }
   ],
   "source": [
    "ins_df"
   ]
  },
  {
   "cell_type": "code",
   "execution_count": 16,
   "metadata": {},
   "outputs": [
    {
     "name": "stdout",
     "output_type": "stream",
     "text": [
      "<class 'pandas.core.frame.DataFrame'>\n",
      "RangeIndex: 68 entries, 0 to 67\n",
      "Data columns (total 5 columns):\n",
      " #   Column       Non-Null Count  Dtype \n",
      "---  ------       --------------  ----- \n",
      " 0   name         68 non-null     object\n",
      " 1   type         68 non-null     object\n",
      " 2   displayName  68 non-null     object\n",
      " 3   pipLocation  68 non-null     int64 \n",
      " 4   marginRate   68 non-null     object\n",
      "dtypes: int64(1), object(4)\n",
      "memory usage: 2.8+ KB\n"
     ]
    }
   ],
   "source": [
    "ins_df.info()\n"
   ]
  },
  {
   "cell_type": "code",
   "execution_count": 17,
   "metadata": {},
   "outputs": [
    {
     "data": {
      "text/plain": [
       "Index(['name', 'type', 'displayName', 'pipLocation', 'marginRate'], dtype='object')"
      ]
     },
     "execution_count": 17,
     "metadata": {},
     "output_type": "execute_result"
    }
   ],
   "source": [
    "ins_df.columns\n"
   ]
  },
  {
   "cell_type": "code",
   "execution_count": 18,
   "metadata": {},
   "outputs": [
    {
     "data": {
      "text/plain": [
       "0     USD_CNH\n",
       "1     NZD_CAD\n",
       "2     EUR_CHF\n",
       "3     SGD_CHF\n",
       "4     EUR_CZK\n",
       "       ...   \n",
       "63    USD_SEK\n",
       "64    GBP_SGD\n",
       "65    EUR_PLN\n",
       "66    HKD_JPY\n",
       "67    EUR_HUF\n",
       "Name: name, Length: 68, dtype: object"
      ]
     },
     "execution_count": 18,
     "metadata": {},
     "output_type": "execute_result"
    }
   ],
   "source": [
    "ins_df.name"
   ]
  },
  {
   "cell_type": "code",
   "execution_count": 19,
   "metadata": {},
   "outputs": [
    {
     "data": {
      "text/plain": [
       "<bound method Series.unique of 0     USD_CNH\n",
       "1     NZD_CAD\n",
       "2     EUR_CHF\n",
       "3     SGD_CHF\n",
       "4     EUR_CZK\n",
       "       ...   \n",
       "63    USD_SEK\n",
       "64    GBP_SGD\n",
       "65    EUR_PLN\n",
       "66    HKD_JPY\n",
       "67    EUR_HUF\n",
       "Name: name, Length: 68, dtype: object>"
      ]
     },
     "execution_count": 19,
     "metadata": {},
     "output_type": "execute_result"
    }
   ],
   "source": [
    "ins_df.name.unique"
   ]
  },
  {
   "cell_type": "code",
   "execution_count": null,
   "metadata": {},
   "outputs": [],
   "source": []
  },
  {
   "cell_type": "code",
   "execution_count": null,
   "metadata": {},
   "outputs": [],
   "source": []
  },
  {
   "cell_type": "code",
   "execution_count": null,
   "metadata": {},
   "outputs": [],
   "source": []
  },
  {
   "cell_type": "code",
   "execution_count": null,
   "metadata": {},
   "outputs": [],
   "source": []
  },
  {
   "cell_type": "code",
   "execution_count": null,
   "metadata": {},
   "outputs": [],
   "source": []
  }
 ],
 "metadata": {
  "kernelspec": {
   "display_name": ".venv",
   "language": "python",
   "name": "python3"
  },
  "language_info": {
   "codemirror_mode": {
    "name": "ipython",
    "version": 3
   },
   "file_extension": ".py",
   "mimetype": "text/x-python",
   "name": "python",
   "nbconvert_exporter": "python",
   "pygments_lexer": "ipython3",
   "version": "3.12.6"
  }
 },
 "nbformat": 4,
 "nbformat_minor": 2
}
