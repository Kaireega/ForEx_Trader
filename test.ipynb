{
 "cells": [
  {
   "cell_type": "code",
   "execution_count": 1,
   "metadata": {},
   "outputs": [],
   "source": [
    "import requests\n",
    "import defs\n",
    "import pandas as pd"
   ]
  },
  {
   "cell_type": "code",
   "execution_count": 2,
   "metadata": {},
   "outputs": [],
   "source": [
    "session = requests.Session()"
   ]
  },
  {
   "cell_type": "code",
   "execution_count": 3,
   "metadata": {},
   "outputs": [],
   "source": [
    "instrument = \"EUR_USD\"\n",
    "count = 10\n",
    "granularity = \"H1\""
   ]
  },
  {
   "cell_type": "code",
   "execution_count": 4,
   "metadata": {},
   "outputs": [
    {
     "data": {
      "text/plain": [
       "'https://api-fxpractice.oanda.com/v3/instruments/EUR_USD/candles'"
      ]
     },
     "execution_count": 4,
     "metadata": {},
     "output_type": "execute_result"
    }
   ],
   "source": [
    "url = f\"{defs.OANDA_URL}/instruments/{instrument}/candles\"\n",
    "url"
   ]
  },
  {
   "cell_type": "code",
   "execution_count": 5,
   "metadata": {},
   "outputs": [],
   "source": [
    "params = dict(\n",
    "    count = count,\n",
    "    granularity = granularity,\n",
    "    price = \"MBA\"\n",
    ")"
   ]
  },
  {
   "cell_type": "code",
   "execution_count": 6,
   "metadata": {},
   "outputs": [
    {
     "data": {
      "text/plain": [
       "{'count': 10, 'granularity': 'H1', 'price': 'MBA'}"
      ]
     },
     "execution_count": 6,
     "metadata": {},
     "output_type": "execute_result"
    }
   ],
   "source": [
    "params"
   ]
  },
  {
   "cell_type": "code",
   "execution_count": 7,
   "metadata": {},
   "outputs": [],
   "source": [
    "response = session.get(url, params=params, headers=defs.SECURE_HEADER)"
   ]
  },
  {
   "cell_type": "code",
   "execution_count": 8,
   "metadata": {},
   "outputs": [
    {
     "data": {
      "text/plain": [
       "200"
      ]
     },
     "execution_count": 8,
     "metadata": {},
     "output_type": "execute_result"
    }
   ],
   "source": [
    "response.status_code"
   ]
  },
  {
   "cell_type": "code",
   "execution_count": 9,
   "metadata": {},
   "outputs": [
    {
     "data": {
      "text/plain": [
       "{'instrument': 'EUR_USD',\n",
       " 'granularity': 'H1',\n",
       " 'candles': [{'complete': True,\n",
       "   'volume': 10509,\n",
       "   'time': '2024-09-20T15:00:00.000000000Z',\n",
       "   'bid': {'o': '1.11431', 'h': '1.11588', 'l': '1.11353', 'c': '1.11582'},\n",
       "   'mid': {'o': '1.11438', 'h': '1.11595', 'l': '1.11361', 'c': '1.11590'},\n",
       "   'ask': {'o': '1.11446', 'h': '1.11602', 'l': '1.11369', 'c': '1.11597'}},\n",
       "  {'complete': True,\n",
       "   'volume': 7541,\n",
       "   'time': '2024-09-20T16:00:00.000000000Z',\n",
       "   'bid': {'o': '1.11584', 'h': '1.11751', 'l': '1.11582', 'c': '1.11731'},\n",
       "   'mid': {'o': '1.11591', 'h': '1.11759', 'l': '1.11590', 'c': '1.11738'},\n",
       "   'ask': {'o': '1.11598', 'h': '1.11767', 'l': '1.11597', 'c': '1.11745'}},\n",
       "  {'complete': True,\n",
       "   'volume': 4886,\n",
       "   'time': '2024-09-20T17:00:00.000000000Z',\n",
       "   'bid': {'o': '1.11729', 'h': '1.11736', 'l': '1.11575', 'c': '1.11585'},\n",
       "   'mid': {'o': '1.11736', 'h': '1.11744', 'l': '1.11582', 'c': '1.11592'},\n",
       "   'ask': {'o': '1.11744', 'h': '1.11751', 'l': '1.11590', 'c': '1.11600'}},\n",
       "  {'complete': True,\n",
       "   'volume': 5106,\n",
       "   'time': '2024-09-20T18:00:00.000000000Z',\n",
       "   'bid': {'o': '1.11587', 'h': '1.11654', 'l': '1.11565', 'c': '1.11643'},\n",
       "   'mid': {'o': '1.11594', 'h': '1.11662', 'l': '1.11572', 'c': '1.11651'},\n",
       "   'ask': {'o': '1.11602', 'h': '1.11669', 'l': '1.11580', 'c': '1.11659'}},\n",
       "  {'complete': True,\n",
       "   'volume': 4100,\n",
       "   'time': '2024-09-20T19:00:00.000000000Z',\n",
       "   'bid': {'o': '1.11643', 'h': '1.11653', 'l': '1.11609', 'c': '1.11613'},\n",
       "   'mid': {'o': '1.11650', 'h': '1.11660', 'l': '1.11617', 'c': '1.11620'},\n",
       "   'ask': {'o': '1.11658', 'h': '1.11668', 'l': '1.11625', 'c': '1.11628'}},\n",
       "  {'complete': True,\n",
       "   'volume': 1921,\n",
       "   'time': '2024-09-20T20:00:00.000000000Z',\n",
       "   'bid': {'o': '1.11613', 'h': '1.11631', 'l': '1.11553', 'c': '1.11625'},\n",
       "   'mid': {'o': '1.11621', 'h': '1.11643', 'l': '1.11561', 'c': '1.11636'},\n",
       "   'ask': {'o': '1.11629', 'h': '1.11661', 'l': '1.11569', 'c': '1.11646'}},\n",
       "  {'complete': True,\n",
       "   'volume': 572,\n",
       "   'time': '2024-09-22T21:00:00.000000000Z',\n",
       "   'bid': {'o': '1.11578', 'h': '1.11638', 'l': '1.11578', 'c': '1.11602'},\n",
       "   'mid': {'o': '1.11628', 'h': '1.11662', 'l': '1.11605', 'c': '1.11624'},\n",
       "   'ask': {'o': '1.11678', 'h': '1.11686', 'l': '1.11621', 'c': '1.11645'}},\n",
       "  {'complete': True,\n",
       "   'volume': 1045,\n",
       "   'time': '2024-09-22T22:00:00.000000000Z',\n",
       "   'bid': {'o': '1.11593', 'h': '1.11640', 'l': '1.11590', 'c': '1.11614'},\n",
       "   'mid': {'o': '1.11619', 'h': '1.11648', 'l': '1.11607', 'c': '1.11622'},\n",
       "   'ask': {'o': '1.11645', 'h': '1.11657', 'l': '1.11618', 'c': '1.11630'}},\n",
       "  {'complete': True,\n",
       "   'volume': 1452,\n",
       "   'time': '2024-09-22T23:00:00.000000000Z',\n",
       "   'bid': {'o': '1.11614', 'h': '1.11631', 'l': '1.11582', 'c': '1.11583'},\n",
       "   'mid': {'o': '1.11622', 'h': '1.11639', 'l': '1.11590', 'c': '1.11591'},\n",
       "   'ask': {'o': '1.11629', 'h': '1.11647', 'l': '1.11598', 'c': '1.11599'}},\n",
       "  {'complete': False,\n",
       "   'volume': 1479,\n",
       "   'time': '2024-09-23T00:00:00.000000000Z',\n",
       "   'bid': {'o': '1.11581', 'h': '1.11600', 'l': '1.11554', 'c': '1.11573'},\n",
       "   'mid': {'o': '1.11590', 'h': '1.11608', 'l': '1.11561', 'c': '1.11581'},\n",
       "   'ask': {'o': '1.11598', 'h': '1.11616', 'l': '1.11568', 'c': '1.11589'}}]}"
      ]
     },
     "execution_count": 9,
     "metadata": {},
     "output_type": "execute_result"
    }
   ],
   "source": [
    "response.json()"
   ]
  },
  {
   "cell_type": "code",
   "execution_count": 10,
   "metadata": {},
   "outputs": [],
   "source": [
    "data = response.json()"
   ]
  },
  {
   "cell_type": "code",
   "execution_count": 11,
   "metadata": {},
   "outputs": [
    {
     "data": {
      "text/plain": [
       "dict_keys(['instrument', 'granularity', 'candles'])"
      ]
     },
     "execution_count": 11,
     "metadata": {},
     "output_type": "execute_result"
    }
   ],
   "source": [
    "data.keys()"
   ]
  },
  {
   "cell_type": "code",
   "execution_count": 12,
   "metadata": {},
   "outputs": [
    {
     "data": {
      "text/plain": [
       "10"
      ]
     },
     "execution_count": 12,
     "metadata": {},
     "output_type": "execute_result"
    }
   ],
   "source": [
    "len(data['candles'])"
   ]
  },
  {
   "cell_type": "code",
   "execution_count": 13,
   "metadata": {},
   "outputs": [],
   "source": [
    "prices = ['mid','bid','ask']\n",
    "ohlc = ['o','h','l','c']\n"
   ]
  },
  {
   "cell_type": "code",
   "execution_count": 14,
   "metadata": {},
   "outputs": [
    {
     "name": "stdout",
     "output_type": "stream",
     "text": [
      "mid_o\n",
      "mid_h\n",
      "mid_l\n",
      "mid_c\n",
      "bid_o\n",
      "bid_h\n",
      "bid_l\n",
      "bid_c\n",
      "ask_o\n",
      "ask_h\n",
      "ask_l\n",
      "ask_c\n"
     ]
    }
   ],
   "source": [
    "for price in prices:\n",
    "    for oh in ohlc:\n",
    "        print(f\"{price}_{oh}\")"
   ]
  },
  {
   "cell_type": "code",
   "execution_count": 15,
   "metadata": {},
   "outputs": [
    {
     "name": "stdout",
     "output_type": "stream",
     "text": [
      "{'time': '2024-09-20T15:00:00.000000000Z', 'volume': 10509, 'mid_o': '1.11438', 'mid_h': '1.11595', 'mid_l': '1.11361', 'mid_c': '1.11590', 'bid_o': '1.11431', 'bid_h': '1.11588', 'bid_l': '1.11353', 'bid_c': '1.11582', 'ask_o': '1.11446', 'ask_h': '1.11602', 'ask_l': '1.11369', 'ask_c': '1.11597'}\n"
     ]
    }
   ],
   "source": [
    "our_data = []\n",
    "for candle in data['candles']:\n",
    "    if candle['complete'] == False:\n",
    "        continue\n",
    "    new_dict ={}\n",
    "    new_dict['time'] = candle['time']\n",
    "    new_dict['volume'] = candle['volume']\n",
    "    our_data.append(new_dict)\n",
    "    for price in prices:\n",
    "        for oh in ohlc:\n",
    "            new_dict[f'{price}_{oh}']= candle[price][oh]\n",
    "print(our_data[0])\n"
   ]
  },
  {
   "cell_type": "code",
   "execution_count": 16,
   "metadata": {},
   "outputs": [
    {
     "data": {
      "text/html": [
       "<div>\n",
       "<style scoped>\n",
       "    .dataframe tbody tr th:only-of-type {\n",
       "        vertical-align: middle;\n",
       "    }\n",
       "\n",
       "    .dataframe tbody tr th {\n",
       "        vertical-align: top;\n",
       "    }\n",
       "\n",
       "    .dataframe thead th {\n",
       "        text-align: right;\n",
       "    }\n",
       "</style>\n",
       "<table border=\"1\" class=\"dataframe\">\n",
       "  <thead>\n",
       "    <tr style=\"text-align: right;\">\n",
       "      <th></th>\n",
       "      <th>time</th>\n",
       "      <th>volume</th>\n",
       "      <th>mid_o</th>\n",
       "      <th>mid_h</th>\n",
       "      <th>mid_l</th>\n",
       "      <th>mid_c</th>\n",
       "      <th>bid_o</th>\n",
       "      <th>bid_h</th>\n",
       "      <th>bid_l</th>\n",
       "      <th>bid_c</th>\n",
       "      <th>ask_o</th>\n",
       "      <th>ask_h</th>\n",
       "      <th>ask_l</th>\n",
       "      <th>ask_c</th>\n",
       "    </tr>\n",
       "  </thead>\n",
       "  <tbody>\n",
       "    <tr>\n",
       "      <th>0</th>\n",
       "      <td>2024-09-20T15:00:00.000000000Z</td>\n",
       "      <td>10509</td>\n",
       "      <td>1.11438</td>\n",
       "      <td>1.11595</td>\n",
       "      <td>1.11361</td>\n",
       "      <td>1.11590</td>\n",
       "      <td>1.11431</td>\n",
       "      <td>1.11588</td>\n",
       "      <td>1.11353</td>\n",
       "      <td>1.11582</td>\n",
       "      <td>1.11446</td>\n",
       "      <td>1.11602</td>\n",
       "      <td>1.11369</td>\n",
       "      <td>1.11597</td>\n",
       "    </tr>\n",
       "    <tr>\n",
       "      <th>1</th>\n",
       "      <td>2024-09-20T16:00:00.000000000Z</td>\n",
       "      <td>7541</td>\n",
       "      <td>1.11591</td>\n",
       "      <td>1.11759</td>\n",
       "      <td>1.11590</td>\n",
       "      <td>1.11738</td>\n",
       "      <td>1.11584</td>\n",
       "      <td>1.11751</td>\n",
       "      <td>1.11582</td>\n",
       "      <td>1.11731</td>\n",
       "      <td>1.11598</td>\n",
       "      <td>1.11767</td>\n",
       "      <td>1.11597</td>\n",
       "      <td>1.11745</td>\n",
       "    </tr>\n",
       "    <tr>\n",
       "      <th>2</th>\n",
       "      <td>2024-09-20T17:00:00.000000000Z</td>\n",
       "      <td>4886</td>\n",
       "      <td>1.11736</td>\n",
       "      <td>1.11744</td>\n",
       "      <td>1.11582</td>\n",
       "      <td>1.11592</td>\n",
       "      <td>1.11729</td>\n",
       "      <td>1.11736</td>\n",
       "      <td>1.11575</td>\n",
       "      <td>1.11585</td>\n",
       "      <td>1.11744</td>\n",
       "      <td>1.11751</td>\n",
       "      <td>1.11590</td>\n",
       "      <td>1.11600</td>\n",
       "    </tr>\n",
       "    <tr>\n",
       "      <th>3</th>\n",
       "      <td>2024-09-20T18:00:00.000000000Z</td>\n",
       "      <td>5106</td>\n",
       "      <td>1.11594</td>\n",
       "      <td>1.11662</td>\n",
       "      <td>1.11572</td>\n",
       "      <td>1.11651</td>\n",
       "      <td>1.11587</td>\n",
       "      <td>1.11654</td>\n",
       "      <td>1.11565</td>\n",
       "      <td>1.11643</td>\n",
       "      <td>1.11602</td>\n",
       "      <td>1.11669</td>\n",
       "      <td>1.11580</td>\n",
       "      <td>1.11659</td>\n",
       "    </tr>\n",
       "    <tr>\n",
       "      <th>4</th>\n",
       "      <td>2024-09-20T19:00:00.000000000Z</td>\n",
       "      <td>4100</td>\n",
       "      <td>1.11650</td>\n",
       "      <td>1.11660</td>\n",
       "      <td>1.11617</td>\n",
       "      <td>1.11620</td>\n",
       "      <td>1.11643</td>\n",
       "      <td>1.11653</td>\n",
       "      <td>1.11609</td>\n",
       "      <td>1.11613</td>\n",
       "      <td>1.11658</td>\n",
       "      <td>1.11668</td>\n",
       "      <td>1.11625</td>\n",
       "      <td>1.11628</td>\n",
       "    </tr>\n",
       "    <tr>\n",
       "      <th>5</th>\n",
       "      <td>2024-09-20T20:00:00.000000000Z</td>\n",
       "      <td>1921</td>\n",
       "      <td>1.11621</td>\n",
       "      <td>1.11643</td>\n",
       "      <td>1.11561</td>\n",
       "      <td>1.11636</td>\n",
       "      <td>1.11613</td>\n",
       "      <td>1.11631</td>\n",
       "      <td>1.11553</td>\n",
       "      <td>1.11625</td>\n",
       "      <td>1.11629</td>\n",
       "      <td>1.11661</td>\n",
       "      <td>1.11569</td>\n",
       "      <td>1.11646</td>\n",
       "    </tr>\n",
       "    <tr>\n",
       "      <th>6</th>\n",
       "      <td>2024-09-22T21:00:00.000000000Z</td>\n",
       "      <td>572</td>\n",
       "      <td>1.11628</td>\n",
       "      <td>1.11662</td>\n",
       "      <td>1.11605</td>\n",
       "      <td>1.11624</td>\n",
       "      <td>1.11578</td>\n",
       "      <td>1.11638</td>\n",
       "      <td>1.11578</td>\n",
       "      <td>1.11602</td>\n",
       "      <td>1.11678</td>\n",
       "      <td>1.11686</td>\n",
       "      <td>1.11621</td>\n",
       "      <td>1.11645</td>\n",
       "    </tr>\n",
       "    <tr>\n",
       "      <th>7</th>\n",
       "      <td>2024-09-22T22:00:00.000000000Z</td>\n",
       "      <td>1045</td>\n",
       "      <td>1.11619</td>\n",
       "      <td>1.11648</td>\n",
       "      <td>1.11607</td>\n",
       "      <td>1.11622</td>\n",
       "      <td>1.11593</td>\n",
       "      <td>1.11640</td>\n",
       "      <td>1.11590</td>\n",
       "      <td>1.11614</td>\n",
       "      <td>1.11645</td>\n",
       "      <td>1.11657</td>\n",
       "      <td>1.11618</td>\n",
       "      <td>1.11630</td>\n",
       "    </tr>\n",
       "    <tr>\n",
       "      <th>8</th>\n",
       "      <td>2024-09-22T23:00:00.000000000Z</td>\n",
       "      <td>1452</td>\n",
       "      <td>1.11622</td>\n",
       "      <td>1.11639</td>\n",
       "      <td>1.11590</td>\n",
       "      <td>1.11591</td>\n",
       "      <td>1.11614</td>\n",
       "      <td>1.11631</td>\n",
       "      <td>1.11582</td>\n",
       "      <td>1.11583</td>\n",
       "      <td>1.11629</td>\n",
       "      <td>1.11647</td>\n",
       "      <td>1.11598</td>\n",
       "      <td>1.11599</td>\n",
       "    </tr>\n",
       "  </tbody>\n",
       "</table>\n",
       "</div>"
      ],
      "text/plain": [
       "                             time  volume    mid_o    mid_h    mid_l    mid_c  \\\n",
       "0  2024-09-20T15:00:00.000000000Z   10509  1.11438  1.11595  1.11361  1.11590   \n",
       "1  2024-09-20T16:00:00.000000000Z    7541  1.11591  1.11759  1.11590  1.11738   \n",
       "2  2024-09-20T17:00:00.000000000Z    4886  1.11736  1.11744  1.11582  1.11592   \n",
       "3  2024-09-20T18:00:00.000000000Z    5106  1.11594  1.11662  1.11572  1.11651   \n",
       "4  2024-09-20T19:00:00.000000000Z    4100  1.11650  1.11660  1.11617  1.11620   \n",
       "5  2024-09-20T20:00:00.000000000Z    1921  1.11621  1.11643  1.11561  1.11636   \n",
       "6  2024-09-22T21:00:00.000000000Z     572  1.11628  1.11662  1.11605  1.11624   \n",
       "7  2024-09-22T22:00:00.000000000Z    1045  1.11619  1.11648  1.11607  1.11622   \n",
       "8  2024-09-22T23:00:00.000000000Z    1452  1.11622  1.11639  1.11590  1.11591   \n",
       "\n",
       "     bid_o    bid_h    bid_l    bid_c    ask_o    ask_h    ask_l    ask_c  \n",
       "0  1.11431  1.11588  1.11353  1.11582  1.11446  1.11602  1.11369  1.11597  \n",
       "1  1.11584  1.11751  1.11582  1.11731  1.11598  1.11767  1.11597  1.11745  \n",
       "2  1.11729  1.11736  1.11575  1.11585  1.11744  1.11751  1.11590  1.11600  \n",
       "3  1.11587  1.11654  1.11565  1.11643  1.11602  1.11669  1.11580  1.11659  \n",
       "4  1.11643  1.11653  1.11609  1.11613  1.11658  1.11668  1.11625  1.11628  \n",
       "5  1.11613  1.11631  1.11553  1.11625  1.11629  1.11661  1.11569  1.11646  \n",
       "6  1.11578  1.11638  1.11578  1.11602  1.11678  1.11686  1.11621  1.11645  \n",
       "7  1.11593  1.11640  1.11590  1.11614  1.11645  1.11657  1.11618  1.11630  \n",
       "8  1.11614  1.11631  1.11582  1.11583  1.11629  1.11647  1.11598  1.11599  "
      ]
     },
     "execution_count": 16,
     "metadata": {},
     "output_type": "execute_result"
    }
   ],
   "source": [
    "candles_df = pd.DataFrame.from_dict(our_data)\n",
    "candles_df"
   ]
  },
  {
   "cell_type": "code",
   "execution_count": 17,
   "metadata": {},
   "outputs": [],
   "source": [
    "candles_df.to_pickle(\"EUR_USD_H1.pkl\")"
   ]
  },
  {
   "cell_type": "markdown",
   "metadata": {},
   "source": [
    "this code below is for pyhton education"
   ]
  },
  {
   "cell_type": "code",
   "execution_count": 18,
   "metadata": {},
   "outputs": [],
   "source": [
    "class Dog():\n",
    "    def __init__(self,name, age) -> None:\n",
    "        print(\"hello\")\n",
    "        self.name = name \n",
    "        self.age = age\n",
    "\n",
    "    def __rer__(self):\n",
    "      return str(vars(self))\n",
    "    \n",
    "\n",
    "    @classmethod\n",
    "    def cls_woof(cls):\n",
    "     print(\"wood\")\n"
   ]
  },
  {
   "cell_type": "code",
   "execution_count": 19,
   "metadata": {},
   "outputs": [
    {
     "name": "stdout",
     "output_type": "stream",
     "text": [
      "hello\n",
      "hello\n"
     ]
    }
   ],
   "source": [
    "d = Dog(\"phamtom\",12)\n",
    "e = Dog(\"bobo\",2)\n"
   ]
  },
  {
   "cell_type": "code",
   "execution_count": 20,
   "metadata": {},
   "outputs": [
    {
     "data": {
      "text/plain": [
       "\"{'name': 'phamtom', 'age': 12}\""
      ]
     },
     "execution_count": 20,
     "metadata": {},
     "output_type": "execute_result"
    }
   ],
   "source": [
    "str(vars(d))"
   ]
  },
  {
   "cell_type": "code",
   "execution_count": 21,
   "metadata": {},
   "outputs": [
    {
     "name": "stdout",
     "output_type": "stream",
     "text": [
      "wood\n"
     ]
    }
   ],
   "source": [
    "Dog.cls_woof()\n"
   ]
  }
 ],
 "metadata": {
  "kernelspec": {
   "display_name": ".venv",
   "language": "python",
   "name": "python3"
  },
  "language_info": {
   "codemirror_mode": {
    "name": "ipython",
    "version": 3
   },
   "file_extension": ".py",
   "mimetype": "text/x-python",
   "name": "python",
   "nbconvert_exporter": "python",
   "pygments_lexer": "ipython3",
   "version": "3.12.6"
  }
 },
 "nbformat": 4,
 "nbformat_minor": 2
}
