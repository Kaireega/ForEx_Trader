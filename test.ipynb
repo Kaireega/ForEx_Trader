{
 "cells": [
  {
   "cell_type": "code",
   "execution_count": 130,
   "metadata": {},
   "outputs": [],
   "source": [
    "import requests\n",
    "import defs\n",
    "import pandas as pd"
   ]
  },
  {
   "cell_type": "code",
   "execution_count": 131,
   "metadata": {},
   "outputs": [],
   "source": [
    "session = requests.Session()"
   ]
  },
  {
   "cell_type": "code",
   "execution_count": 132,
   "metadata": {},
   "outputs": [],
   "source": [
    "instrument = \"EUR_USD\"\n",
    "count = 10\n",
    "granularity = \"H1\""
   ]
  },
  {
   "cell_type": "code",
   "execution_count": 133,
   "metadata": {},
   "outputs": [
    {
     "data": {
      "text/plain": [
       "'https://api-fxpractice.oanda.com/v3/instruments/EUR_USD/candles'"
      ]
     },
     "execution_count": 133,
     "metadata": {},
     "output_type": "execute_result"
    }
   ],
   "source": [
    "url = f\"{defs.OANDA_URL}/instruments/{instrument}/candles\"\n",
    "url"
   ]
  },
  {
   "cell_type": "code",
   "execution_count": 134,
   "metadata": {},
   "outputs": [],
   "source": [
    "params = dict(\n",
    "    count = count,\n",
    "    granularity = granularity,\n",
    "    price = \"MBA\"\n",
    ")"
   ]
  },
  {
   "cell_type": "code",
   "execution_count": 135,
   "metadata": {},
   "outputs": [
    {
     "data": {
      "text/plain": [
       "{'count': 10, 'granularity': 'H1', 'price': 'MBA'}"
      ]
     },
     "execution_count": 135,
     "metadata": {},
     "output_type": "execute_result"
    }
   ],
   "source": [
    "params"
   ]
  },
  {
   "cell_type": "code",
   "execution_count": 136,
   "metadata": {},
   "outputs": [],
   "source": [
    "response = session.get(url, params=params, headers=defs.SECURE_HEADER)"
   ]
  },
  {
   "cell_type": "code",
   "execution_count": 137,
   "metadata": {},
   "outputs": [
    {
     "data": {
      "text/plain": [
       "200"
      ]
     },
     "execution_count": 137,
     "metadata": {},
     "output_type": "execute_result"
    }
   ],
   "source": [
    "response.status_code"
   ]
  },
  {
   "cell_type": "code",
   "execution_count": 138,
   "metadata": {},
   "outputs": [
    {
     "data": {
      "text/plain": [
       "{'instrument': 'EUR_USD',\n",
       " 'granularity': 'H1',\n",
       " 'candles': [{'complete': True,\n",
       "   'volume': 3571,\n",
       "   'time': '2024-09-18T10:00:00.000000000Z',\n",
       "   'bid': {'o': '1.11373', 'h': '1.11380', 'l': '1.11289', 'c': '1.11293'},\n",
       "   'mid': {'o': '1.11380', 'h': '1.11388', 'l': '1.11297', 'c': '1.11300'},\n",
       "   'ask': {'o': '1.11388', 'h': '1.11396', 'l': '1.11305', 'c': '1.11308'}},\n",
       "  {'complete': True,\n",
       "   'volume': 3325,\n",
       "   'time': '2024-09-18T11:00:00.000000000Z',\n",
       "   'bid': {'o': '1.11291', 'h': '1.11295', 'l': '1.11217', 'c': '1.11237'},\n",
       "   'mid': {'o': '1.11299', 'h': '1.11302', 'l': '1.11225', 'c': '1.11245'},\n",
       "   'ask': {'o': '1.11307', 'h': '1.11309', 'l': '1.11232', 'c': '1.11253'}},\n",
       "  {'complete': True,\n",
       "   'volume': 4725,\n",
       "   'time': '2024-09-18T12:00:00.000000000Z',\n",
       "   'bid': {'o': '1.11239', 'h': '1.11279', 'l': '1.11172', 'c': '1.11215'},\n",
       "   'mid': {'o': '1.11247', 'h': '1.11286', 'l': '1.11180', 'c': '1.11222'},\n",
       "   'ask': {'o': '1.11255', 'h': '1.11295', 'l': '1.11187', 'c': '1.11230'}},\n",
       "  {'complete': True,\n",
       "   'volume': 5501,\n",
       "   'time': '2024-09-18T13:00:00.000000000Z',\n",
       "   'bid': {'o': '1.11216', 'h': '1.11391', 'l': '1.11216', 'c': '1.11346'},\n",
       "   'mid': {'o': '1.11224', 'h': '1.11398', 'l': '1.11224', 'c': '1.11354'},\n",
       "   'ask': {'o': '1.11232', 'h': '1.11406', 'l': '1.11231', 'c': '1.11362'}},\n",
       "  {'complete': True,\n",
       "   'volume': 6943,\n",
       "   'time': '2024-09-18T14:00:00.000000000Z',\n",
       "   'bid': {'o': '1.11348', 'h': '1.11355', 'l': '1.11074', 'c': '1.11174'},\n",
       "   'mid': {'o': '1.11356', 'h': '1.11363', 'l': '1.11082', 'c': '1.11181'},\n",
       "   'ask': {'o': '1.11364', 'h': '1.11371', 'l': '1.11090', 'c': '1.11188'}},\n",
       "  {'complete': True,\n",
       "   'volume': 5067,\n",
       "   'time': '2024-09-18T15:00:00.000000000Z',\n",
       "   'bid': {'o': '1.11175', 'h': '1.11213', 'l': '1.11111', 'c': '1.11150'},\n",
       "   'mid': {'o': '1.11182', 'h': '1.11220', 'l': '1.11119', 'c': '1.11158'},\n",
       "   'ask': {'o': '1.11190', 'h': '1.11228', 'l': '1.11127', 'c': '1.11166'}},\n",
       "  {'complete': True,\n",
       "   'volume': 3605,\n",
       "   'time': '2024-09-18T16:00:00.000000000Z',\n",
       "   'bid': {'o': '1.11151', 'h': '1.11254', 'l': '1.11148', 'c': '1.11235'},\n",
       "   'mid': {'o': '1.11158', 'h': '1.11262', 'l': '1.11155', 'c': '1.11242'},\n",
       "   'ask': {'o': '1.11166', 'h': '1.11271', 'l': '1.11162', 'c': '1.11250'}},\n",
       "  {'complete': True,\n",
       "   'volume': 4340,\n",
       "   'time': '2024-09-18T17:00:00.000000000Z',\n",
       "   'bid': {'o': '1.11237', 'h': '1.11298', 'l': '1.11164', 'c': '1.11233'},\n",
       "   'mid': {'o': '1.11244', 'h': '1.11306', 'l': '1.11171', 'c': '1.11270'},\n",
       "   'ask': {'o': '1.11251', 'h': '1.11314', 'l': '1.11178', 'c': '1.11308'}},\n",
       "  {'complete': True,\n",
       "   'volume': 26382,\n",
       "   'time': '2024-09-18T18:00:00.000000000Z',\n",
       "   'bid': {'o': '1.11234', 'h': '1.11884', 'l': '1.11230', 'c': '1.11481'},\n",
       "   'mid': {'o': '1.11271', 'h': '1.11892', 'l': '1.11268', 'c': '1.11489'},\n",
       "   'ask': {'o': '1.11308', 'h': '1.11900', 'l': '1.11307', 'c': '1.11497'}},\n",
       "  {'complete': False,\n",
       "   'volume': 2645,\n",
       "   'time': '2024-09-18T19:00:00.000000000Z',\n",
       "   'bid': {'o': '1.11485', 'h': '1.11485', 'l': '1.11329', 'c': '1.11345'},\n",
       "   'mid': {'o': '1.11492', 'h': '1.11492', 'l': '1.11336', 'c': '1.11352'},\n",
       "   'ask': {'o': '1.11500', 'h': '1.11500', 'l': '1.11344', 'c': '1.11360'}}]}"
      ]
     },
     "execution_count": 138,
     "metadata": {},
     "output_type": "execute_result"
    }
   ],
   "source": [
    "response.json()"
   ]
  },
  {
   "cell_type": "code",
   "execution_count": 139,
   "metadata": {},
   "outputs": [],
   "source": [
    "data = response.json()"
   ]
  },
  {
   "cell_type": "code",
   "execution_count": 140,
   "metadata": {},
   "outputs": [
    {
     "data": {
      "text/plain": [
       "dict_keys(['instrument', 'granularity', 'candles'])"
      ]
     },
     "execution_count": 140,
     "metadata": {},
     "output_type": "execute_result"
    }
   ],
   "source": [
    "data.keys()"
   ]
  },
  {
   "cell_type": "code",
   "execution_count": 141,
   "metadata": {},
   "outputs": [
    {
     "data": {
      "text/plain": [
       "10"
      ]
     },
     "execution_count": 141,
     "metadata": {},
     "output_type": "execute_result"
    }
   ],
   "source": [
    "len(data['candles'])"
   ]
  },
  {
   "cell_type": "code",
   "execution_count": 142,
   "metadata": {},
   "outputs": [],
   "source": [
    "prices = ['mid','bid','ask']\n",
    "ohlc = ['o','h','l','c']\n"
   ]
  },
  {
   "cell_type": "code",
   "execution_count": 143,
   "metadata": {},
   "outputs": [
    {
     "name": "stdout",
     "output_type": "stream",
     "text": [
      "mid_o\n",
      "mid_h\n",
      "mid_l\n",
      "mid_c\n",
      "bid_o\n",
      "bid_h\n",
      "bid_l\n",
      "bid_c\n",
      "ask_o\n",
      "ask_h\n",
      "ask_l\n",
      "ask_c\n"
     ]
    }
   ],
   "source": [
    "for price in prices:\n",
    "    for oh in ohlc:\n",
    "        print(f\"{price}_{oh}\")"
   ]
  },
  {
   "cell_type": "code",
   "execution_count": 144,
   "metadata": {},
   "outputs": [
    {
     "name": "stdout",
     "output_type": "stream",
     "text": [
      "{'time': '2024-09-18T10:00:00.000000000Z', 'volume': 3571, 'mid_o': '1.11380', 'mid_h': '1.11388', 'mid_l': '1.11297', 'mid_c': '1.11300', 'bid_o': '1.11373', 'bid_h': '1.11380', 'bid_l': '1.11289', 'bid_c': '1.11293', 'ask_o': '1.11388', 'ask_h': '1.11396', 'ask_l': '1.11305', 'ask_c': '1.11308'}\n"
     ]
    }
   ],
   "source": [
    "our_data = []\n",
    "for candle in data['candles']:\n",
    "    if candle['complete'] == False:\n",
    "        continue\n",
    "    new_dict ={}\n",
    "    new_dict['time'] = candle['time']\n",
    "    new_dict['volume'] = candle['volume']\n",
    "    our_data.append(new_dict)\n",
    "    for price in prices:\n",
    "        for oh in ohlc:\n",
    "            new_dict[f'{price}_{oh}']= candle[price][oh]\n",
    "print(our_data[0])\n"
   ]
  },
  {
   "cell_type": "code",
   "execution_count": 145,
   "metadata": {},
   "outputs": [
    {
     "data": {
      "text/html": [
       "<div>\n",
       "<style scoped>\n",
       "    .dataframe tbody tr th:only-of-type {\n",
       "        vertical-align: middle;\n",
       "    }\n",
       "\n",
       "    .dataframe tbody tr th {\n",
       "        vertical-align: top;\n",
       "    }\n",
       "\n",
       "    .dataframe thead th {\n",
       "        text-align: right;\n",
       "    }\n",
       "</style>\n",
       "<table border=\"1\" class=\"dataframe\">\n",
       "  <thead>\n",
       "    <tr style=\"text-align: right;\">\n",
       "      <th></th>\n",
       "      <th>time</th>\n",
       "      <th>volume</th>\n",
       "      <th>mid_o</th>\n",
       "      <th>mid_h</th>\n",
       "      <th>mid_l</th>\n",
       "      <th>mid_c</th>\n",
       "      <th>bid_o</th>\n",
       "      <th>bid_h</th>\n",
       "      <th>bid_l</th>\n",
       "      <th>bid_c</th>\n",
       "      <th>ask_o</th>\n",
       "      <th>ask_h</th>\n",
       "      <th>ask_l</th>\n",
       "      <th>ask_c</th>\n",
       "    </tr>\n",
       "  </thead>\n",
       "  <tbody>\n",
       "    <tr>\n",
       "      <th>0</th>\n",
       "      <td>2024-09-18T10:00:00.000000000Z</td>\n",
       "      <td>3571</td>\n",
       "      <td>1.11380</td>\n",
       "      <td>1.11388</td>\n",
       "      <td>1.11297</td>\n",
       "      <td>1.11300</td>\n",
       "      <td>1.11373</td>\n",
       "      <td>1.11380</td>\n",
       "      <td>1.11289</td>\n",
       "      <td>1.11293</td>\n",
       "      <td>1.11388</td>\n",
       "      <td>1.11396</td>\n",
       "      <td>1.11305</td>\n",
       "      <td>1.11308</td>\n",
       "    </tr>\n",
       "    <tr>\n",
       "      <th>1</th>\n",
       "      <td>2024-09-18T11:00:00.000000000Z</td>\n",
       "      <td>3325</td>\n",
       "      <td>1.11299</td>\n",
       "      <td>1.11302</td>\n",
       "      <td>1.11225</td>\n",
       "      <td>1.11245</td>\n",
       "      <td>1.11291</td>\n",
       "      <td>1.11295</td>\n",
       "      <td>1.11217</td>\n",
       "      <td>1.11237</td>\n",
       "      <td>1.11307</td>\n",
       "      <td>1.11309</td>\n",
       "      <td>1.11232</td>\n",
       "      <td>1.11253</td>\n",
       "    </tr>\n",
       "    <tr>\n",
       "      <th>2</th>\n",
       "      <td>2024-09-18T12:00:00.000000000Z</td>\n",
       "      <td>4725</td>\n",
       "      <td>1.11247</td>\n",
       "      <td>1.11286</td>\n",
       "      <td>1.11180</td>\n",
       "      <td>1.11222</td>\n",
       "      <td>1.11239</td>\n",
       "      <td>1.11279</td>\n",
       "      <td>1.11172</td>\n",
       "      <td>1.11215</td>\n",
       "      <td>1.11255</td>\n",
       "      <td>1.11295</td>\n",
       "      <td>1.11187</td>\n",
       "      <td>1.11230</td>\n",
       "    </tr>\n",
       "    <tr>\n",
       "      <th>3</th>\n",
       "      <td>2024-09-18T13:00:00.000000000Z</td>\n",
       "      <td>5501</td>\n",
       "      <td>1.11224</td>\n",
       "      <td>1.11398</td>\n",
       "      <td>1.11224</td>\n",
       "      <td>1.11354</td>\n",
       "      <td>1.11216</td>\n",
       "      <td>1.11391</td>\n",
       "      <td>1.11216</td>\n",
       "      <td>1.11346</td>\n",
       "      <td>1.11232</td>\n",
       "      <td>1.11406</td>\n",
       "      <td>1.11231</td>\n",
       "      <td>1.11362</td>\n",
       "    </tr>\n",
       "    <tr>\n",
       "      <th>4</th>\n",
       "      <td>2024-09-18T14:00:00.000000000Z</td>\n",
       "      <td>6943</td>\n",
       "      <td>1.11356</td>\n",
       "      <td>1.11363</td>\n",
       "      <td>1.11082</td>\n",
       "      <td>1.11181</td>\n",
       "      <td>1.11348</td>\n",
       "      <td>1.11355</td>\n",
       "      <td>1.11074</td>\n",
       "      <td>1.11174</td>\n",
       "      <td>1.11364</td>\n",
       "      <td>1.11371</td>\n",
       "      <td>1.11090</td>\n",
       "      <td>1.11188</td>\n",
       "    </tr>\n",
       "    <tr>\n",
       "      <th>5</th>\n",
       "      <td>2024-09-18T15:00:00.000000000Z</td>\n",
       "      <td>5067</td>\n",
       "      <td>1.11182</td>\n",
       "      <td>1.11220</td>\n",
       "      <td>1.11119</td>\n",
       "      <td>1.11158</td>\n",
       "      <td>1.11175</td>\n",
       "      <td>1.11213</td>\n",
       "      <td>1.11111</td>\n",
       "      <td>1.11150</td>\n",
       "      <td>1.11190</td>\n",
       "      <td>1.11228</td>\n",
       "      <td>1.11127</td>\n",
       "      <td>1.11166</td>\n",
       "    </tr>\n",
       "    <tr>\n",
       "      <th>6</th>\n",
       "      <td>2024-09-18T16:00:00.000000000Z</td>\n",
       "      <td>3605</td>\n",
       "      <td>1.11158</td>\n",
       "      <td>1.11262</td>\n",
       "      <td>1.11155</td>\n",
       "      <td>1.11242</td>\n",
       "      <td>1.11151</td>\n",
       "      <td>1.11254</td>\n",
       "      <td>1.11148</td>\n",
       "      <td>1.11235</td>\n",
       "      <td>1.11166</td>\n",
       "      <td>1.11271</td>\n",
       "      <td>1.11162</td>\n",
       "      <td>1.11250</td>\n",
       "    </tr>\n",
       "    <tr>\n",
       "      <th>7</th>\n",
       "      <td>2024-09-18T17:00:00.000000000Z</td>\n",
       "      <td>4340</td>\n",
       "      <td>1.11244</td>\n",
       "      <td>1.11306</td>\n",
       "      <td>1.11171</td>\n",
       "      <td>1.11270</td>\n",
       "      <td>1.11237</td>\n",
       "      <td>1.11298</td>\n",
       "      <td>1.11164</td>\n",
       "      <td>1.11233</td>\n",
       "      <td>1.11251</td>\n",
       "      <td>1.11314</td>\n",
       "      <td>1.11178</td>\n",
       "      <td>1.11308</td>\n",
       "    </tr>\n",
       "    <tr>\n",
       "      <th>8</th>\n",
       "      <td>2024-09-18T18:00:00.000000000Z</td>\n",
       "      <td>26382</td>\n",
       "      <td>1.11271</td>\n",
       "      <td>1.11892</td>\n",
       "      <td>1.11268</td>\n",
       "      <td>1.11489</td>\n",
       "      <td>1.11234</td>\n",
       "      <td>1.11884</td>\n",
       "      <td>1.11230</td>\n",
       "      <td>1.11481</td>\n",
       "      <td>1.11308</td>\n",
       "      <td>1.11900</td>\n",
       "      <td>1.11307</td>\n",
       "      <td>1.11497</td>\n",
       "    </tr>\n",
       "  </tbody>\n",
       "</table>\n",
       "</div>"
      ],
      "text/plain": [
       "                             time  volume    mid_o    mid_h    mid_l    mid_c  \\\n",
       "0  2024-09-18T10:00:00.000000000Z    3571  1.11380  1.11388  1.11297  1.11300   \n",
       "1  2024-09-18T11:00:00.000000000Z    3325  1.11299  1.11302  1.11225  1.11245   \n",
       "2  2024-09-18T12:00:00.000000000Z    4725  1.11247  1.11286  1.11180  1.11222   \n",
       "3  2024-09-18T13:00:00.000000000Z    5501  1.11224  1.11398  1.11224  1.11354   \n",
       "4  2024-09-18T14:00:00.000000000Z    6943  1.11356  1.11363  1.11082  1.11181   \n",
       "5  2024-09-18T15:00:00.000000000Z    5067  1.11182  1.11220  1.11119  1.11158   \n",
       "6  2024-09-18T16:00:00.000000000Z    3605  1.11158  1.11262  1.11155  1.11242   \n",
       "7  2024-09-18T17:00:00.000000000Z    4340  1.11244  1.11306  1.11171  1.11270   \n",
       "8  2024-09-18T18:00:00.000000000Z   26382  1.11271  1.11892  1.11268  1.11489   \n",
       "\n",
       "     bid_o    bid_h    bid_l    bid_c    ask_o    ask_h    ask_l    ask_c  \n",
       "0  1.11373  1.11380  1.11289  1.11293  1.11388  1.11396  1.11305  1.11308  \n",
       "1  1.11291  1.11295  1.11217  1.11237  1.11307  1.11309  1.11232  1.11253  \n",
       "2  1.11239  1.11279  1.11172  1.11215  1.11255  1.11295  1.11187  1.11230  \n",
       "3  1.11216  1.11391  1.11216  1.11346  1.11232  1.11406  1.11231  1.11362  \n",
       "4  1.11348  1.11355  1.11074  1.11174  1.11364  1.11371  1.11090  1.11188  \n",
       "5  1.11175  1.11213  1.11111  1.11150  1.11190  1.11228  1.11127  1.11166  \n",
       "6  1.11151  1.11254  1.11148  1.11235  1.11166  1.11271  1.11162  1.11250  \n",
       "7  1.11237  1.11298  1.11164  1.11233  1.11251  1.11314  1.11178  1.11308  \n",
       "8  1.11234  1.11884  1.11230  1.11481  1.11308  1.11900  1.11307  1.11497  "
      ]
     },
     "execution_count": 145,
     "metadata": {},
     "output_type": "execute_result"
    }
   ],
   "source": [
    "candles_df = pd.DataFrame.from_dict(our_data)\n",
    "candles_df"
   ]
  },
  {
   "cell_type": "code",
   "execution_count": 147,
   "metadata": {},
   "outputs": [],
   "source": [
    "candles_df.to_pickle(\"EUR_USD_H1.pkl\")"
   ]
  },
  {
   "cell_type": "code",
   "execution_count": null,
   "metadata": {},
   "outputs": [],
   "source": []
  },
  {
   "cell_type": "code",
   "execution_count": null,
   "metadata": {},
   "outputs": [],
   "source": []
  },
  {
   "cell_type": "code",
   "execution_count": null,
   "metadata": {},
   "outputs": [],
   "source": []
  }
 ],
 "metadata": {
  "kernelspec": {
   "display_name": ".venv",
   "language": "python",
   "name": "python3"
  },
  "language_info": {
   "codemirror_mode": {
    "name": "ipython",
    "version": 3
   },
   "file_extension": ".py",
   "mimetype": "text/x-python",
   "name": "python",
   "nbconvert_exporter": "python",
   "pygments_lexer": "ipython3",
   "version": "3.12.6"
  }
 },
 "nbformat": 4,
 "nbformat_minor": 2
}
